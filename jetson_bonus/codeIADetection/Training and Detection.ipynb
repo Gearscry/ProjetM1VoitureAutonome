{
 "cells": [
  {
   "cell_type": "markdown",
   "metadata": {
    "id": "QUANWN3rpfC9"
   },
   "source": [
    "# 0. Setup Paths"
   ]
  },
  {
   "cell_type": "code",
   "execution_count": 1,
   "metadata": {
    "id": "146BB11JpfDA"
   },
   "outputs": [],
   "source": [
    "import os"
   ]
  },
  {
   "cell_type": "code",
   "execution_count": 2,
   "metadata": {
    "id": "42hJEdo_pfDB"
   },
   "outputs": [],
   "source": [
    "CUSTOM_MODEL_NAME = 'my_ssd_mobnet' \n",
    "PRETRAINED_MODEL_NAME = 'ssd_mobilenet_v2_fpnlite_320x320_coco17_tpu-8'\n",
    "PRETRAINED_MODEL_URL = 'http://download.tensorflow.org/models/object_detection/tf2/20200711/ssd_mobilenet_v2_fpnlite_320x320_coco17_tpu-8.tar.gz'\n",
    "TF_RECORD_SCRIPT_NAME = 'generate_tfrecord.py'\n",
    "LABEL_MAP_NAME = 'label_map.pbtxt'"
   ]
  },
  {
   "cell_type": "code",
   "execution_count": 3,
   "metadata": {
    "id": "hbPhYVy_pfDB"
   },
   "outputs": [],
   "source": [
    "paths = {\n",
    "    'WORKSPACE_PATH': os.path.join('Tensorflow', 'workspace'),\n",
    "    'SCRIPTS_PATH': os.path.join('Tensorflow','scripts'),\n",
    "    'APIMODEL_PATH': os.path.join('Tensorflow','models'),\n",
    "    'ANNOTATION_PATH': os.path.join('Tensorflow', 'workspace','annotations'),\n",
    "    'IMAGE_PATH': os.path.join('Tensorflow', 'workspace','images'),\n",
    "    'MODEL_PATH': os.path.join('Tensorflow', 'workspace','models'),\n",
    "    'PRETRAINED_MODEL_PATH': os.path.join('Tensorflow', 'workspace','pre-trained-models'),\n",
    "    'CHECKPOINT_PATH': os.path.join('Tensorflow', 'workspace','models',CUSTOM_MODEL_NAME), \n",
    "    'OUTPUT_PATH': os.path.join('Tensorflow', 'workspace','models',CUSTOM_MODEL_NAME, 'export'), \n",
    "    'TFJS_PATH':os.path.join('Tensorflow', 'workspace','models',CUSTOM_MODEL_NAME, 'tfjsexport'), \n",
    "    'TFLITE_PATH':os.path.join('Tensorflow', 'workspace','models',CUSTOM_MODEL_NAME, 'tfliteexport'), \n",
    "    'PROTOC_PATH':os.path.join('Tensorflow','protoc')\n",
    " }"
   ]
  },
  {
   "cell_type": "code",
   "execution_count": 4,
   "metadata": {
    "id": "LwhWZMI0pfDC"
   },
   "outputs": [],
   "source": [
    "files = {\n",
    "    'PIPELINE_CONFIG':os.path.join('Tensorflow', 'workspace','models', CUSTOM_MODEL_NAME, 'pipeline.config'),\n",
    "    'TF_RECORD_SCRIPT': os.path.join(paths['SCRIPTS_PATH'], TF_RECORD_SCRIPT_NAME), \n",
    "    'LABELMAP': os.path.join(paths['ANNOTATION_PATH'], LABEL_MAP_NAME)\n",
    "}"
   ]
  },
  {
   "cell_type": "code",
   "execution_count": 5,
   "metadata": {
    "id": "HR-TfDGrpfDC"
   },
   "outputs": [],
   "source": [
    "for path in paths.values():\n",
    "    if not os.path.exists(path):\n",
    "        if os.name == 'posix':\n",
    "            !mkdir -p {path}\n",
    "        if os.name == 'nt':\n",
    "            !mkdir {path}"
   ]
  },
  {
   "cell_type": "markdown",
   "metadata": {
    "id": "OLU-rs_ipfDE"
   },
   "source": [
    "# 1. Download TF Models Pretrained Models from Tensorflow Model Zoo and Install TFOD"
   ]
  },
  {
   "cell_type": "code",
   "execution_count": null,
   "metadata": {},
   "outputs": [],
   "source": [
    "# https://www.tensorflow.org/install/source_windows"
   ]
  },
  {
   "cell_type": "code",
   "execution_count": 6,
   "metadata": {
    "id": "K-Cmz2edpfDE",
    "scrolled": true
   },
   "outputs": [],
   "source": [
    "if os.name=='nt':\n",
    "    !pip install wget\n",
    "    import wget"
   ]
  },
  {
   "cell_type": "code",
   "execution_count": 7,
   "metadata": {
    "id": "iA1DIq5OpfDE"
   },
   "outputs": [],
   "source": [
    "if not os.path.exists(os.path.join(paths['APIMODEL_PATH'], 'research', 'object_detection')):\n",
    "    !git clone https://github.com/tensorflow/models {paths['APIMODEL_PATH']}"
   ]
  },
  {
   "cell_type": "code",
   "execution_count": 8,
   "metadata": {
    "id": "rJjMHbnDs3Tv"
   },
   "outputs": [
    {
     "name": "stdout",
     "output_type": "stream",
     "text": [
      "Collecting protobuf-compiler\n",
      "  Using cached protobuf_compiler-1.0.20-py3-none-any.whl (8.6 kB)\n",
      "Collecting colorama==0.3.3\n",
      "  Using cached colorama-0.3.3-py3-none-any.whl\n",
      "Requirement already satisfied: termcolor==1.1.0 in ./venv/lib/python3.9/site-packages (from protobuf-compiler) (1.1.0)\n",
      "Collecting bleach==2.1.0\n",
      "  Using cached bleach-2.1-py2.py3-none-any.whl (27 kB)\n",
      "Collecting grpcio-tools==1.18.0\n",
      "  Using cached grpcio_tools-1.18.0-cp39-cp39-macosx_12_0_x86_64.whl\n",
      "Collecting grpcio==1.18.0\n",
      "  Using cached grpcio-1.18.0.tar.gz (14.6 MB)\n",
      "Collecting tqdm==4.31.1\n",
      "  Using cached tqdm-4.31.1-py2.py3-none-any.whl (48 kB)\n",
      "Requirement already satisfied: six in ./venv/lib/python3.9/site-packages (from bleach==2.1.0->protobuf-compiler) (1.16.0)\n",
      "Collecting html5lib!=1.0b1,!=1.0b2,!=1.0b3,!=1.0b4,!=1.0b5,!=1.0b6,!=1.0b7,!=1.0b8,>=0.99999999pre\n",
      "  Using cached html5lib-1.1-py2.py3-none-any.whl (112 kB)\n",
      "Requirement already satisfied: protobuf>=3.5.0.post1 in ./venv/lib/python3.9/site-packages (from grpcio-tools==1.18.0->protobuf-compiler) (3.19.4)\n",
      "Requirement already satisfied: webencodings in ./venv/lib/python3.9/site-packages (from html5lib!=1.0b1,!=1.0b2,!=1.0b3,!=1.0b4,!=1.0b5,!=1.0b6,!=1.0b7,!=1.0b8,>=0.99999999pre->bleach==2.1.0->protobuf-compiler) (0.5.1)\n",
      "Building wheels for collected packages: grpcio\n",
      "  Building wheel for grpcio (setup.py) ... \u001b[?25lerror\n",
      "\u001b[31m  ERROR: Command errored out with exit status 1:\n",
      "   command: /Users/sebastien/PycharmProjects/IAProjetM1v6/venv/bin/python -u -c 'import io, os, sys, setuptools, tokenize; sys.argv[0] = '\"'\"'/private/var/folders/wx/2pw40tpd1953pxbsb4hc0dwc0000gn/T/pip-install-48d1wjaq/grpcio_981fc7f00d0b4fad8ec22888c4963bdf/setup.py'\"'\"'; __file__='\"'\"'/private/var/folders/wx/2pw40tpd1953pxbsb4hc0dwc0000gn/T/pip-install-48d1wjaq/grpcio_981fc7f00d0b4fad8ec22888c4963bdf/setup.py'\"'\"';f = getattr(tokenize, '\"'\"'open'\"'\"', open)(__file__) if os.path.exists(__file__) else io.StringIO('\"'\"'from setuptools import setup; setup()'\"'\"');code = f.read().replace('\"'\"'\\r\\n'\"'\"', '\"'\"'\\n'\"'\"');f.close();exec(compile(code, __file__, '\"'\"'exec'\"'\"'))' bdist_wheel -d /private/var/folders/wx/2pw40tpd1953pxbsb4hc0dwc0000gn/T/pip-wheel-__mt1ekz\n",
      "       cwd: /private/var/folders/wx/2pw40tpd1953pxbsb4hc0dwc0000gn/T/pip-install-48d1wjaq/grpcio_981fc7f00d0b4fad8ec22888c4963bdf/\n",
      "  Complete output (93 lines):\n",
      "  Found cython-generated files...\n",
      "  running bdist_wheel\n",
      "  running build\n",
      "  running build_py\n",
      "  running build_project_metadata\n",
      "  creating python_build\n",
      "  creating python_build/lib.macosx-12-x86_64-3.9\n",
      "  creating python_build/lib.macosx-12-x86_64-3.9/grpc\n",
      "  copying src/python/grpcio/grpc/_channel.py -> python_build/lib.macosx-12-x86_64-3.9/grpc\n",
      "  copying src/python/grpcio/grpc/_common.py -> python_build/lib.macosx-12-x86_64-3.9/grpc\n",
      "  copying src/python/grpcio/grpc/__init__.py -> python_build/lib.macosx-12-x86_64-3.9/grpc\n",
      "  copying src/python/grpcio/grpc/_utilities.py -> python_build/lib.macosx-12-x86_64-3.9/grpc\n",
      "  copying src/python/grpcio/grpc/_plugin_wrapping.py -> python_build/lib.macosx-12-x86_64-3.9/grpc\n",
      "  copying src/python/grpcio/grpc/_interceptor.py -> python_build/lib.macosx-12-x86_64-3.9/grpc\n",
      "  copying src/python/grpcio/grpc/_grpcio_metadata.py -> python_build/lib.macosx-12-x86_64-3.9/grpc\n",
      "  copying src/python/grpcio/grpc/_server.py -> python_build/lib.macosx-12-x86_64-3.9/grpc\n",
      "  copying src/python/grpcio/grpc/_auth.py -> python_build/lib.macosx-12-x86_64-3.9/grpc\n",
      "  creating python_build/lib.macosx-12-x86_64-3.9/grpc/beta\n",
      "  copying src/python/grpcio/grpc/beta/_server_adaptations.py -> python_build/lib.macosx-12-x86_64-3.9/grpc/beta\n",
      "  copying src/python/grpcio/grpc/beta/interfaces.py -> python_build/lib.macosx-12-x86_64-3.9/grpc/beta\n",
      "  copying src/python/grpcio/grpc/beta/_metadata.py -> python_build/lib.macosx-12-x86_64-3.9/grpc/beta\n",
      "  copying src/python/grpcio/grpc/beta/__init__.py -> python_build/lib.macosx-12-x86_64-3.9/grpc/beta\n",
      "  copying src/python/grpcio/grpc/beta/utilities.py -> python_build/lib.macosx-12-x86_64-3.9/grpc/beta\n",
      "  copying src/python/grpcio/grpc/beta/implementations.py -> python_build/lib.macosx-12-x86_64-3.9/grpc/beta\n",
      "  copying src/python/grpcio/grpc/beta/_client_adaptations.py -> python_build/lib.macosx-12-x86_64-3.9/grpc/beta\n",
      "  creating python_build/lib.macosx-12-x86_64-3.9/grpc/experimental\n",
      "  copying src/python/grpcio/grpc/experimental/gevent.py -> python_build/lib.macosx-12-x86_64-3.9/grpc/experimental\n",
      "  copying src/python/grpcio/grpc/experimental/__init__.py -> python_build/lib.macosx-12-x86_64-3.9/grpc/experimental\n",
      "  copying src/python/grpcio/grpc/experimental/session_cache.py -> python_build/lib.macosx-12-x86_64-3.9/grpc/experimental\n",
      "  creating python_build/lib.macosx-12-x86_64-3.9/grpc/framework\n",
      "  copying src/python/grpcio/grpc/framework/__init__.py -> python_build/lib.macosx-12-x86_64-3.9/grpc/framework\n",
      "  creating python_build/lib.macosx-12-x86_64-3.9/grpc/_cython\n",
      "  copying src/python/grpcio/grpc/_cython/__init__.py -> python_build/lib.macosx-12-x86_64-3.9/grpc/_cython\n",
      "  creating python_build/lib.macosx-12-x86_64-3.9/grpc/framework/foundation\n",
      "  copying src/python/grpcio/grpc/framework/foundation/callable_util.py -> python_build/lib.macosx-12-x86_64-3.9/grpc/framework/foundation\n",
      "  copying src/python/grpcio/grpc/framework/foundation/abandonment.py -> python_build/lib.macosx-12-x86_64-3.9/grpc/framework/foundation\n",
      "  copying src/python/grpcio/grpc/framework/foundation/__init__.py -> python_build/lib.macosx-12-x86_64-3.9/grpc/framework/foundation\n",
      "  copying src/python/grpcio/grpc/framework/foundation/stream.py -> python_build/lib.macosx-12-x86_64-3.9/grpc/framework/foundation\n",
      "  copying src/python/grpcio/grpc/framework/foundation/stream_util.py -> python_build/lib.macosx-12-x86_64-3.9/grpc/framework/foundation\n",
      "  copying src/python/grpcio/grpc/framework/foundation/future.py -> python_build/lib.macosx-12-x86_64-3.9/grpc/framework/foundation\n",
      "  copying src/python/grpcio/grpc/framework/foundation/logging_pool.py -> python_build/lib.macosx-12-x86_64-3.9/grpc/framework/foundation\n",
      "  creating python_build/lib.macosx-12-x86_64-3.9/grpc/framework/common\n",
      "  copying src/python/grpcio/grpc/framework/common/style.py -> python_build/lib.macosx-12-x86_64-3.9/grpc/framework/common\n",
      "  copying src/python/grpcio/grpc/framework/common/cardinality.py -> python_build/lib.macosx-12-x86_64-3.9/grpc/framework/common\n",
      "  copying src/python/grpcio/grpc/framework/common/__init__.py -> python_build/lib.macosx-12-x86_64-3.9/grpc/framework/common\n",
      "  creating python_build/lib.macosx-12-x86_64-3.9/grpc/framework/interfaces\n",
      "  copying src/python/grpcio/grpc/framework/interfaces/__init__.py -> python_build/lib.macosx-12-x86_64-3.9/grpc/framework/interfaces\n",
      "  creating python_build/lib.macosx-12-x86_64-3.9/grpc/framework/interfaces/face\n",
      "  copying src/python/grpcio/grpc/framework/interfaces/face/__init__.py -> python_build/lib.macosx-12-x86_64-3.9/grpc/framework/interfaces/face\n",
      "  copying src/python/grpcio/grpc/framework/interfaces/face/utilities.py -> python_build/lib.macosx-12-x86_64-3.9/grpc/framework/interfaces/face\n",
      "  copying src/python/grpcio/grpc/framework/interfaces/face/face.py -> python_build/lib.macosx-12-x86_64-3.9/grpc/framework/interfaces/face\n",
      "  creating python_build/lib.macosx-12-x86_64-3.9/grpc/framework/interfaces/base\n",
      "  copying src/python/grpcio/grpc/framework/interfaces/base/__init__.py -> python_build/lib.macosx-12-x86_64-3.9/grpc/framework/interfaces/base\n",
      "  copying src/python/grpcio/grpc/framework/interfaces/base/utilities.py -> python_build/lib.macosx-12-x86_64-3.9/grpc/framework/interfaces/base\n",
      "  copying src/python/grpcio/grpc/framework/interfaces/base/base.py -> python_build/lib.macosx-12-x86_64-3.9/grpc/framework/interfaces/base\n",
      "  creating python_build/lib.macosx-12-x86_64-3.9/grpc/_cython/_cygrpc\n",
      "  copying src/python/grpcio/grpc/_cython/_cygrpc/__init__.py -> python_build/lib.macosx-12-x86_64-3.9/grpc/_cython/_cygrpc\n",
      "  creating python_build/lib.macosx-12-x86_64-3.9/grpc/_cython/_credentials\n",
      "  copying src/python/grpcio/grpc/_cython/_credentials/roots.pem -> python_build/lib.macosx-12-x86_64-3.9/grpc/_cython/_credentials\n",
      "  running build_ext\n",
      "  b\"[C]       Compiling third_party/zlib/adler32.c\\n[C]       Compiling third_party/zlib/compress.c\\n[C]       Compiling third_party/zlib/crc32.c\\n[C]       Compiling third_party/zlib/deflate.c\\n[C]       Compiling third_party/zlib/gzclose.c\\n[C]       Compiling third_party/zlib/gzlib.c\\n[C]       Compiling third_party/zlib/gzread.c\\n[C]       Compiling third_party/zlib/gzwrite.c\\n[C]       Compiling third_party/zlib/infback.c\\n[C]       Compiling third_party/zlib/inffast.c\\n[C]       Compiling third_party/zlib/inflate.c\\n[C]       Compiling third_party/zlib/inftrees.c\\n[C]       Compiling third_party/zlib/trees.c\\n[C]       Compiling third_party/zlib/uncompr.c\\n[C]       Compiling third_party/zlib/zutil.c\\n[AR]      Creating /private/var/folders/wx/2pw40tpd1953pxbsb4hc0dwc0000gn/T/pip-install-48d1wjaq/grpcio_981fc7f00d0b4fad8ec22888c4963bdf/libs/opt/libz.a\\n[C]       Compiling third_party/cares/cares/ares__close_sockets.c\\n[C]       Compiling third_party/cares/cares/ares__get_hostent.c\\n[C]       Compiling third_party/cares/cares/ares__read_line.c\\n[C]       Compiling third_party/cares/cares/ares__timeval.c\\n[C]       Compiling third_party/cares/cares/ares_cancel.c\\n[C]       Compiling third_party/cares/cares/ares_create_query.c\\n[C]       Compiling third_party/cares/cares/ares_data.c\\n[C]       Compiling third_party/cares/cares/ares_destroy.c\\n[C]       Compiling third_party/cares/cares/ares_expand_name.c\\n[C]       Compiling third_party/cares/cares/ares_expand_string.c\\n[C]       Compiling third_party/cares/cares/ares_fds.c\\n[C]       Compiling third_party/cares/cares/ares_free_hostent.c\\n[C]       Compiling third_party/cares/cares/ares_free_string.c\\n[C]       Compiling third_party/cares/cares/ares_getenv.c\\n[C]       Compiling third_party/cares/cares/ares_gethostbyaddr.c\\n[C]       Compiling third_party/cares/cares/ares_gethostbyname.c\\n[C]       Compiling third_party/cares/cares/ares_getnameinfo.c\\n[C]       Compiling third_party/cares/cares/ares_getopt.c\\n[C]       Compiling third_party/cares/cares/ares_getsock.c\\n[C]       Compiling third_party/cares/cares/ares_init.c\\n[C]       Compiling third_party/cares/cares/ares_library_init.c\\n[C]       Compiling third_party/cares/cares/ares_llist.c\\n[C]       Compiling third_party/cares/cares/ares_mkquery.c\\n[C]       Compiling third_party/cares/cares/ares_nowarn.c\\n[C]       Compiling third_party/cares/cares/ares_options.c\\n[C]       Compiling third_party/cares/cares/ares_parse_a_reply.c\\n[C]       Compiling third_party/cares/cares/ares_parse_aaaa_reply.c\\n[C]       Compiling third_party/cares/cares/ares_parse_mx_reply.c\\n[C]       Compiling third_party/cares/cares/ares_parse_naptr_reply.c\\n[C]       Compiling third_party/cares/cares/ares_parse_ns_reply.c\\n[C]       Compiling third_party/cares/cares/ares_parse_ptr_reply.c\\n[C]       Compiling third_party/cares/cares/ares_parse_soa_reply.c\\n[C]       Compiling third_party/cares/cares/ares_parse_srv_reply.c\\n[C]       Compiling third_party/cares/cares/ares_parse_txt_reply.c\\n[C]       Compiling third_party/cares/cares/ares_platform.c\\n[C]       Compiling third_party/cares/cares/ares_process.c\\n[C]       Compiling third_party/cares/cares/ares_query.c\\n[C]       Compiling third_party/cares/cares/ares_search.c\\n[C]       Compiling third_party/cares/cares/ares_send.c\\n[C]       Compiling third_party/cares/cares/ares_strcasecmp.c\\n[C]       Compiling third_party/cares/cares/ares_strdup.c\\n[C]       Compiling third_party/cares/cares/ares_strerror.c\\n[C]       Compiling third_party/cares/cares/ares_timeout.c\\n[C]       Compiling third_party/cares/cares/ares_version.c\\n[C]       Compiling third_party/cares/cares/ares_writev.c\\n[C]       Compiling third_party/cares/cares/bitncmp.c\\n[C]       Compiling third_party/cares/cares/inet_net_pton.c\\n[C]       Compiling third_party/cares/cares/inet_ntop.c\\n[C]       Compiling third_party/cares/cares/windows_port.c\\n[AR]      Creating /private/var/folders/wx/2pw40tpd1953pxbsb4hc0dwc0000gn/T/pip-install-48d1wjaq/grpcio_981fc7f00d0b4fad8ec22888c4963bdf/libs/opt/libares.a\\n[C]       Compiling third_party/address_sorting/address_sorting.c\\n[C]       Compiling third_party/address_sorting/address_sorting_posix.c\\n[C]       Compiling third_party/address_sorting/address_sorting_windows.c\\n[AR]      Creating /private/var/folders/wx/2pw40tpd1953pxbsb4hc0dwc0000gn/T/pip-install-48d1wjaq/grpcio_981fc7f00d0b4fad8ec22888c4963bdf/libs/opt/libaddress_sorting.a\\n[C]       Compiling src/boringssl/err_data.c\\n[C]       Compiling third_party/boringssl/crypto/asn1/a_bitstr.c\\n[C]       Compiling third_party/boringssl/crypto/asn1/a_bool.c\\n[C]       Compiling third_party/boringssl/crypto/asn1/a_d2i_fp.c\\n[C]       Compiling third_party/boringssl/crypto/asn1/a_dup.c\\n[C]       Compiling third_party/boringssl/crypto/asn1/a_enum.c\\n[C]       Compiling third_party/boringssl/crypto/asn1/a_gentm.c\\n[C]       Compiling third_party/boringssl/crypto/asn1/a_i2d_fp.c\\n[C]       Compiling third_party/boringssl/crypto/asn1/a_int.c\\n[C]       Compiling third_party/boringssl/crypto/asn1/a_mbstr.c\\n[C]       Compiling third_party/boringssl/crypto/asn1/a_object.c\\n[C]       Compiling third_party/boringssl/crypto/asn1/a_octet.c\\n[C]       Compiling third_party/boringssl/crypto/asn1/a_print.c\\n[C]       Compiling third_party/boringssl/crypto/asn1/a_strnid.c\\n[C]       Compiling third_party/boringssl/crypto/asn1/a_time.c\\n[C]       Compiling third_party/boringssl/crypto/asn1/a_type.c\\n[C]       Compiling third_party/boringssl/crypto/asn1/a_utctm.c\\n[C]       Compiling third_party/boringssl/crypto/asn1/a_utf8.c\\n[C]       Compiling third_party/boringssl/crypto/asn1/asn1_lib.c\\n[C]       Compiling third_party/boringssl/crypto/asn1/asn1_par.c\\n[C]       Compiling third_party/boringssl/crypto/asn1/asn_pack.c\\n[C]       Compiling third_party/boringssl/crypto/asn1/f_enum.c\\n[C]       Compiling third_party/boringssl/crypto/asn1/f_int.c\\n[C]       Compiling third_party/boringssl/crypto/asn1/f_string.c\\n[C]       Compiling third_party/boringssl/crypto/asn1/tasn_dec.c\\n[C]       Compiling third_party/boringssl/crypto/asn1/tasn_enc.c\\n[C]       Compiling third_party/boringssl/crypto/asn1/tasn_fre.c\\n[C]       Compiling third_party/boringssl/crypto/asn1/tasn_new.c\\n[C]       Compiling third_party/boringssl/crypto/asn1/tasn_typ.c\\n[C]       Compiling third_party/boringssl/crypto/asn1/tasn_utl.c\\n[C]       Compiling third_party/boringssl/crypto/asn1/time_support.c\\n[C]       Compiling third_party/boringssl/crypto/base64/base64.c\\n[C]       Compiling third_party/boringssl/crypto/bio/bio.c\\n[C]       Compiling third_party/boringssl/crypto/bio/bio_mem.c\\n[C]       Compiling third_party/boringssl/crypto/bio/connect.c\\n[C]       Compiling third_party/boringssl/crypto/bio/fd.c\\n[C]       Compiling third_party/boringssl/crypto/bio/file.c\\n[C]       Compiling third_party/boringssl/crypto/bio/hexdump.c\\n[C]       Compiling third_party/boringssl/crypto/bio/pair.c\\n[C]       Compiling third_party/boringssl/crypto/bio/printf.c\\n[C]       Compiling third_party/boringssl/crypto/bio/socket.c\\n[C]       Compiling third_party/boringssl/crypto/bio/socket_helper.c\\n[C]       Compiling third_party/boringssl/crypto/bn_extra/bn_asn1.c\\n[C]       Compiling third_party/boringssl/crypto/bn_extra/convert.c\\n[C]       Compiling third_party/boringssl/crypto/buf/buf.c\\n[C]       Compiling third_party/boringssl/crypto/bytestring/asn1_compat.c\\n[C]       Compiling third_party/boringssl/crypto/bytestring/ber.c\\n[C]       Compiling third_party/boringssl/crypto/bytestring/cbb.c\\n[C]       Compiling third_party/boringssl/crypto/bytestring/cbs.c\\n[C]       Compiling third_party/boringssl/crypto/chacha/chacha.c\\n[C]       Compiling third_party/boringssl/crypto/cipher_extra/cipher_extra.c\\n[C]       Compiling third_party/boringssl/crypto/cipher_extra/derive_key.c\\n[C]       Compiling third_party/boringssl/crypto/cipher_extra/e_aesccm.c\\n[C]       Compiling third_party/boringssl/crypto/cipher_extra/e_aesctrhmac.c\\n[C]       Compiling third_party/boringssl/crypto/cipher_extra/e_aesgcmsiv.c\\n[C]       Compiling third_party/boringssl/crypto/cipher_extra/e_chacha20poly1305.c\\n[C]       Compiling third_party/boringssl/crypto/cipher_extra/e_null.c\\n[C]       Compiling third_party/boringssl/crypto/cipher_extra/e_rc2.c\\n[C]       Compiling third_party/boringssl/crypto/cipher_extra/e_rc4.c\\n[C]       Compiling third_party/boringssl/crypto/cipher_extra/e_ssl3.c\\n[C]       Compiling third_party/boringssl/crypto/cipher_extra/e_tls.c\\n[C]       Compiling third_party/boringssl/crypto/cipher_extra/tls_cbc.c\\n[C]       Compiling third_party/boringssl/crypto/cmac/cmac.c\\n[C]       Compiling third_party/boringssl/crypto/conf/conf.c\\n[C]       Compiling third_party/boringssl/crypto/cpu-aarch64-fuchsia.c\\n[C]       Compiling third_party/boringssl/crypto/cpu-aarch64-linux.c\\n[C]       Compiling third_party/boringssl/crypto/cpu-arm-linux.c\\n[C]       Compiling third_party/boringssl/crypto/cpu-arm.c\\n[C]       Compiling third_party/boringssl/crypto/cpu-intel.c\\n[C]       Compiling third_party/boringssl/crypto/cpu-ppc64le.c\\n[C]       Compiling third_party/boringssl/crypto/crypto.c\\n[C]       Compiling third_party/boringssl/crypto/curve25519/spake25519.c\\n[C]       Compiling third_party/boringssl/crypto/dh/check.c\\n[C]       Compiling third_party/boringssl/crypto/dh/dh.c\\n[C]       Compiling third_party/boringssl/crypto/dh/dh_asn1.c\\n[C]       Compiling third_party/boringssl/crypto/dh/params.c\\n[C]       Compiling third_party/boringssl/crypto/digest_extra/digest_extra.c\\n[C]       Compiling third_party/boringssl/crypto/dsa/dsa.c\\n[C]       Compiling third_party/boringssl/crypto/dsa/dsa_asn1.c\\n[C]       Compiling third_party/boringssl/crypto/ec_extra/ec_asn1.c\\n[C]       Compiling third_party/boringssl/crypto/ecdh/ecdh.c\\n[C]       Compiling third_party/boringssl/crypto/ecdsa_extra/ecdsa_asn1.c\\n[C]       Compiling third_party/boringssl/crypto/engine/engine.c\\n[C]       Compiling third_party/boringssl/crypto/err/err.c\\n[C]       Compiling third_party/boringssl/crypto/evp/digestsign.c\\n[C]       Compiling third_party/boringssl/crypto/evp/evp.c\\n[C]       Compiling third_party/boringssl/crypto/evp/evp_asn1.c\\n[C]       Compiling third_party/boringssl/crypto/evp/evp_ctx.c\\n[C]       Compiling third_party/boringssl/crypto/evp/p_dsa_asn1.c\\n[C]       Compiling third_party/boringssl/crypto/evp/p_ec.c\\n[C]       Compiling third_party/boringssl/crypto/evp/p_ec_asn1.c\\n[C]       Compiling third_party/boringssl/crypto/evp/p_ed25519.c\\n[C]       Compiling third_party/boringssl/crypto/evp/p_ed25519_asn1.c\\n[C]       Compiling third_party/boringssl/crypto/evp/p_rsa.c\\n[C]       Compiling third_party/boringssl/crypto/evp/p_rsa_asn1.c\\n[C]       Compiling third_party/boringssl/crypto/evp/pbkdf.c\\n[C]       Compiling third_party/boringssl/crypto/evp/print.c\\n[C]       Compiling third_party/boringssl/crypto/evp/scrypt.c\\n[C]       Compiling third_party/boringssl/crypto/evp/sign.c\\n[C]       Compiling third_party/boringssl/crypto/ex_data.c\\n[C]       Compiling third_party/boringssl/crypto/fipsmodule/bcm.c\\n[C]       Compiling third_party/boringssl/crypto/fipsmodule/is_fips.c\\n[C]       Compiling third_party/boringssl/crypto/hkdf/hkdf.c\\n[C]       Compiling third_party/boringssl/crypto/lhash/lhash.c\\n[C]       Compiling third_party/boringssl/crypto/mem.c\\n[C]       Compiling third_party/boringssl/crypto/obj/obj.c\\n[C]       Compiling third_party/boringssl/crypto/obj/obj_xref.c\\n[C]       Compiling third_party/boringssl/crypto/pem/pem_all.c\\n[C]       Compiling third_party/boringssl/crypto/pem/pem_info.c\\n[C]       Compiling third_party/boringssl/crypto/pem/pem_lib.c\\n[C]       Compiling third_party/boringssl/crypto/pem/pem_oth.c\\n[C]       Compiling third_party/boringssl/crypto/pem/pem_pk8.c\\n[C]       Compiling third_party/boringssl/crypto/pem/pem_pkey.c\\n[C]       Compiling third_party/boringssl/crypto/pem/pem_x509.c\\n[C]       Compiling third_party/boringssl/crypto/pem/pem_xaux.c\\n[C]       Compiling third_party/boringssl/crypto/pkcs7/pkcs7.c\\n[C]       Compiling third_party/boringssl/crypto/pkcs7/pkcs7_x509.c\\n[C]       Compiling third_party/boringssl/crypto/pkcs8/p5_pbev2.c\\n[C]       Compiling third_party/boringssl/crypto/pkcs8/pkcs8.c\\n[C]       Compiling third_party/boringssl/crypto/pkcs8/pkcs8_x509.c\\n[C]       Compiling third_party/boringssl/crypto/poly1305/poly1305.c\\n[C]       Compiling third_party/boringssl/crypto/poly1305/poly1305_arm.c\\n[C]       Compiling third_party/boringssl/crypto/poly1305/poly1305_vec.c\\n[C]       Compiling third_party/boringssl/crypto/pool/pool.c\\n[C]       Compiling third_party/boringssl/crypto/rand_extra/deterministic.c\\n[C]       Compiling third_party/boringssl/crypto/rand_extra/forkunsafe.c\\n[C]       Compiling third_party/boringssl/crypto/rand_extra/fuchsia.c\\n[C]       Compiling third_party/boringssl/crypto/rand_extra/rand_extra.c\\n[C]       Compiling third_party/boringssl/crypto/rand_extra/windows.c\\n[C]       Compiling third_party/boringssl/crypto/rc4/rc4.c\\n[C]       Compiling third_party/boringssl/crypto/refcount_c11.c\\n[C]       Compiling third_party/boringssl/crypto/refcount_lock.c\\n[C]       Compiling third_party/boringssl/crypto/rsa_extra/rsa_asn1.c\\n[C]       Compiling third_party/boringssl/crypto/stack/stack.c\\n[C]       Compiling third_party/boringssl/crypto/thread.c\\n[C]       Compiling third_party/boringssl/crypto/thread_none.c\\n[C]       Compiling third_party/boringssl/crypto/thread_pthread.c\\n[C]       Compiling third_party/boringssl/crypto/thread_win.c\\n[C]       Compiling third_party/boringssl/crypto/x509/a_digest.c\\n[C]       Compiling third_party/boringssl/crypto/x509/a_sign.c\\n[C]       Compiling third_party/boringssl/crypto/x509/a_strex.c\\n[C]       Compiling third_party/boringssl/crypto/x509/a_verify.c\\n[C]       Compiling third_party/boringssl/crypto/x509/algorithm.c\\n[C]       Compiling third_party/boringssl/crypto/x509/asn1_gen.c\\n[C]       Compiling third_party/boringssl/crypto/x509/by_dir.c\\n[C]       Compiling third_party/boringssl/crypto/x509/by_file.c\\n[C]       Compiling third_party/boringssl/crypto/x509/i2d_pr.c\\n[C]       Compiling third_party/boringssl/crypto/x509/rsa_pss.c\\n[C]       Compiling third_party/boringssl/crypto/x509/t_crl.c\\n[C]       Compiling third_party/boringssl/crypto/x509/t_req.c\\n[C]       Compiling third_party/boringssl/crypto/x509/t_x509.c\\n[C]       Compiling third_party/boringssl/crypto/x509/t_x509a.c\\n[C]       Compiling third_party/boringssl/crypto/x509/x509.c\\n[C]       Compiling third_party/boringssl/crypto/x509/x509_att.c\\n[C]       Compiling third_party/boringssl/crypto/x509/x509_cmp.c\\n[C]       Compiling third_party/boringssl/crypto/x509/x509_d2.c\\n[C]       Compiling third_party/boringssl/crypto/x509/x509_def.c\\n[C]       Compiling third_party/boringssl/crypto/x509/x509_ext.c\\n[C]       Compiling third_party/boringssl/crypto/x509/x509_lu.c\\n[C]       Compiling third_party/boringssl/crypto/x509/x509_obj.c\\n[C]       Compiling third_party/boringssl/crypto/x509/x509_r2x.c\\n[C]       Compiling third_party/boringssl/crypto/x509/x509_req.c\\n[C]       Compiling third_party/boringssl/crypto/x509/x509_set.c\\n[C]       Compiling third_party/boringssl/crypto/x509/x509_trs.c\\n[C]       Compiling third_party/boringssl/crypto/x509/x509_txt.c\\n[C]       Compiling third_party/boringssl/crypto/x509/x509_v3.c\\n[C]       Compiling third_party/boringssl/crypto/x509/x509_vfy.c\\n[C]       Compiling third_party/boringssl/crypto/x509/x509_vpm.c\\n[C]       Compiling third_party/boringssl/crypto/x509/x509cset.c\\n[C]       Compiling third_party/boringssl/crypto/x509/x509name.c\\n[C]       Compiling third_party/boringssl/crypto/x509/x509rset.c\\n[C]       Compiling third_party/boringssl/crypto/x509/x509spki.c\\n[C]       Compiling third_party/boringssl/crypto/x509/x_algor.c\\n[C]       Compiling third_party/boringssl/crypto/x509/x_all.c\\n[C]       Compiling third_party/boringssl/crypto/x509/x_attrib.c\\n[C]       Compiling third_party/boringssl/crypto/x509/x_crl.c\\n[C]       Compiling third_party/boringssl/crypto/x509/x_exten.c\\n[C]       Compiling third_party/boringssl/crypto/x509/x_info.c\\n[C]       Compiling third_party/boringssl/crypto/x509/x_name.c\\n[C]       Compiling third_party/boringssl/crypto/x509/x_pkey.c\\n[C]       Compiling third_party/boringssl/crypto/x509/x_pubkey.c\\n[C]       Compiling third_party/boringssl/crypto/x509/x_req.c\\n[C]       Compiling third_party/boringssl/crypto/x509/x_sig.c\\n[C]       Compiling third_party/boringssl/crypto/x509/x_spki.c\\n[C]       Compiling third_party/boringssl/crypto/x509/x_val.c\\n[C]       Compiling third_party/boringssl/crypto/x509/x_x509.c\\n[C]       Compiling third_party/boringssl/crypto/x509/x_x509a.c\\n[C]       Compiling third_party/boringssl/crypto/x509v3/pcy_cache.c\\n[C]       Compiling third_party/boringssl/crypto/x509v3/pcy_data.c\\n[C]       Compiling third_party/boringssl/crypto/x509v3/pcy_lib.c\\n[C]       Compiling third_party/boringssl/crypto/x509v3/pcy_map.c\\n[C]       Compiling third_party/boringssl/crypto/x509v3/pcy_node.c\\n[C]       Compiling third_party/boringssl/crypto/x509v3/pcy_tree.c\\n[C]       Compiling third_party/boringssl/crypto/x509v3/v3_akey.c\\n[C]       Compiling third_party/boringssl/crypto/x509v3/v3_akeya.c\\n[C]       Compiling third_party/boringssl/crypto/x509v3/v3_alt.c\\n[C]       Compiling third_party/boringssl/crypto/x509v3/v3_bcons.c\\n[C]       Compiling third_party/boringssl/crypto/x509v3/v3_bitst.c\\n[C]       Compiling third_party/boringssl/crypto/x509v3/v3_conf.c\\n[C]       Compiling third_party/boringssl/crypto/x509v3/v3_cpols.c\\n[C]       Compiling third_party/boringssl/crypto/x509v3/v3_crld.c\\n[C]       Compiling third_party/boringssl/crypto/x509v3/v3_enum.c\\n[C]       Compiling third_party/boringssl/crypto/x509v3/v3_extku.c\\n[C]       Compiling third_party/boringssl/crypto/x509v3/v3_genn.c\\n[C]       Compiling third_party/boringssl/crypto/x509v3/v3_ia5.c\\n[C]       Compiling third_party/boringssl/crypto/x509v3/v3_info.c\\n[C]       Compiling third_party/boringssl/crypto/x509v3/v3_int.c\\n[C]       Compiling third_party/boringssl/crypto/x509v3/v3_lib.c\\n[C]       Compiling third_party/boringssl/crypto/x509v3/v3_ncons.c\\n[C]       Compiling third_party/boringssl/crypto/x509v3/v3_pci.c\\n[C]       Compiling third_party/boringssl/crypto/x509v3/v3_pcia.c\\n[C]       Compiling third_party/boringssl/crypto/x509v3/v3_pcons.c\\n[C]       Compiling third_party/boringssl/crypto/x509v3/v3_pku.c\\n[C]       Compiling third_party/boringssl/crypto/x509v3/v3_pmaps.c\\n[C]       Compiling third_party/boringssl/crypto/x509v3/v3_prn.c\\n[C]       Compiling third_party/boringssl/crypto/x509v3/v3_purp.c\\n[C]       Compiling third_party/boringssl/crypto/x509v3/v3_skey.c\\n[C]       Compiling third_party/boringssl/crypto/x509v3/v3_sxnet.c\\n[C]       Compiling third_party/boringssl/crypto/x509v3/v3_utl.c\\n[CXX]     Compiling third_party/boringssl/ssl/bio_ssl.cc\\n[CXX]     Compiling third_party/boringssl/ssl/custom_extensions.cc\\n[CXX]     Compiling third_party/boringssl/ssl/d1_both.cc\\n[CXX]     Compiling third_party/boringssl/ssl/d1_lib.cc\\n[CXX]     Compiling third_party/boringssl/ssl/d1_pkt.cc\\n[CXX]     Compiling third_party/boringssl/ssl/d1_srtp.cc\\n[CXX]     Compiling third_party/boringssl/ssl/dtls_method.cc\\n[CXX]     Compiling third_party/boringssl/ssl/dtls_record.cc\\n[CXX]     Compiling third_party/boringssl/ssl/handoff.cc\\n[CXX]     Compiling third_party/boringssl/ssl/handshake.cc\\n[CXX]     Compiling third_party/boringssl/ssl/handshake_client.cc\\n[CXX]     Compiling third_party/boringssl/ssl/handshake_server.cc\\n[CXX]     Compiling third_party/boringssl/ssl/s3_both.cc\\n[CXX]     Compiling third_party/boringssl/ssl/s3_lib.cc\\n[CXX]     Compiling third_party/boringssl/ssl/s3_pkt.cc\\n[CXX]     Compiling third_party/boringssl/ssl/ssl_aead_ctx.cc\\n[CXX]     Compiling third_party/boringssl/ssl/ssl_asn1.cc\\n[CXX]     Compiling third_party/boringssl/ssl/ssl_buffer.cc\\n[CXX]     Compiling third_party/boringssl/ssl/ssl_cert.cc\\n[CXX]     Compiling third_party/boringssl/ssl/ssl_cipher.cc\\n[CXX]     Compiling third_party/boringssl/ssl/ssl_file.cc\\n[CXX]     Compiling third_party/boringssl/ssl/ssl_key_share.cc\\n[CXX]     Compiling third_party/boringssl/ssl/ssl_lib.cc\\n[CXX]     Compiling third_party/boringssl/ssl/ssl_privkey.cc\\n[CXX]     Compiling third_party/boringssl/ssl/ssl_session.cc\\n[CXX]     Compiling third_party/boringssl/ssl/ssl_stat.cc\\n[CXX]     Compiling third_party/boringssl/ssl/ssl_transcript.cc\\n[CXX]     Compiling third_party/boringssl/ssl/ssl_versions.cc\\n[CXX]     Compiling third_party/boringssl/ssl/ssl_x509.cc\\n[CXX]     Compiling third_party/boringssl/ssl/t1_enc.cc\\n[CXX]     Compiling third_party/boringssl/ssl/t1_lib.cc\\n[CXX]     Compiling third_party/boringssl/ssl/tls13_both.cc\\n[CXX]     Compiling third_party/boringssl/ssl/tls13_client.cc\\n[CXX]     Compiling third_party/boringssl/ssl/tls13_enc.cc\\n[CXX]     Compiling third_party/boringssl/ssl/tls13_server.cc\\n[CXX]     Compiling third_party/boringssl/ssl/tls_method.cc\\n[CXX]     Compiling third_party/boringssl/ssl/tls_record.cc\\n[C]       Compiling third_party/boringssl/third_party/fiat/curve25519.c\\n[AR]      Creating /private/var/folders/wx/2pw40tpd1953pxbsb4hc0dwc0000gn/T/pip-install-48d1wjaq/grpcio_981fc7f00d0b4fad8ec22888c4963bdf/libs/opt/libboringssl.a\\nmake: `/private/var/folders/wx/2pw40tpd1953pxbsb4hc0dwc0000gn/T/pip-install-48d1wjaq/grpcio_981fc7f00d0b4fad8ec22888c4963bdf/libs/opt/libares.a' is up to date.\\n[CXX]     Compiling src/core/lib/gpr/alloc.cc\\n[CXX]     Compiling src/core/lib/gpr/arena.cc\\n[CXX]     Compiling src/core/lib/gpr/atm.cc\\n[CXX]     Compiling src/core/lib/gpr/cpu_iphone.cc\\n[CXX]     Compiling src/core/lib/gpr/cpu_linux.cc\\n[CXX]     Compiling src/core/lib/gpr/cpu_posix.cc\\n[CXX]     Compiling src/core/lib/gpr/cpu_windows.cc\\n[CXX]     Compiling src/core/lib/gpr/env_linux.cc\\n[CXX]     Compiling src/core/lib/gpr/env_posix.cc\\n[CXX]     Compiling src/core/lib/gpr/env_windows.cc\\n[CXX]     Compiling src/core/lib/gpr/host_port.cc\\n[CXX]     Compiling src/core/lib/gpr/log.cc\\n[CXX]     Compiling src/core/lib/gpr/log_android.cc\\n[CXX]     Compiling src/core/lib/gpr/log_linux.cc\\n[CXX]     Compiling src/core/lib/gpr/log_posix.cc\\n[CXX]     Compiling src/core/lib/gpr/log_windows.cc\\n[CXX]     Compiling src/core/lib/gpr/mpscq.cc\\n[CXX]     Compiling src/core/lib/gpr/murmur_hash.cc\\n[CXX]     Compiling src/core/lib/gpr/string.cc\\n[CXX]     Compiling src/core/lib/gpr/string_posix.cc\\n[CXX]     Compiling src/core/lib/gpr/string_util_windows.cc\\n[CXX]     Compiling src/core/lib/gpr/string_windows.cc\\n[CXX]     Compiling src/core/lib/gpr/sync.cc\\n[CXX]     Compiling src/core/lib/gpr/sync_posix.cc\\n[CXX]     Compiling src/core/lib/gpr/sync_windows.cc\\n[CXX]     Compiling src/core/lib/gpr/time.cc\\n[CXX]     Compiling src/core/lib/gpr/time_posix.cc\\n[CXX]     Compiling src/core/lib/gpr/time_precise.cc\\n[CXX]     Compiling src/core/lib/gpr/time_windows.cc\\n[CXX]     Compiling src/core/lib/gpr/tls_pthread.cc\\n[CXX]     Compiling src/core/lib/gpr/tmpfile_msys.cc\\n[CXX]     Compiling src/core/lib/gpr/tmpfile_posix.cc\\n[CXX]     Compiling src/core/lib/gpr/tmpfile_windows.cc\\n[CXX]     Compiling src/core/lib/gpr/wrap_memcpy.cc\\n[CXX]     Compiling src/core/lib/gprpp/fork.cc\\n[CXX]     Compiling src/core/lib/gprpp/thd_posix.cc\\n[CXX]     Compiling src/core/lib/gprpp/thd_windows.cc\\n[CXX]     Compiling src/core/lib/profiling/basic_timers.cc\\n[CXX]     Compiling src/core/lib/profiling/stap_timers.cc\\n[AR]      Creating /private/var/folders/wx/2pw40tpd1953pxbsb4hc0dwc0000gn/T/pip-install-48d1wjaq/grpcio_981fc7f00d0b4fad8ec22888c4963bdf/libs/opt/libgpr.a\\n[CXX]     Compiling src/core/lib/surface/init.cc\\n[CXX]     Compiling src/core/lib/avl/avl.cc\\n[CXX]     Compiling src/core/lib/backoff/backoff.cc\\n[CXX]     Compiling src/core/lib/channel/channel_args.cc\\n[CXX]     Compiling src/core/lib/channel/channel_stack.cc\\n[CXX]     Compiling src/core/lib/channel/channel_stack_builder.cc\\n[CXX]     Compiling src/core/lib/channel/channel_trace.cc\\n[CXX]     Compiling src/core/lib/channel/channelz.cc\\n[CXX]     Compiling src/core/lib/channel/channelz_registry.cc\\n[CXX]     Compiling src/core/lib/channel/connected_channel.cc\\n[CXX]     Compiling src/core/lib/channel/handshaker.cc\\n[CXX]     Compiling src/core/lib/channel/handshaker_factory.cc\\n[CXX]     Compiling src/core/lib/channel/handshaker_registry.cc\\n[CXX]     Compiling src/core/lib/channel/status_util.cc\\n[CXX]     Compiling src/core/lib/compression/compression.cc\\n[CXX]     Compiling src/core/lib/compression/compression_internal.cc\\n[CXX]     Compiling src/core/lib/compression/message_compress.cc\\n[CXX]     Compiling src/core/lib/compression/stream_compression.cc\\n[CXX]     Compiling src/core/lib/compression/stream_compression_gzip.cc\\n[CXX]     Compiling src/core/lib/compression/stream_compression_identity.cc\\n[CXX]     Compiling src/core/lib/debug/stats.cc\\n[CXX]     Compiling src/core/lib/debug/stats_data.cc\\n\"\n",
      "  b'src/core/lib/debug/stats_data.cc:284:5: error: suspicious concatenation of string literals in an array initialization; did you mean to separate the elements with a comma? [-Werror,-Wstring-concatenation]\\n    \"requested the incoming call\",\\n    ^\\nsrc/core/lib/debug/stats_data.cc:283:5: note: place parentheses around the string literal to silence warning\\n    \"How many completion queues were checked looking for a CQ that had \"\\n    ^\\n1 error generated.\\nmake: *** [/private/var/folders/wx/2pw40tpd1953pxbsb4hc0dwc0000gn/T/pip-install-48d1wjaq/grpcio_981fc7f00d0b4fad8ec22888c4963bdf/objs/opt/src/core/lib/debug/stats_data.o] Error 1\\n'\n",
      "  Traceback (most recent call last):\n",
      "    File \"<string>\", line 1, in <module>\n",
      "    File \"/private/var/folders/wx/2pw40tpd1953pxbsb4hc0dwc0000gn/T/pip-install-48d1wjaq/grpcio_981fc7f00d0b4fad8ec22888c4963bdf/setup.py\", line 353, in <module>\n",
      "      setuptools.setup(\n",
      "    File \"/Users/sebastien/PycharmProjects/IAProjetM1v6/venv/lib/python3.9/site-packages/setuptools/__init__.py\", line 153, in setup\n",
      "      return distutils.core.setup(**attrs)\n",
      "    File \"/usr/local/Cellar/python@3.9/3.9.10/Frameworks/Python.framework/Versions/3.9/lib/python3.9/distutils/core.py\", line 148, in setup\n",
      "      dist.run_commands()\n",
      "    File \"/usr/local/Cellar/python@3.9/3.9.10/Frameworks/Python.framework/Versions/3.9/lib/python3.9/distutils/dist.py\", line 966, in run_commands\n",
      "      self.run_command(cmd)\n",
      "    File \"/usr/local/Cellar/python@3.9/3.9.10/Frameworks/Python.framework/Versions/3.9/lib/python3.9/distutils/dist.py\", line 985, in run_command\n",
      "      cmd_obj.run()\n",
      "    File \"/Users/sebastien/PycharmProjects/IAProjetM1v6/venv/lib/python3.9/site-packages/wheel/bdist_wheel.py\", line 299, in run\n",
      "      self.run_command('build')\n",
      "    File \"/usr/local/Cellar/python@3.9/3.9.10/Frameworks/Python.framework/Versions/3.9/lib/python3.9/distutils/cmd.py\", line 313, in run_command\n",
      "      self.distribution.run_command(command)\n",
      "    File \"/usr/local/Cellar/python@3.9/3.9.10/Frameworks/Python.framework/Versions/3.9/lib/python3.9/distutils/dist.py\", line 985, in run_command\n",
      "      cmd_obj.run()\n",
      "    File \"/usr/local/Cellar/python@3.9/3.9.10/Frameworks/Python.framework/Versions/3.9/lib/python3.9/distutils/command/build.py\", line 135, in run\n",
      "      self.run_command(cmd_name)\n",
      "    File \"/usr/local/Cellar/python@3.9/3.9.10/Frameworks/Python.framework/Versions/3.9/lib/python3.9/distutils/cmd.py\", line 313, in run_command\n",
      "      self.distribution.run_command(command)\n",
      "    File \"/usr/local/Cellar/python@3.9/3.9.10/Frameworks/Python.framework/Versions/3.9/lib/python3.9/distutils/dist.py\", line 985, in run_command\n",
      "      cmd_obj.run()\n",
      "    File \"/Users/sebastien/PycharmProjects/IAProjetM1v6/venv/lib/python3.9/site-packages/setuptools/command/build_ext.py\", line 79, in run\n",
      "      _build_ext.run(self)\n",
      "    File \"/usr/local/Cellar/python@3.9/3.9.10/Frameworks/Python.framework/Versions/3.9/lib/python3.9/distutils/command/build_ext.py\", line 340, in run\n",
      "      self.build_extensions()\n",
      "    File \"/private/var/folders/wx/2pw40tpd1953pxbsb4hc0dwc0000gn/T/pip-install-48d1wjaq/grpcio_981fc7f00d0b4fad8ec22888c4963bdf/src/python/grpcio/commands.py\", line 258, in build_extensions\n",
      "      raise Exception(\"make command failed!\")\n",
      "  Exception: make command failed!\n",
      "  ----------------------------------------\u001b[0m\n",
      "\u001b[31m  ERROR: Failed building wheel for grpcio\u001b[0m\n",
      "\u001b[?25h  Running setup.py clean for grpcio\n"
     ]
    },
    {
     "name": "stdout",
     "output_type": "stream",
     "text": [
      "Failed to build grpcio\n",
      "Installing collected packages: html5lib, grpcio, tqdm, grpcio-tools, colorama, bleach, protobuf-compiler\n",
      "  Attempting uninstall: grpcio\n",
      "    Found existing installation: grpcio 1.44.0\n",
      "    Uninstalling grpcio-1.44.0:\n",
      "      Successfully uninstalled grpcio-1.44.0\n",
      "    Running setup.py install for grpcio ... \u001b[?25lerror\n",
      "\u001b[31m    ERROR: Command errored out with exit status 1:\n",
      "     command: /Users/sebastien/PycharmProjects/IAProjetM1v6/venv/bin/python -u -c 'import io, os, sys, setuptools, tokenize; sys.argv[0] = '\"'\"'/private/var/folders/wx/2pw40tpd1953pxbsb4hc0dwc0000gn/T/pip-install-48d1wjaq/grpcio_981fc7f00d0b4fad8ec22888c4963bdf/setup.py'\"'\"'; __file__='\"'\"'/private/var/folders/wx/2pw40tpd1953pxbsb4hc0dwc0000gn/T/pip-install-48d1wjaq/grpcio_981fc7f00d0b4fad8ec22888c4963bdf/setup.py'\"'\"';f = getattr(tokenize, '\"'\"'open'\"'\"', open)(__file__) if os.path.exists(__file__) else io.StringIO('\"'\"'from setuptools import setup; setup()'\"'\"');code = f.read().replace('\"'\"'\\r\\n'\"'\"', '\"'\"'\\n'\"'\"');f.close();exec(compile(code, __file__, '\"'\"'exec'\"'\"'))' install --record /private/var/folders/wx/2pw40tpd1953pxbsb4hc0dwc0000gn/T/pip-record-hj5jbgt1/install-record.txt --single-version-externally-managed --compile --install-headers /Users/sebastien/PycharmProjects/IAProjetM1v6/venv/include/site/python3.9/grpcio\n",
      "         cwd: /private/var/folders/wx/2pw40tpd1953pxbsb4hc0dwc0000gn/T/pip-install-48d1wjaq/grpcio_981fc7f00d0b4fad8ec22888c4963bdf/\n",
      "    Complete output (95 lines):\n",
      "    Found cython-generated files...\n",
      "    running install\n",
      "    running build\n",
      "    running build_py\n",
      "    running build_project_metadata\n",
      "    creating python_build\n",
      "    creating python_build/lib.macosx-12-x86_64-3.9\n",
      "    creating python_build/lib.macosx-12-x86_64-3.9/grpc\n",
      "    copying src/python/grpcio/grpc/_channel.py -> python_build/lib.macosx-12-x86_64-3.9/grpc\n",
      "    copying src/python/grpcio/grpc/_common.py -> python_build/lib.macosx-12-x86_64-3.9/grpc\n",
      "    copying src/python/grpcio/grpc/__init__.py -> python_build/lib.macosx-12-x86_64-3.9/grpc\n",
      "    copying src/python/grpcio/grpc/_utilities.py -> python_build/lib.macosx-12-x86_64-3.9/grpc\n",
      "    copying src/python/grpcio/grpc/_plugin_wrapping.py -> python_build/lib.macosx-12-x86_64-3.9/grpc\n",
      "    copying src/python/grpcio/grpc/_interceptor.py -> python_build/lib.macosx-12-x86_64-3.9/grpc\n",
      "    copying src/python/grpcio/grpc/_grpcio_metadata.py -> python_build/lib.macosx-12-x86_64-3.9/grpc\n",
      "    copying src/python/grpcio/grpc/_server.py -> python_build/lib.macosx-12-x86_64-3.9/grpc\n",
      "    copying src/python/grpcio/grpc/_auth.py -> python_build/lib.macosx-12-x86_64-3.9/grpc\n",
      "    creating python_build/lib.macosx-12-x86_64-3.9/grpc/beta\n",
      "    copying src/python/grpcio/grpc/beta/_server_adaptations.py -> python_build/lib.macosx-12-x86_64-3.9/grpc/beta\n",
      "    copying src/python/grpcio/grpc/beta/interfaces.py -> python_build/lib.macosx-12-x86_64-3.9/grpc/beta\n",
      "    copying src/python/grpcio/grpc/beta/_metadata.py -> python_build/lib.macosx-12-x86_64-3.9/grpc/beta\n",
      "    copying src/python/grpcio/grpc/beta/__init__.py -> python_build/lib.macosx-12-x86_64-3.9/grpc/beta\n",
      "    copying src/python/grpcio/grpc/beta/utilities.py -> python_build/lib.macosx-12-x86_64-3.9/grpc/beta\n",
      "    copying src/python/grpcio/grpc/beta/implementations.py -> python_build/lib.macosx-12-x86_64-3.9/grpc/beta\n",
      "    copying src/python/grpcio/grpc/beta/_client_adaptations.py -> python_build/lib.macosx-12-x86_64-3.9/grpc/beta\n",
      "    creating python_build/lib.macosx-12-x86_64-3.9/grpc/experimental\n",
      "    copying src/python/grpcio/grpc/experimental/gevent.py -> python_build/lib.macosx-12-x86_64-3.9/grpc/experimental\n",
      "    copying src/python/grpcio/grpc/experimental/__init__.py -> python_build/lib.macosx-12-x86_64-3.9/grpc/experimental\n",
      "    copying src/python/grpcio/grpc/experimental/session_cache.py -> python_build/lib.macosx-12-x86_64-3.9/grpc/experimental\n",
      "    creating python_build/lib.macosx-12-x86_64-3.9/grpc/framework\n",
      "    copying src/python/grpcio/grpc/framework/__init__.py -> python_build/lib.macosx-12-x86_64-3.9/grpc/framework\n",
      "    creating python_build/lib.macosx-12-x86_64-3.9/grpc/_cython\n",
      "    copying src/python/grpcio/grpc/_cython/__init__.py -> python_build/lib.macosx-12-x86_64-3.9/grpc/_cython\n",
      "    creating python_build/lib.macosx-12-x86_64-3.9/grpc/framework/foundation\n",
      "    copying src/python/grpcio/grpc/framework/foundation/callable_util.py -> python_build/lib.macosx-12-x86_64-3.9/grpc/framework/foundation\n",
      "    copying src/python/grpcio/grpc/framework/foundation/abandonment.py -> python_build/lib.macosx-12-x86_64-3.9/grpc/framework/foundation\n",
      "    copying src/python/grpcio/grpc/framework/foundation/__init__.py -> python_build/lib.macosx-12-x86_64-3.9/grpc/framework/foundation\n",
      "    copying src/python/grpcio/grpc/framework/foundation/stream.py -> python_build/lib.macosx-12-x86_64-3.9/grpc/framework/foundation\n",
      "    copying src/python/grpcio/grpc/framework/foundation/stream_util.py -> python_build/lib.macosx-12-x86_64-3.9/grpc/framework/foundation\n",
      "    copying src/python/grpcio/grpc/framework/foundation/future.py -> python_build/lib.macosx-12-x86_64-3.9/grpc/framework/foundation\n",
      "    copying src/python/grpcio/grpc/framework/foundation/logging_pool.py -> python_build/lib.macosx-12-x86_64-3.9/grpc/framework/foundation\n",
      "    creating python_build/lib.macosx-12-x86_64-3.9/grpc/framework/common\n",
      "    copying src/python/grpcio/grpc/framework/common/style.py -> python_build/lib.macosx-12-x86_64-3.9/grpc/framework/common\n",
      "    copying src/python/grpcio/grpc/framework/common/cardinality.py -> python_build/lib.macosx-12-x86_64-3.9/grpc/framework/common\n",
      "    copying src/python/grpcio/grpc/framework/common/__init__.py -> python_build/lib.macosx-12-x86_64-3.9/grpc/framework/common\n",
      "    creating python_build/lib.macosx-12-x86_64-3.9/grpc/framework/interfaces\n",
      "    copying src/python/grpcio/grpc/framework/interfaces/__init__.py -> python_build/lib.macosx-12-x86_64-3.9/grpc/framework/interfaces\n",
      "    creating python_build/lib.macosx-12-x86_64-3.9/grpc/framework/interfaces/face\n",
      "    copying src/python/grpcio/grpc/framework/interfaces/face/__init__.py -> python_build/lib.macosx-12-x86_64-3.9/grpc/framework/interfaces/face\n",
      "    copying src/python/grpcio/grpc/framework/interfaces/face/utilities.py -> python_build/lib.macosx-12-x86_64-3.9/grpc/framework/interfaces/face\n",
      "    copying src/python/grpcio/grpc/framework/interfaces/face/face.py -> python_build/lib.macosx-12-x86_64-3.9/grpc/framework/interfaces/face\n",
      "    creating python_build/lib.macosx-12-x86_64-3.9/grpc/framework/interfaces/base\n",
      "    copying src/python/grpcio/grpc/framework/interfaces/base/__init__.py -> python_build/lib.macosx-12-x86_64-3.9/grpc/framework/interfaces/base\n",
      "    copying src/python/grpcio/grpc/framework/interfaces/base/utilities.py -> python_build/lib.macosx-12-x86_64-3.9/grpc/framework/interfaces/base\n",
      "    copying src/python/grpcio/grpc/framework/interfaces/base/base.py -> python_build/lib.macosx-12-x86_64-3.9/grpc/framework/interfaces/base\n",
      "    creating python_build/lib.macosx-12-x86_64-3.9/grpc/_cython/_cygrpc\n",
      "    copying src/python/grpcio/grpc/_cython/_cygrpc/__init__.py -> python_build/lib.macosx-12-x86_64-3.9/grpc/_cython/_cygrpc\n",
      "    creating python_build/lib.macosx-12-x86_64-3.9/grpc/_cython/_credentials\n",
      "    copying src/python/grpcio/grpc/_cython/_credentials/roots.pem -> python_build/lib.macosx-12-x86_64-3.9/grpc/_cython/_credentials\n",
      "    running build_ext\n",
      "    b\"make: `/private/var/folders/wx/2pw40tpd1953pxbsb4hc0dwc0000gn/T/pip-install-48d1wjaq/grpcio_981fc7f00d0b4fad8ec22888c4963bdf/libs/opt/libboringssl.a' is up to date.\\nmake: `/private/var/folders/wx/2pw40tpd1953pxbsb4hc0dwc0000gn/T/pip-install-48d1wjaq/grpcio_981fc7f00d0b4fad8ec22888c4963bdf/libs/opt/libares.a' is up to date.\\nmake: `/private/var/folders/wx/2pw40tpd1953pxbsb4hc0dwc0000gn/T/pip-install-48d1wjaq/grpcio_981fc7f00d0b4fad8ec22888c4963bdf/libs/opt/libgpr.a' is up to date.\\n[CXX]     Compiling src/core/lib/debug/stats_data.cc\\n\"\n",
      "    b'src/core/lib/debug/stats_data.cc:284:5: error: suspicious concatenation of string literals in an array initialization; did you mean to separate the elements with a comma? [-Werror,-Wstring-concatenation]\\n    \"requested the incoming call\",\\n    ^\\nsrc/core/lib/debug/stats_data.cc:283:5: note: place parentheses around the string literal to silence warning\\n    \"How many completion queues were checked looking for a CQ that had \"\\n    ^\\n1 error generated.\\nmake: *** [/private/var/folders/wx/2pw40tpd1953pxbsb4hc0dwc0000gn/T/pip-install-48d1wjaq/grpcio_981fc7f00d0b4fad8ec22888c4963bdf/objs/opt/src/core/lib/debug/stats_data.o] Error 1\\n'\n",
      "    Traceback (most recent call last):\n",
      "      File \"<string>\", line 1, in <module>\n",
      "      File \"/private/var/folders/wx/2pw40tpd1953pxbsb4hc0dwc0000gn/T/pip-install-48d1wjaq/grpcio_981fc7f00d0b4fad8ec22888c4963bdf/setup.py\", line 353, in <module>\n",
      "        setuptools.setup(\n",
      "      File \"/Users/sebastien/PycharmProjects/IAProjetM1v6/venv/lib/python3.9/site-packages/setuptools/__init__.py\", line 153, in setup\n",
      "        return distutils.core.setup(**attrs)\n",
      "      File \"/usr/local/Cellar/python@3.9/3.9.10/Frameworks/Python.framework/Versions/3.9/lib/python3.9/distutils/core.py\", line 148, in setup\n",
      "        dist.run_commands()\n",
      "      File \"/usr/local/Cellar/python@3.9/3.9.10/Frameworks/Python.framework/Versions/3.9/lib/python3.9/distutils/dist.py\", line 966, in run_commands\n",
      "        self.run_command(cmd)\n",
      "      File \"/usr/local/Cellar/python@3.9/3.9.10/Frameworks/Python.framework/Versions/3.9/lib/python3.9/distutils/dist.py\", line 985, in run_command\n",
      "        cmd_obj.run()\n",
      "      File \"/Users/sebastien/PycharmProjects/IAProjetM1v6/venv/lib/python3.9/site-packages/setuptools/command/install.py\", line 61, in run\n",
      "        return orig.install.run(self)\n",
      "      File \"/usr/local/Cellar/python@3.9/3.9.10/Frameworks/Python.framework/Versions/3.9/lib/python3.9/distutils/command/install.py\", line 546, in run\n",
      "        self.run_command('build')\n",
      "      File \"/usr/local/Cellar/python@3.9/3.9.10/Frameworks/Python.framework/Versions/3.9/lib/python3.9/distutils/cmd.py\", line 313, in run_command\n",
      "        self.distribution.run_command(command)\n",
      "      File \"/usr/local/Cellar/python@3.9/3.9.10/Frameworks/Python.framework/Versions/3.9/lib/python3.9/distutils/dist.py\", line 985, in run_command\n",
      "        cmd_obj.run()\n",
      "      File \"/usr/local/Cellar/python@3.9/3.9.10/Frameworks/Python.framework/Versions/3.9/lib/python3.9/distutils/command/build.py\", line 135, in run\n",
      "        self.run_command(cmd_name)\n",
      "      File \"/usr/local/Cellar/python@3.9/3.9.10/Frameworks/Python.framework/Versions/3.9/lib/python3.9/distutils/cmd.py\", line 313, in run_command\n",
      "        self.distribution.run_command(command)\n",
      "      File \"/usr/local/Cellar/python@3.9/3.9.10/Frameworks/Python.framework/Versions/3.9/lib/python3.9/distutils/dist.py\", line 985, in run_command\n",
      "        cmd_obj.run()\n",
      "      File \"/Users/sebastien/PycharmProjects/IAProjetM1v6/venv/lib/python3.9/site-packages/setuptools/command/build_ext.py\", line 79, in run\n",
      "        _build_ext.run(self)\n",
      "      File \"/usr/local/Cellar/python@3.9/3.9.10/Frameworks/Python.framework/Versions/3.9/lib/python3.9/distutils/command/build_ext.py\", line 340, in run\n",
      "        self.build_extensions()\n",
      "      File \"/private/var/folders/wx/2pw40tpd1953pxbsb4hc0dwc0000gn/T/pip-install-48d1wjaq/grpcio_981fc7f00d0b4fad8ec22888c4963bdf/src/python/grpcio/commands.py\", line 258, in build_extensions\n",
      "        raise Exception(\"make command failed!\")\n",
      "    Exception: make command failed!\n",
      "    ----------------------------------------\u001b[0m\n",
      "\u001b[?25h  Rolling back uninstall of grpcio\n",
      "  Moving to /Users/sebastien/PycharmProjects/IAProjetM1v6/venv/lib/python3.9/site-packages/grpc/\n",
      "   from /Users/sebastien/PycharmProjects/IAProjetM1v6/venv/lib/python3.9/site-packages/~rpc\n",
      "  Moving to /Users/sebastien/PycharmProjects/IAProjetM1v6/venv/lib/python3.9/site-packages/grpcio-1.44.0.dist-info/\n",
      "   from /Users/sebastien/PycharmProjects/IAProjetM1v6/venv/lib/python3.9/site-packages/~rpcio-1.44.0.dist-info\n",
      "\u001b[31mERROR: Command errored out with exit status 1: /Users/sebastien/PycharmProjects/IAProjetM1v6/venv/bin/python -u -c 'import io, os, sys, setuptools, tokenize; sys.argv[0] = '\"'\"'/private/var/folders/wx/2pw40tpd1953pxbsb4hc0dwc0000gn/T/pip-install-48d1wjaq/grpcio_981fc7f00d0b4fad8ec22888c4963bdf/setup.py'\"'\"'; __file__='\"'\"'/private/var/folders/wx/2pw40tpd1953pxbsb4hc0dwc0000gn/T/pip-install-48d1wjaq/grpcio_981fc7f00d0b4fad8ec22888c4963bdf/setup.py'\"'\"';f = getattr(tokenize, '\"'\"'open'\"'\"', open)(__file__) if os.path.exists(__file__) else io.StringIO('\"'\"'from setuptools import setup; setup()'\"'\"');code = f.read().replace('\"'\"'\\r\\n'\"'\"', '\"'\"'\\n'\"'\"');f.close();exec(compile(code, __file__, '\"'\"'exec'\"'\"'))' install --record /private/var/folders/wx/2pw40tpd1953pxbsb4hc0dwc0000gn/T/pip-record-hj5jbgt1/install-record.txt --single-version-externally-managed --compile --install-headers /Users/sebastien/PycharmProjects/IAProjetM1v6/venv/include/site/python3.9/grpcio Check the logs for full command output.\u001b[0m\n"
     ]
    },
    {
     "name": "stdout",
     "output_type": "stream",
     "text": [
      "\u001b[33mWARNING: You are using pip version 21.1.2; however, version 22.0.4 is available.\n",
      "You should consider upgrading via the '/Users/sebastien/PycharmProjects/IAProjetM1v6/venv/bin/python -m pip install --upgrade pip' command.\u001b[0m\n",
      "Processing /Users/sebastien/PycharmProjects/IAProjetM1v6/Tensorflow/models/research\n",
      "\u001b[33m  DEPRECATION: A future pip version will change local packages to be built in-place without first copying to a temporary directory. We recommend you use --use-feature=in-tree-build to test your packages with this new behavior before it becomes the default.\n",
      "   pip 21.3 will remove support for this functionality. You can find discussion regarding this at https://github.com/pypa/pip/issues/7555.\u001b[0m\n",
      "Collecting avro-python3\n",
      "  Using cached avro_python3-1.10.2-py3-none-any.whl\n",
      "Collecting apache-beam\n",
      "  Using cached apache_beam-2.37.0-cp39-cp39-macosx_10_9_x86_64.whl (4.4 MB)\n",
      "Collecting pillow\n",
      "  Using cached Pillow-9.0.1-cp39-cp39-macosx_10_10_x86_64.whl (3.0 MB)\n",
      "Collecting lxml\n",
      "  Using cached lxml-4.8.0-cp39-cp39-macosx_10_15_x86_64.whl (4.6 MB)\n",
      "Collecting matplotlib\n",
      "  Using cached matplotlib-3.5.1-cp39-cp39-macosx_10_9_x86_64.whl (7.3 MB)\n",
      "Collecting Cython\n",
      "  Using cached Cython-0.29.28-py2.py3-none-any.whl (983 kB)\n",
      "Collecting contextlib2\n",
      "  Using cached contextlib2-21.6.0-py2.py3-none-any.whl (13 kB)\n",
      "Collecting tf-slim\n",
      "  Using cached tf_slim-1.1.0-py2.py3-none-any.whl (352 kB)\n",
      "Requirement already satisfied: six in /Users/sebastien/PycharmProjects/IAProjetM1v6/venv/lib/python3.9/site-packages (from object-detection==0.1) (1.16.0)\n",
      "Collecting pycocotools\n",
      "  Using cached pycocotools-2.0.4-cp39-cp39-macosx_12_0_x86_64.whl\n",
      "Collecting lvis\n",
      "  Using cached lvis-0.5.3-py3-none-any.whl (14 kB)\n",
      "Collecting scipy\n",
      "  Using cached scipy-1.8.0-cp39-cp39-macosx_12_0_universal2.macosx_10_9_x86_64.whl (55.6 MB)\n",
      "Collecting pandas\n",
      "  Using cached pandas-1.4.1-cp39-cp39-macosx_10_9_x86_64.whl (11.5 MB)\n",
      "Collecting tf-models-official>=2.5.1\n",
      "  Using cached tf_models_official-2.8.0-py2.py3-none-any.whl (2.2 MB)\n",
      "Collecting tensorflow_io\n",
      "  Using cached tensorflow_io-0.24.0-cp39-cp39-macosx_10_14_x86_64.whl (24.1 MB)\n",
      "Requirement already satisfied: keras in /Users/sebastien/PycharmProjects/IAProjetM1v6/venv/lib/python3.9/site-packages (from object-detection==0.1) (2.8.0)\n",
      "Collecting py-cpuinfo>=3.3.0\n",
      "  Using cached py_cpuinfo-8.0.0-py3-none-any.whl\n",
      "Collecting tensorflow-datasets\n",
      "  Using cached tensorflow_datasets-4.5.2-py3-none-any.whl (4.2 MB)\n",
      "Collecting oauth2client\n",
      "  Using cached oauth2client-4.1.3-py2.py3-none-any.whl (98 kB)\n",
      "Collecting opencv-python-headless\n",
      "  Downloading opencv_python_headless-4.5.5.64-cp36-abi3-macosx_10_15_x86_64.whl (46.3 MB)\n",
      "\u001b[K     |████████████████████████████████| 46.3 MB 20 kB/s  eta 0:00:01\n",
      "\u001b[?25hRequirement already satisfied: psutil>=5.4.3 in /Users/sebastien/PycharmProjects/IAProjetM1v6/venv/lib/python3.9/site-packages (from tf-models-official>=2.5.1->object-detection==0.1) (5.9.0)\n",
      "Collecting sentencepiece\n",
      "  Using cached sentencepiece-0.1.96-cp39-cp39-macosx_10_6_x86_64.whl (1.1 MB)\n",
      "Collecting tensorflow-hub>=0.6.0\n",
      "  Using cached tensorflow_hub-0.12.0-py2.py3-none-any.whl (108 kB)\n",
      "Collecting tensorflow-addons\n",
      "  Using cached tensorflow_addons-0.16.1-cp39-cp39-macosx_10_15_x86_64.whl (588 kB)\n",
      "Collecting google-api-python-client>=1.6.7\n",
      "  Downloading google_api_python_client-2.42.0-py2.py3-none-any.whl (8.3 MB)\n",
      "\u001b[K     |████████████████████████████████| 8.3 MB 875 kB/s eta 0:00:01\n",
      "\u001b[?25hRequirement already satisfied: numpy>=1.15.4 in /Users/sebastien/PycharmProjects/IAProjetM1v6/venv/lib/python3.9/site-packages (from tf-models-official>=2.5.1->object-detection==0.1) (1.22.3)\n",
      "Collecting seqeval\n",
      "  Using cached seqeval-1.2.2-py3-none-any.whl\n",
      "Requirement already satisfied: tensorflow~=2.8.0 in /Users/sebastien/PycharmProjects/IAProjetM1v6/venv/lib/python3.9/site-packages (from tf-models-official>=2.5.1->object-detection==0.1) (2.8.0)\n",
      "Collecting sacrebleu\n",
      "  Using cached sacrebleu-2.0.0-py3-none-any.whl (90 kB)\n",
      "Collecting gin-config\n",
      "  Using cached gin_config-0.5.0-py3-none-any.whl (61 kB)\n",
      "Collecting kaggle>=1.3.9\n",
      "  Using cached kaggle-1.5.12-py3-none-any.whl\n",
      "Collecting pyyaml<6.0,>=5.1\n",
      "  Using cached PyYAML-5.4.1-cp39-cp39-macosx_10_9_x86_64.whl (259 kB)\n",
      "Collecting tensorflow-text~=2.8.0\n",
      "  Using cached tensorflow_text-2.8.1-cp39-cp39-macosx_10_9_x86_64.whl (4.0 MB)\n",
      "Collecting tensorflow-model-optimization>=0.4.1\n",
      "  Downloading tensorflow_model_optimization-0.7.2-py2.py3-none-any.whl (237 kB)\n",
      "\u001b[K     |████████████████████████████████| 237 kB 2.3 MB/s eta 0:00:01\n",
      "\u001b[?25hCollecting google-auth-httplib2>=0.1.0\n",
      "  Using cached google_auth_httplib2-0.1.0-py2.py3-none-any.whl (9.3 kB)\n",
      "Requirement already satisfied: google-auth<3.0.0dev,>=1.16.0 in /Users/sebastien/PycharmProjects/IAProjetM1v6/venv/lib/python3.9/site-packages (from google-api-python-client>=1.6.7->tf-models-official>=2.5.1->object-detection==0.1) (2.6.2)\n",
      "Collecting uritemplate<5,>=3.0.1\n",
      "  Using cached uritemplate-4.1.1-py2.py3-none-any.whl (10 kB)\n",
      "Collecting google-api-core!=2.0.*,!=2.1.*,!=2.2.*,!=2.3.0,<3.0.0dev,>=1.31.5\n",
      "  Downloading google_api_core-2.7.1-py3-none-any.whl (114 kB)\n",
      "\u001b[K     |████████████████████████████████| 114 kB 2.4 MB/s eta 0:00:01\n",
      "\u001b[?25hCollecting httplib2<1dev,>=0.15.0\n",
      "  Using cached httplib2-0.20.4-py3-none-any.whl (96 kB)\n",
      "Requirement already satisfied: requests<3.0.0dev,>=2.18.0 in /Users/sebastien/PycharmProjects/IAProjetM1v6/venv/lib/python3.9/site-packages (from google-api-core!=2.0.*,!=2.1.*,!=2.2.*,!=2.3.0,<3.0.0dev,>=1.31.5->google-api-python-client>=1.6.7->tf-models-official>=2.5.1->object-detection==0.1) (2.27.1)\n",
      "Collecting googleapis-common-protos<2.0dev,>=1.52.0\n",
      "  Downloading googleapis_common_protos-1.56.0-py2.py3-none-any.whl (241 kB)\n",
      "\u001b[K     |████████████████████████████████| 241 kB 2.4 MB/s eta 0:00:01\n",
      "\u001b[?25hRequirement already satisfied: protobuf>=3.12.0 in /Users/sebastien/PycharmProjects/IAProjetM1v6/venv/lib/python3.9/site-packages (from google-api-core!=2.0.*,!=2.1.*,!=2.2.*,!=2.3.0,<3.0.0dev,>=1.31.5->google-api-python-client>=1.6.7->tf-models-official>=2.5.1->object-detection==0.1) (3.19.4)\n",
      "Requirement already satisfied: pyasn1-modules>=0.2.1 in /Users/sebastien/PycharmProjects/IAProjetM1v6/venv/lib/python3.9/site-packages (from google-auth<3.0.0dev,>=1.16.0->google-api-python-client>=1.6.7->tf-models-official>=2.5.1->object-detection==0.1) (0.2.8)\n",
      "Requirement already satisfied: rsa<5,>=3.1.4 in /Users/sebastien/PycharmProjects/IAProjetM1v6/venv/lib/python3.9/site-packages (from google-auth<3.0.0dev,>=1.16.0->google-api-python-client>=1.6.7->tf-models-official>=2.5.1->object-detection==0.1) (4.8)\n",
      "Requirement already satisfied: cachetools<6.0,>=2.0.0 in /Users/sebastien/PycharmProjects/IAProjetM1v6/venv/lib/python3.9/site-packages (from google-auth<3.0.0dev,>=1.16.0->google-api-python-client>=1.6.7->tf-models-official>=2.5.1->object-detection==0.1) (5.0.0)\n",
      "Requirement already satisfied: pyparsing!=3.0.0,!=3.0.1,!=3.0.2,!=3.0.3,<4,>=2.4.2 in /Users/sebastien/PycharmProjects/IAProjetM1v6/venv/lib/python3.9/site-packages (from httplib2<1dev,>=0.15.0->google-api-python-client>=1.6.7->tf-models-official>=2.5.1->object-detection==0.1) (3.0.7)\n",
      "Requirement already satisfied: certifi in /Users/sebastien/PycharmProjects/IAProjetM1v6/venv/lib/python3.9/site-packages (from kaggle>=1.3.9->tf-models-official>=2.5.1->object-detection==0.1) (2021.10.8)\n",
      "Requirement already satisfied: python-dateutil in /Users/sebastien/PycharmProjects/IAProjetM1v6/venv/lib/python3.9/site-packages (from kaggle>=1.3.9->tf-models-official>=2.5.1->object-detection==0.1) (2.8.2)\n",
      "Collecting python-slugify\n",
      "  Using cached python_slugify-6.1.1-py2.py3-none-any.whl (9.1 kB)\n",
      "Requirement already satisfied: urllib3 in /Users/sebastien/PycharmProjects/IAProjetM1v6/venv/lib/python3.9/site-packages (from kaggle>=1.3.9->tf-models-official>=2.5.1->object-detection==0.1) (1.26.9)\n",
      "Collecting tqdm\n",
      "  Downloading tqdm-4.63.1-py2.py3-none-any.whl (76 kB)\n",
      "\u001b[K     |████████████████████████████████| 76 kB 1.9 MB/s eta 0:00:01\n",
      "\u001b[?25hCollecting pytz>=2020.1\n",
      "  Using cached pytz-2022.1-py2.py3-none-any.whl (503 kB)\n",
      "Requirement already satisfied: pyasn1<0.5.0,>=0.4.6 in /Users/sebastien/PycharmProjects/IAProjetM1v6/venv/lib/python3.9/site-packages (from pyasn1-modules>=0.2.1->google-auth<3.0.0dev,>=1.16.0->google-api-python-client>=1.6.7->tf-models-official>=2.5.1->object-detection==0.1) (0.4.8)\n"
     ]
    },
    {
     "name": "stdout",
     "output_type": "stream",
     "text": [
      "Requirement already satisfied: idna<4,>=2.5 in /Users/sebastien/PycharmProjects/IAProjetM1v6/venv/lib/python3.9/site-packages (from requests<3.0.0dev,>=2.18.0->google-api-core!=2.0.*,!=2.1.*,!=2.2.*,!=2.3.0,<3.0.0dev,>=1.31.5->google-api-python-client>=1.6.7->tf-models-official>=2.5.1->object-detection==0.1) (3.3)\n",
      "Requirement already satisfied: charset-normalizer~=2.0.0 in /Users/sebastien/PycharmProjects/IAProjetM1v6/venv/lib/python3.9/site-packages (from requests<3.0.0dev,>=2.18.0->google-api-core!=2.0.*,!=2.1.*,!=2.2.*,!=2.3.0,<3.0.0dev,>=1.31.5->google-api-python-client>=1.6.7->tf-models-official>=2.5.1->object-detection==0.1) (2.0.12)\n",
      "Requirement already satisfied: tf-estimator-nightly==2.8.0.dev2021122109 in /Users/sebastien/PycharmProjects/IAProjetM1v6/venv/lib/python3.9/site-packages (from tensorflow~=2.8.0->tf-models-official>=2.5.1->object-detection==0.1) (2.8.0.dev2021122109)\n",
      "Requirement already satisfied: opt-einsum>=2.3.2 in /Users/sebastien/PycharmProjects/IAProjetM1v6/venv/lib/python3.9/site-packages (from tensorflow~=2.8.0->tf-models-official>=2.5.1->object-detection==0.1) (3.3.0)\n",
      "Requirement already satisfied: h5py>=2.9.0 in /Users/sebastien/PycharmProjects/IAProjetM1v6/venv/lib/python3.9/site-packages (from tensorflow~=2.8.0->tf-models-official>=2.5.1->object-detection==0.1) (3.6.0)\n",
      "Requirement already satisfied: tensorboard<2.9,>=2.8 in /Users/sebastien/PycharmProjects/IAProjetM1v6/venv/lib/python3.9/site-packages (from tensorflow~=2.8.0->tf-models-official>=2.5.1->object-detection==0.1) (2.8.0)\n",
      "Requirement already satisfied: typing-extensions>=3.6.6 in /Users/sebastien/PycharmProjects/IAProjetM1v6/venv/lib/python3.9/site-packages (from tensorflow~=2.8.0->tf-models-official>=2.5.1->object-detection==0.1) (4.1.1)\n",
      "Requirement already satisfied: tensorflow-io-gcs-filesystem>=0.23.1 in /Users/sebastien/PycharmProjects/IAProjetM1v6/venv/lib/python3.9/site-packages (from tensorflow~=2.8.0->tf-models-official>=2.5.1->object-detection==0.1) (0.24.0)\n",
      "Requirement already satisfied: libclang>=9.0.1 in /Users/sebastien/PycharmProjects/IAProjetM1v6/venv/lib/python3.9/site-packages (from tensorflow~=2.8.0->tf-models-official>=2.5.1->object-detection==0.1) (13.0.0)\n",
      "Requirement already satisfied: flatbuffers>=1.12 in /Users/sebastien/PycharmProjects/IAProjetM1v6/venv/lib/python3.9/site-packages (from tensorflow~=2.8.0->tf-models-official>=2.5.1->object-detection==0.1) (2.0)\n",
      "Requirement already satisfied: google-pasta>=0.1.1 in /Users/sebastien/PycharmProjects/IAProjetM1v6/venv/lib/python3.9/site-packages (from tensorflow~=2.8.0->tf-models-official>=2.5.1->object-detection==0.1) (0.2.0)\n",
      "Requirement already satisfied: gast>=0.2.1 in /Users/sebastien/PycharmProjects/IAProjetM1v6/venv/lib/python3.9/site-packages (from tensorflow~=2.8.0->tf-models-official>=2.5.1->object-detection==0.1) (0.5.3)\n",
      "Requirement already satisfied: absl-py>=0.4.0 in /Users/sebastien/PycharmProjects/IAProjetM1v6/venv/lib/python3.9/site-packages (from tensorflow~=2.8.0->tf-models-official>=2.5.1->object-detection==0.1) (1.0.0)\n",
      "Requirement already satisfied: grpcio<2.0,>=1.24.3 in /Users/sebastien/PycharmProjects/IAProjetM1v6/venv/lib/python3.9/site-packages (from tensorflow~=2.8.0->tf-models-official>=2.5.1->object-detection==0.1) (1.44.0)\n",
      "Requirement already satisfied: termcolor>=1.1.0 in /Users/sebastien/PycharmProjects/IAProjetM1v6/venv/lib/python3.9/site-packages (from tensorflow~=2.8.0->tf-models-official>=2.5.1->object-detection==0.1) (1.1.0)\n",
      "Requirement already satisfied: keras-preprocessing>=1.1.1 in /Users/sebastien/PycharmProjects/IAProjetM1v6/venv/lib/python3.9/site-packages (from tensorflow~=2.8.0->tf-models-official>=2.5.1->object-detection==0.1) (1.1.2)\n",
      "Requirement already satisfied: setuptools in /Users/sebastien/PycharmProjects/IAProjetM1v6/venv/lib/python3.9/site-packages (from tensorflow~=2.8.0->tf-models-official>=2.5.1->object-detection==0.1) (57.0.0)\n",
      "Requirement already satisfied: astunparse>=1.6.0 in /Users/sebastien/PycharmProjects/IAProjetM1v6/venv/lib/python3.9/site-packages (from tensorflow~=2.8.0->tf-models-official>=2.5.1->object-detection==0.1) (1.6.3)\n",
      "Requirement already satisfied: wrapt>=1.11.0 in /Users/sebastien/PycharmProjects/IAProjetM1v6/venv/lib/python3.9/site-packages (from tensorflow~=2.8.0->tf-models-official>=2.5.1->object-detection==0.1) (1.14.0)\n",
      "Requirement already satisfied: wheel<1.0,>=0.23.0 in /Users/sebastien/PycharmProjects/IAProjetM1v6/venv/lib/python3.9/site-packages (from astunparse>=1.6.0->tensorflow~=2.8.0->tf-models-official>=2.5.1->object-detection==0.1) (0.36.2)\n",
      "Requirement already satisfied: tensorboard-plugin-wit>=1.6.0 in /Users/sebastien/PycharmProjects/IAProjetM1v6/venv/lib/python3.9/site-packages (from tensorboard<2.9,>=2.8->tensorflow~=2.8.0->tf-models-official>=2.5.1->object-detection==0.1) (1.8.1)\n",
      "Requirement already satisfied: markdown>=2.6.8 in /Users/sebastien/PycharmProjects/IAProjetM1v6/venv/lib/python3.9/site-packages (from tensorboard<2.9,>=2.8->tensorflow~=2.8.0->tf-models-official>=2.5.1->object-detection==0.1) (3.3.6)\n",
      "Requirement already satisfied: tensorboard-data-server<0.7.0,>=0.6.0 in /Users/sebastien/PycharmProjects/IAProjetM1v6/venv/lib/python3.9/site-packages (from tensorboard<2.9,>=2.8->tensorflow~=2.8.0->tf-models-official>=2.5.1->object-detection==0.1) (0.6.1)\n",
      "Requirement already satisfied: google-auth-oauthlib<0.5,>=0.4.1 in /Users/sebastien/PycharmProjects/IAProjetM1v6/venv/lib/python3.9/site-packages (from tensorboard<2.9,>=2.8->tensorflow~=2.8.0->tf-models-official>=2.5.1->object-detection==0.1) (0.4.6)\n",
      "Requirement already satisfied: werkzeug>=0.11.15 in /Users/sebastien/PycharmProjects/IAProjetM1v6/venv/lib/python3.9/site-packages (from tensorboard<2.9,>=2.8->tensorflow~=2.8.0->tf-models-official>=2.5.1->object-detection==0.1) (2.0.3)\n",
      "Requirement already satisfied: requests-oauthlib>=0.7.0 in /Users/sebastien/PycharmProjects/IAProjetM1v6/venv/lib/python3.9/site-packages (from google-auth-oauthlib<0.5,>=0.4.1->tensorboard<2.9,>=2.8->tensorflow~=2.8.0->tf-models-official>=2.5.1->object-detection==0.1) (1.3.1)\n",
      "Requirement already satisfied: importlib-metadata>=4.4 in /Users/sebastien/PycharmProjects/IAProjetM1v6/venv/lib/python3.9/site-packages (from markdown>=2.6.8->tensorboard<2.9,>=2.8->tensorflow~=2.8.0->tf-models-official>=2.5.1->object-detection==0.1) (4.11.3)\n",
      "Requirement already satisfied: zipp>=0.5 in /Users/sebastien/PycharmProjects/IAProjetM1v6/venv/lib/python3.9/site-packages (from importlib-metadata>=4.4->markdown>=2.6.8->tensorboard<2.9,>=2.8->tensorflow~=2.8.0->tf-models-official>=2.5.1->object-detection==0.1) (3.7.0)\n",
      "Requirement already satisfied: oauthlib>=3.0.0 in /Users/sebastien/PycharmProjects/IAProjetM1v6/venv/lib/python3.9/site-packages (from requests-oauthlib>=0.7.0->google-auth-oauthlib<0.5,>=0.4.1->tensorboard<2.9,>=2.8->tensorflow~=2.8.0->tf-models-official>=2.5.1->object-detection==0.1) (3.2.0)\n",
      "Collecting dm-tree~=0.1.1\n",
      "  Using cached dm_tree-0.1.6-cp39-cp39-macosx_10_14_x86_64.whl (95 kB)\n",
      "Collecting fastavro<2,>=0.23.6\n",
      "  Using cached fastavro-1.4.10-cp39-cp39-macosx_10_15_x86_64.whl (494 kB)\n",
      "Collecting numpy>=1.15.4\n",
      "  Using cached numpy-1.21.5-cp39-cp39-macosx_10_9_x86_64.whl (17.0 MB)\n",
      "Collecting cloudpickle<3,>=2.0.0\n",
      "  Using cached cloudpickle-2.0.0-py3-none-any.whl (25 kB)\n",
      "Collecting pymongo<4.0.0,>=3.8.0\n",
      "  Using cached pymongo-3.12.3-cp39-cp39-macosx_10_9_x86_64.whl (395 kB)\n",
      "Collecting orjson<4.0\n",
      "  Using cached orjson-3.6.7-cp39-cp39-macosx_10_9_x86_64.macosx_11_0_arm64.macosx_10_9_universal2.whl (453 kB)\n",
      "Collecting crcmod<2.0,>=1.7\n",
      "  Using cached crcmod-1.7-cp39-cp39-macosx_12_0_x86_64.whl\n",
      "Collecting pyarrow<7.0.0,>=0.15.1\n",
      "  Using cached pyarrow-6.0.1-cp39-cp39-macosx_10_13_x86_64.whl (19.2 MB)\n",
      "Collecting hdfs<3.0.0,>=2.1.0\n",
      "  Using cached hdfs-2.6.0-py3-none-any.whl (33 kB)\n",
      "Collecting proto-plus<2,>=1.7.1\n",
      "  Using cached proto_plus-1.20.3-py3-none-any.whl (46 kB)\n",
      "Collecting dill<0.3.2,>=0.3.1.1\n",
      "  Using cached dill-0.3.1.1-py3-none-any.whl\n",
      "Collecting httplib2<1dev,>=0.15.0\n",
      "  Using cached httplib2-0.19.1-py3-none-any.whl (95 kB)\n",
      "Collecting pydot<2,>=1.2.0\n",
      "  Using cached pydot-1.4.2-py2.py3-none-any.whl (21 kB)\n",
      "Collecting docopt\n",
      "  Using cached docopt-0.6.2-py2.py3-none-any.whl\n"
     ]
    },
    {
     "name": "stdout",
     "output_type": "stream",
     "text": [
      "Collecting pyparsing!=3.0.0,!=3.0.1,!=3.0.2,!=3.0.3,<4,>=2.4.2\n",
      "  Using cached pyparsing-2.4.7-py2.py3-none-any.whl (67 kB)\n",
      "Collecting opencv-python>=4.1.0.25\n",
      "  Using cached opencv_python-4.5.5.64-cp36-abi3-macosx_10_15_x86_64.whl (46.3 MB)\n",
      "Collecting kiwisolver>=1.1.0\n",
      "  Using cached kiwisolver-1.4.0-cp39-cp39-macosx_10_9_x86_64.whl (61 kB)\n",
      "Collecting cycler>=0.10.0\n",
      "  Using cached cycler-0.11.0-py3-none-any.whl (6.4 kB)\n",
      "Collecting fonttools>=4.22.0\n",
      "  Downloading fonttools-4.31.2-py3-none-any.whl (899 kB)\n",
      "\u001b[K     |████████████████████████████████| 899 kB 1.7 MB/s eta 0:00:01\n",
      "\u001b[?25hRequirement already satisfied: packaging>=20.0 in /Users/sebastien/PycharmProjects/IAProjetM1v6/venv/lib/python3.9/site-packages (from matplotlib->object-detection==0.1) (21.3)\n",
      "Collecting text-unidecode>=1.3\n",
      "  Using cached text_unidecode-1.3-py2.py3-none-any.whl (78 kB)\n",
      "Collecting regex\n",
      "  Downloading regex-2022.3.15-cp39-cp39-macosx_10_9_x86_64.whl (288 kB)\n",
      "\u001b[K     |████████████████████████████████| 288 kB 3.4 MB/s eta 0:00:01\n",
      "\u001b[?25hCollecting colorama\n",
      "  Using cached colorama-0.4.4-py2.py3-none-any.whl (16 kB)\n",
      "Collecting tabulate>=0.8.9\n",
      "  Using cached tabulate-0.8.9-py3-none-any.whl (25 kB)\n",
      "Collecting portalocker\n",
      "  Using cached portalocker-2.4.0-py2.py3-none-any.whl (16 kB)\n",
      "Collecting scikit-learn>=0.21.3\n",
      "  Using cached scikit_learn-1.0.2-cp39-cp39-macosx_10_13_x86_64.whl (8.0 MB)\n",
      "Collecting threadpoolctl>=2.0.0\n",
      "  Using cached threadpoolctl-3.1.0-py3-none-any.whl (14 kB)\n",
      "Collecting joblib>=0.11\n",
      "  Using cached joblib-1.1.0-py2.py3-none-any.whl (306 kB)\n",
      "Collecting typeguard>=2.7\n",
      "  Using cached typeguard-2.13.3-py3-none-any.whl (17 kB)\n",
      "Collecting tensorflow-metadata\n",
      "  Using cached tensorflow_metadata-1.7.0-py3-none-any.whl (48 kB)\n",
      "Collecting promise\n",
      "  Using cached promise-2.3-py3-none-any.whl\n",
      "Building wheels for collected packages: object-detection\n",
      "  Building wheel for object-detection (setup.py) ... \u001b[?25ldone\n",
      "\u001b[?25h  Created wheel for object-detection: filename=object_detection-0.1-py3-none-any.whl size=1654208 sha256=8cc1fc18a0957cab44058e1dc9d1ecabea6e4bfb3a08de42211aca3c79ca69ca\n",
      "  Stored in directory: /private/var/folders/wx/2pw40tpd1953pxbsb4hc0dwc0000gn/T/pip-ephem-wheel-cache-twklbsk3/wheels/01/1b/41/8ab26ee1584f078d401bf5f702a4a864d425b3ff4c7c5a82ac\n",
      "Successfully built object-detection\n",
      "Installing collected packages: pyparsing, numpy, threadpoolctl, text-unidecode, scipy, pillow, kiwisolver, joblib, httplib2, googleapis-common-protos, fonttools, cycler, uritemplate, typeguard, tqdm, tensorflow-metadata, tensorflow-hub, tabulate, scikit-learn, regex, pytz, python-slugify, promise, portalocker, matplotlib, google-auth-httplib2, google-api-core, docopt, dm-tree, dill, colorama, tf-slim, tensorflow-text, tensorflow-model-optimization, tensorflow-datasets, tensorflow-addons, seqeval, sentencepiece, sacrebleu, pyyaml, pymongo, pydot, pycocotools, pyarrow, py-cpuinfo, proto-plus, pandas, orjson, opencv-python-headless, opencv-python, oauth2client, kaggle, hdfs, google-api-python-client, gin-config, fastavro, Cython, crcmod, cloudpickle, tf-models-official, tensorflow-io, lxml, lvis, contextlib2, avro-python3, apache-beam, object-detection\n",
      "  Attempting uninstall: pyparsing\n",
      "    Found existing installation: pyparsing 3.0.7\n",
      "    Uninstalling pyparsing-3.0.7:\n",
      "      Successfully uninstalled pyparsing-3.0.7\n",
      "  Attempting uninstall: numpy\n",
      "    Found existing installation: numpy 1.22.3\n",
      "    Uninstalling numpy-1.22.3:\n",
      "      Successfully uninstalled numpy-1.22.3\n",
      "Successfully installed Cython-0.29.28 apache-beam-2.37.0 avro-python3-1.10.2 cloudpickle-2.0.0 colorama-0.4.4 contextlib2-21.6.0 crcmod-1.7 cycler-0.11.0 dill-0.3.1.1 dm-tree-0.1.6 docopt-0.6.2 fastavro-1.4.10 fonttools-4.31.2 gin-config-0.5.0 google-api-core-2.7.1 google-api-python-client-2.42.0 google-auth-httplib2-0.1.0 googleapis-common-protos-1.56.0 hdfs-2.6.0 httplib2-0.19.1 joblib-1.1.0 kaggle-1.5.12 kiwisolver-1.4.0 lvis-0.5.3 lxml-4.8.0 matplotlib-3.5.1 numpy-1.21.5 oauth2client-4.1.3 object-detection-0.1 opencv-python-4.5.5.64 opencv-python-headless-4.5.5.64 orjson-3.6.7 pandas-1.4.1 pillow-9.0.1 portalocker-2.4.0 promise-2.3 proto-plus-1.20.3 py-cpuinfo-8.0.0 pyarrow-6.0.1 pycocotools-2.0.4 pydot-1.4.2 pymongo-3.12.3 pyparsing-2.4.7 python-slugify-6.1.1 pytz-2022.1 pyyaml-5.4.1 regex-2022.3.15 sacrebleu-2.0.0 scikit-learn-1.0.2 scipy-1.8.0 sentencepiece-0.1.96 seqeval-1.2.2 tabulate-0.8.9 tensorflow-addons-0.16.1 tensorflow-datasets-4.5.2 tensorflow-hub-0.12.0 tensorflow-io-0.24.0 tensorflow-metadata-1.7.0 tensorflow-model-optimization-0.7.2 tensorflow-text-2.8.1 text-unidecode-1.3 tf-models-official-2.8.0 tf-slim-1.1.0 threadpoolctl-3.1.0 tqdm-4.63.1 typeguard-2.13.3 uritemplate-4.1.1\n",
      "\u001b[33mWARNING: You are using pip version 21.1.2; however, version 22.0.4 is available.\n",
      "You should consider upgrading via the '/Users/sebastien/PycharmProjects/IAProjetM1v6/venv/bin/python -m pip install --upgrade pip' command.\u001b[0m\n"
     ]
    }
   ],
   "source": [
    "# Install Tensorflow Object Detection \n",
    "if os.name=='posix':  \n",
    "    !pip install protobuf-compiler\n",
    "    !cd Tensorflow/models/research && protoc object_detection/protos/*.proto --python_out=. && cp object_detection/packages/tf2/setup.py . && python -m pip install . \n",
    "    \n",
    "if os.name=='nt':\n",
    "    url=\"https://github.com/protocolbuffers/protobuf/releases/download/v3.15.6/protoc-3.15.6-win64.zip\"\n",
    "    wget.download(url)\n",
    "    !move protoc-3.15.6-win64.zip {paths['PROTOC_PATH']}\n",
    "    !cd {paths['PROTOC_PATH']} && tar -xf protoc-3.15.6-win64.zip\n",
    "    os.environ['PATH'] += os.pathsep + os.path.abspath(os.path.join(paths['PROTOC_PATH'], 'bin'))   \n",
    "    !cd Tensorflow/models/research && protoc object_detection/protos/*.proto --python_out=. && copy object_detection\\\\packages\\\\tf2\\\\setup.py setup.py && python setup.py build && python setup.py install\n",
    "    !cd Tensorflow/models/research/slim && pip install -e . "
   ]
  },
  {
   "cell_type": "code",
   "execution_count": 9,
   "metadata": {
    "scrolled": true
   },
   "outputs": [
    {
     "name": "stdout",
     "output_type": "stream",
     "text": [
      "Running tests under Python 3.9.10: /Users/sebastien/PycharmProjects/IAProjetM1v6/venv/bin/python\n",
      "[ RUN      ] ModelBuilderTF2Test.test_create_center_net_deepmac\n",
      "2022-03-25 14:54:30.915673: I tensorflow/core/platform/cpu_feature_guard.cc:151] This TensorFlow binary is optimized with oneAPI Deep Neural Network Library (oneDNN) to use the following CPU instructions in performance-critical operations:  AVX2 FMA\n",
      "To enable them in other operations, rebuild TensorFlow with the appropriate compiler flags.\n",
      "/Users/sebastien/PycharmProjects/IAProjetM1v6/venv/lib/python3.9/site-packages/object_detection/builders/model_builder.py:1100: DeprecationWarning: The 'warn' function is deprecated, use 'warning' instead\n",
      "  logging.warn(('Building experimental DeepMAC meta-arch.'\n",
      "W0325 14:54:31.261125 4577011200 model_builder.py:1100] Building experimental DeepMAC meta-arch. Some features may be omitted.\n",
      "INFO:tensorflow:time(__main__.ModelBuilderTF2Test.test_create_center_net_deepmac): 0.61s\n",
      "I0325 14:54:31.500784 4577011200 test_util.py:2373] time(__main__.ModelBuilderTF2Test.test_create_center_net_deepmac): 0.61s\n",
      "[       OK ] ModelBuilderTF2Test.test_create_center_net_deepmac\n",
      "[ RUN      ] ModelBuilderTF2Test.test_create_center_net_model0 (customize_head_params=True)\n",
      "INFO:tensorflow:time(__main__.ModelBuilderTF2Test.test_create_center_net_model0 (customize_head_params=True)): 0.59s\n",
      "I0325 14:54:32.095318 4577011200 test_util.py:2373] time(__main__.ModelBuilderTF2Test.test_create_center_net_model0 (customize_head_params=True)): 0.59s\n",
      "[       OK ] ModelBuilderTF2Test.test_create_center_net_model0 (customize_head_params=True)\n",
      "[ RUN      ] ModelBuilderTF2Test.test_create_center_net_model1 (customize_head_params=False)\n",
      "INFO:tensorflow:time(__main__.ModelBuilderTF2Test.test_create_center_net_model1 (customize_head_params=False)): 0.27s\n",
      "I0325 14:54:32.361411 4577011200 test_util.py:2373] time(__main__.ModelBuilderTF2Test.test_create_center_net_model1 (customize_head_params=False)): 0.27s\n",
      "[       OK ] ModelBuilderTF2Test.test_create_center_net_model1 (customize_head_params=False)\n",
      "[ RUN      ] ModelBuilderTF2Test.test_create_center_net_model_from_keypoints\n",
      "INFO:tensorflow:time(__main__.ModelBuilderTF2Test.test_create_center_net_model_from_keypoints): 0.31s\n",
      "I0325 14:54:32.672890 4577011200 test_util.py:2373] time(__main__.ModelBuilderTF2Test.test_create_center_net_model_from_keypoints): 0.31s\n",
      "[       OK ] ModelBuilderTF2Test.test_create_center_net_model_from_keypoints\n",
      "[ RUN      ] ModelBuilderTF2Test.test_create_center_net_model_mobilenet\n",
      "INFO:tensorflow:time(__main__.ModelBuilderTF2Test.test_create_center_net_model_mobilenet): 1.57s\n",
      "I0325 14:54:34.242920 4577011200 test_util.py:2373] time(__main__.ModelBuilderTF2Test.test_create_center_net_model_mobilenet): 1.57s\n",
      "[       OK ] ModelBuilderTF2Test.test_create_center_net_model_mobilenet\n",
      "[ RUN      ] ModelBuilderTF2Test.test_create_experimental_model\n",
      "INFO:tensorflow:time(__main__.ModelBuilderTF2Test.test_create_experimental_model): 0.0s\n",
      "I0325 14:54:34.243750 4577011200 test_util.py:2373] time(__main__.ModelBuilderTF2Test.test_create_experimental_model): 0.0s\n",
      "[       OK ] ModelBuilderTF2Test.test_create_experimental_model\n",
      "[ RUN      ] ModelBuilderTF2Test.test_create_faster_rcnn_from_config_with_crop_feature0 (True)\n",
      "INFO:tensorflow:time(__main__.ModelBuilderTF2Test.test_create_faster_rcnn_from_config_with_crop_feature0 (True)): 0.04s\n",
      "I0325 14:54:34.282041 4577011200 test_util.py:2373] time(__main__.ModelBuilderTF2Test.test_create_faster_rcnn_from_config_with_crop_feature0 (True)): 0.04s\n",
      "[       OK ] ModelBuilderTF2Test.test_create_faster_rcnn_from_config_with_crop_feature0 (True)\n",
      "[ RUN      ] ModelBuilderTF2Test.test_create_faster_rcnn_from_config_with_crop_feature1 (False)\n",
      "INFO:tensorflow:time(__main__.ModelBuilderTF2Test.test_create_faster_rcnn_from_config_with_crop_feature1 (False)): 0.03s\n",
      "I0325 14:54:34.309819 4577011200 test_util.py:2373] time(__main__.ModelBuilderTF2Test.test_create_faster_rcnn_from_config_with_crop_feature1 (False)): 0.03s\n",
      "[       OK ] ModelBuilderTF2Test.test_create_faster_rcnn_from_config_with_crop_feature1 (False)\n",
      "[ RUN      ] ModelBuilderTF2Test.test_create_faster_rcnn_model_from_config_with_example_miner\n",
      "INFO:tensorflow:time(__main__.ModelBuilderTF2Test.test_create_faster_rcnn_model_from_config_with_example_miner): 0.02s\n",
      "I0325 14:54:34.330667 4577011200 test_util.py:2373] time(__main__.ModelBuilderTF2Test.test_create_faster_rcnn_model_from_config_with_example_miner): 0.02s\n",
      "[       OK ] ModelBuilderTF2Test.test_create_faster_rcnn_model_from_config_with_example_miner\n",
      "[ RUN      ] ModelBuilderTF2Test.test_create_faster_rcnn_models_from_config_faster_rcnn_with_matmul\n",
      "INFO:tensorflow:time(__main__.ModelBuilderTF2Test.test_create_faster_rcnn_models_from_config_faster_rcnn_with_matmul): 0.1s\n",
      "I0325 14:54:34.428906 4577011200 test_util.py:2373] time(__main__.ModelBuilderTF2Test.test_create_faster_rcnn_models_from_config_faster_rcnn_with_matmul): 0.1s\n",
      "[       OK ] ModelBuilderTF2Test.test_create_faster_rcnn_models_from_config_faster_rcnn_with_matmul\n",
      "[ RUN      ] ModelBuilderTF2Test.test_create_faster_rcnn_models_from_config_faster_rcnn_without_matmul\n",
      "INFO:tensorflow:time(__main__.ModelBuilderTF2Test.test_create_faster_rcnn_models_from_config_faster_rcnn_without_matmul): 0.1s\n",
      "I0325 14:54:34.525509 4577011200 test_util.py:2373] time(__main__.ModelBuilderTF2Test.test_create_faster_rcnn_models_from_config_faster_rcnn_without_matmul): 0.1s\n",
      "[       OK ] ModelBuilderTF2Test.test_create_faster_rcnn_models_from_config_faster_rcnn_without_matmul\n",
      "[ RUN      ] ModelBuilderTF2Test.test_create_faster_rcnn_models_from_config_mask_rcnn_with_matmul\n",
      "INFO:tensorflow:time(__main__.ModelBuilderTF2Test.test_create_faster_rcnn_models_from_config_mask_rcnn_with_matmul): 0.12s\n",
      "I0325 14:54:34.645050 4577011200 test_util.py:2373] time(__main__.ModelBuilderTF2Test.test_create_faster_rcnn_models_from_config_mask_rcnn_with_matmul): 0.12s\n",
      "[       OK ] ModelBuilderTF2Test.test_create_faster_rcnn_models_from_config_mask_rcnn_with_matmul\n",
      "[ RUN      ] ModelBuilderTF2Test.test_create_faster_rcnn_models_from_config_mask_rcnn_without_matmul\n",
      "INFO:tensorflow:time(__main__.ModelBuilderTF2Test.test_create_faster_rcnn_models_from_config_mask_rcnn_without_matmul): 0.09s\n",
      "I0325 14:54:34.740302 4577011200 test_util.py:2373] time(__main__.ModelBuilderTF2Test.test_create_faster_rcnn_models_from_config_mask_rcnn_without_matmul): 0.09s\n",
      "[       OK ] ModelBuilderTF2Test.test_create_faster_rcnn_models_from_config_mask_rcnn_without_matmul\n",
      "[ RUN      ] ModelBuilderTF2Test.test_create_rfcn_model_from_config\n",
      "INFO:tensorflow:time(__main__.ModelBuilderTF2Test.test_create_rfcn_model_from_config): 0.1s\n",
      "I0325 14:54:34.843629 4577011200 test_util.py:2373] time(__main__.ModelBuilderTF2Test.test_create_rfcn_model_from_config): 0.1s\n",
      "[       OK ] ModelBuilderTF2Test.test_create_rfcn_model_from_config\n",
      "[ RUN      ] ModelBuilderTF2Test.test_create_ssd_fpn_model_from_config\n",
      "INFO:tensorflow:time(__main__.ModelBuilderTF2Test.test_create_ssd_fpn_model_from_config): 0.04s\n",
      "I0325 14:54:34.884367 4577011200 test_util.py:2373] time(__main__.ModelBuilderTF2Test.test_create_ssd_fpn_model_from_config): 0.04s\n",
      "[       OK ] ModelBuilderTF2Test.test_create_ssd_fpn_model_from_config\n",
      "[ RUN      ] ModelBuilderTF2Test.test_create_ssd_models_from_config\n",
      "I0325 14:54:35.097710 4577011200 ssd_efficientnet_bifpn_feature_extractor.py:145] EfficientDet EfficientNet backbone version: efficientnet-b0\n",
      "I0325 14:54:35.097848 4577011200 ssd_efficientnet_bifpn_feature_extractor.py:147] EfficientDet BiFPN num filters: 64\n",
      "I0325 14:54:35.097918 4577011200 ssd_efficientnet_bifpn_feature_extractor.py:148] EfficientDet BiFPN num iterations: 3\n",
      "I0325 14:54:35.100678 4577011200 efficientnet_model.py:144] round_filter input=32 output=32\n",
      "I0325 14:54:35.118020 4577011200 efficientnet_model.py:144] round_filter input=32 output=32\n",
      "I0325 14:54:35.118150 4577011200 efficientnet_model.py:144] round_filter input=16 output=16\n",
      "I0325 14:54:35.177578 4577011200 efficientnet_model.py:144] round_filter input=16 output=16\n",
      "I0325 14:54:35.177745 4577011200 efficientnet_model.py:144] round_filter input=24 output=24\n",
      "I0325 14:54:35.467082 4577011200 efficientnet_model.py:144] round_filter input=24 output=24\n",
      "I0325 14:54:35.467287 4577011200 efficientnet_model.py:144] round_filter input=40 output=40\n"
     ]
    },
    {
     "name": "stdout",
     "output_type": "stream",
     "text": [
      "I0325 14:54:35.805299 4577011200 efficientnet_model.py:144] round_filter input=40 output=40\n",
      "I0325 14:54:35.805521 4577011200 efficientnet_model.py:144] round_filter input=80 output=80\n",
      "I0325 14:54:36.057960 4577011200 efficientnet_model.py:144] round_filter input=80 output=80\n",
      "I0325 14:54:36.058083 4577011200 efficientnet_model.py:144] round_filter input=112 output=112\n",
      "I0325 14:54:36.290576 4577011200 efficientnet_model.py:144] round_filter input=112 output=112\n",
      "I0325 14:54:36.290710 4577011200 efficientnet_model.py:144] round_filter input=192 output=192\n",
      "I0325 14:54:36.592997 4577011200 efficientnet_model.py:144] round_filter input=192 output=192\n",
      "I0325 14:54:36.593122 4577011200 efficientnet_model.py:144] round_filter input=320 output=320\n",
      "I0325 14:54:36.665149 4577011200 efficientnet_model.py:144] round_filter input=1280 output=1280\n",
      "I0325 14:54:36.700635 4577011200 efficientnet_model.py:454] Building model efficientnet with params ModelConfig(width_coefficient=1.0, depth_coefficient=1.0, resolution=224, dropout_rate=0.2, blocks=(BlockConfig(input_filters=32, output_filters=16, kernel_size=3, num_repeat=1, expand_ratio=1, strides=(1, 1), se_ratio=0.25, id_skip=True, fused_conv=False, conv_type='depthwise'), BlockConfig(input_filters=16, output_filters=24, kernel_size=3, num_repeat=2, expand_ratio=6, strides=(2, 2), se_ratio=0.25, id_skip=True, fused_conv=False, conv_type='depthwise'), BlockConfig(input_filters=24, output_filters=40, kernel_size=5, num_repeat=2, expand_ratio=6, strides=(2, 2), se_ratio=0.25, id_skip=True, fused_conv=False, conv_type='depthwise'), BlockConfig(input_filters=40, output_filters=80, kernel_size=3, num_repeat=3, expand_ratio=6, strides=(2, 2), se_ratio=0.25, id_skip=True, fused_conv=False, conv_type='depthwise'), BlockConfig(input_filters=80, output_filters=112, kernel_size=5, num_repeat=3, expand_ratio=6, strides=(1, 1), se_ratio=0.25, id_skip=True, fused_conv=False, conv_type='depthwise'), BlockConfig(input_filters=112, output_filters=192, kernel_size=5, num_repeat=4, expand_ratio=6, strides=(2, 2), se_ratio=0.25, id_skip=True, fused_conv=False, conv_type='depthwise'), BlockConfig(input_filters=192, output_filters=320, kernel_size=3, num_repeat=1, expand_ratio=6, strides=(1, 1), se_ratio=0.25, id_skip=True, fused_conv=False, conv_type='depthwise')), stem_base_filters=32, top_base_filters=1280, activation='simple_swish', batch_norm='default', bn_momentum=0.99, bn_epsilon=0.001, weight_decay=5e-06, drop_connect_rate=0.2, depth_divisor=8, min_depth=None, use_se=True, input_channels=3, num_classes=1000, model_name='efficientnet', rescale_input=False, data_format='channels_last', dtype='float32')\n",
      "I0325 14:54:36.749680 4577011200 ssd_efficientnet_bifpn_feature_extractor.py:145] EfficientDet EfficientNet backbone version: efficientnet-b1\n",
      "I0325 14:54:36.749801 4577011200 ssd_efficientnet_bifpn_feature_extractor.py:147] EfficientDet BiFPN num filters: 88\n",
      "I0325 14:54:36.749852 4577011200 ssd_efficientnet_bifpn_feature_extractor.py:148] EfficientDet BiFPN num iterations: 4\n",
      "I0325 14:54:36.751245 4577011200 efficientnet_model.py:144] round_filter input=32 output=32\n",
      "I0325 14:54:36.764515 4577011200 efficientnet_model.py:144] round_filter input=32 output=32\n",
      "I0325 14:54:36.764616 4577011200 efficientnet_model.py:144] round_filter input=16 output=16\n",
      "I0325 14:54:36.878612 4577011200 efficientnet_model.py:144] round_filter input=16 output=16\n",
      "I0325 14:54:36.878735 4577011200 efficientnet_model.py:144] round_filter input=24 output=24\n",
      "I0325 14:54:37.068330 4577011200 efficientnet_model.py:144] round_filter input=24 output=24\n",
      "I0325 14:54:37.068451 4577011200 efficientnet_model.py:144] round_filter input=40 output=40\n",
      "I0325 14:54:37.262450 4577011200 efficientnet_model.py:144] round_filter input=40 output=40\n",
      "I0325 14:54:37.262574 4577011200 efficientnet_model.py:144] round_filter input=80 output=80\n",
      "I0325 14:54:37.537790 4577011200 efficientnet_model.py:144] round_filter input=80 output=80\n",
      "I0325 14:54:37.537917 4577011200 efficientnet_model.py:144] round_filter input=112 output=112\n",
      "I0325 14:54:37.907684 4577011200 efficientnet_model.py:144] round_filter input=112 output=112\n",
      "I0325 14:54:37.907955 4577011200 efficientnet_model.py:144] round_filter input=192 output=192\n",
      "I0325 14:54:38.320850 4577011200 efficientnet_model.py:144] round_filter input=192 output=192\n",
      "I0325 14:54:38.320977 4577011200 efficientnet_model.py:144] round_filter input=320 output=320\n",
      "I0325 14:54:38.473368 4577011200 efficientnet_model.py:144] round_filter input=1280 output=1280\n",
      "I0325 14:54:38.509703 4577011200 efficientnet_model.py:454] Building model efficientnet with params ModelConfig(width_coefficient=1.0, depth_coefficient=1.1, resolution=240, dropout_rate=0.2, blocks=(BlockConfig(input_filters=32, output_filters=16, kernel_size=3, num_repeat=1, expand_ratio=1, strides=(1, 1), se_ratio=0.25, id_skip=True, fused_conv=False, conv_type='depthwise'), BlockConfig(input_filters=16, output_filters=24, kernel_size=3, num_repeat=2, expand_ratio=6, strides=(2, 2), se_ratio=0.25, id_skip=True, fused_conv=False, conv_type='depthwise'), BlockConfig(input_filters=24, output_filters=40, kernel_size=5, num_repeat=2, expand_ratio=6, strides=(2, 2), se_ratio=0.25, id_skip=True, fused_conv=False, conv_type='depthwise'), BlockConfig(input_filters=40, output_filters=80, kernel_size=3, num_repeat=3, expand_ratio=6, strides=(2, 2), se_ratio=0.25, id_skip=True, fused_conv=False, conv_type='depthwise'), BlockConfig(input_filters=80, output_filters=112, kernel_size=5, num_repeat=3, expand_ratio=6, strides=(1, 1), se_ratio=0.25, id_skip=True, fused_conv=False, conv_type='depthwise'), BlockConfig(input_filters=112, output_filters=192, kernel_size=5, num_repeat=4, expand_ratio=6, strides=(2, 2), se_ratio=0.25, id_skip=True, fused_conv=False, conv_type='depthwise'), BlockConfig(input_filters=192, output_filters=320, kernel_size=3, num_repeat=1, expand_ratio=6, strides=(1, 1), se_ratio=0.25, id_skip=True, fused_conv=False, conv_type='depthwise')), stem_base_filters=32, top_base_filters=1280, activation='simple_swish', batch_norm='default', bn_momentum=0.99, bn_epsilon=0.001, weight_decay=5e-06, drop_connect_rate=0.2, depth_divisor=8, min_depth=None, use_se=True, input_channels=3, num_classes=1000, model_name='efficientnet', rescale_input=False, data_format='channels_last', dtype='float32')\n",
      "I0325 14:54:38.569543 4577011200 ssd_efficientnet_bifpn_feature_extractor.py:145] EfficientDet EfficientNet backbone version: efficientnet-b2\n",
      "I0325 14:54:38.569667 4577011200 ssd_efficientnet_bifpn_feature_extractor.py:147] EfficientDet BiFPN num filters: 112\n",
      "I0325 14:54:38.569720 4577011200 ssd_efficientnet_bifpn_feature_extractor.py:148] EfficientDet BiFPN num iterations: 5\n",
      "I0325 14:54:38.571534 4577011200 efficientnet_model.py:144] round_filter input=32 output=32\n",
      "I0325 14:54:38.590678 4577011200 efficientnet_model.py:144] round_filter input=32 output=32\n",
      "I0325 14:54:38.590810 4577011200 efficientnet_model.py:144] round_filter input=16 output=16\n",
      "I0325 14:54:38.712419 4577011200 efficientnet_model.py:144] round_filter input=16 output=16\n",
      "I0325 14:54:38.712543 4577011200 efficientnet_model.py:144] round_filter input=24 output=24\n",
      "I0325 14:54:38.930516 4577011200 efficientnet_model.py:144] round_filter input=24 output=24\n",
      "I0325 14:54:38.930639 4577011200 efficientnet_model.py:144] round_filter input=40 output=48\n",
      "I0325 14:54:39.146333 4577011200 efficientnet_model.py:144] round_filter input=40 output=48\n",
      "I0325 14:54:39.146451 4577011200 efficientnet_model.py:144] round_filter input=80 output=88\n",
      "I0325 14:54:39.569278 4577011200 efficientnet_model.py:144] round_filter input=80 output=88\n",
      "I0325 14:54:39.569410 4577011200 efficientnet_model.py:144] round_filter input=112 output=120\n",
      "I0325 14:54:39.837165 4577011200 efficientnet_model.py:144] round_filter input=112 output=120\n",
      "I0325 14:54:39.837290 4577011200 efficientnet_model.py:144] round_filter input=192 output=208\n",
      "I0325 14:54:40.194127 4577011200 efficientnet_model.py:144] round_filter input=192 output=208\n",
      "I0325 14:54:40.194271 4577011200 efficientnet_model.py:144] round_filter input=320 output=352\n",
      "I0325 14:54:40.362215 4577011200 efficientnet_model.py:144] round_filter input=1280 output=1408\n",
      "I0325 14:54:40.399964 4577011200 efficientnet_model.py:454] Building model efficientnet with params ModelConfig(width_coefficient=1.1, depth_coefficient=1.2, resolution=260, dropout_rate=0.3, blocks=(BlockConfig(input_filters=32, output_filters=16, kernel_size=3, num_repeat=1, expand_ratio=1, strides=(1, 1), se_ratio=0.25, id_skip=True, fused_conv=False, conv_type='depthwise'), BlockConfig(input_filters=16, output_filters=24, kernel_size=3, num_repeat=2, expand_ratio=6, strides=(2, 2), se_ratio=0.25, id_skip=True, fused_conv=False, conv_type='depthwise'), BlockConfig(input_filters=24, output_filters=40, kernel_size=5, num_repeat=2, expand_ratio=6, strides=(2, 2), se_ratio=0.25, id_skip=True, fused_conv=False, conv_type='depthwise'), BlockConfig(input_filters=40, output_filters=80, kernel_size=3, num_repeat=3, expand_ratio=6, strides=(2, 2), se_ratio=0.25, id_skip=True, fused_conv=False, conv_type='depthwise'), BlockConfig(input_filters=80, output_filters=112, kernel_size=5, num_repeat=3, expand_ratio=6, strides=(1, 1), se_ratio=0.25, id_skip=True, fused_conv=False, conv_type='depthwise'), BlockConfig(input_filters=112, output_filters=192, kernel_size=5, num_repeat=4, expand_ratio=6, strides=(2, 2), se_ratio=0.25, id_skip=True, fused_conv=False, conv_type='depthwise'), BlockConfig(input_filters=192, output_filters=320, kernel_size=3, num_repeat=1, expand_ratio=6, strides=(1, 1), se_ratio=0.25, id_skip=True, fused_conv=False, conv_type='depthwise')), stem_base_filters=32, top_base_filters=1280, activation='simple_swish', batch_norm='default', bn_momentum=0.99, bn_epsilon=0.001, weight_decay=5e-06, drop_connect_rate=0.2, depth_divisor=8, min_depth=None, use_se=True, input_channels=3, num_classes=1000, model_name='efficientnet', rescale_input=False, data_format='channels_last', dtype='float32')\n"
     ]
    },
    {
     "name": "stdout",
     "output_type": "stream",
     "text": [
      "I0325 14:54:40.462204 4577011200 ssd_efficientnet_bifpn_feature_extractor.py:145] EfficientDet EfficientNet backbone version: efficientnet-b3\n",
      "I0325 14:54:40.462350 4577011200 ssd_efficientnet_bifpn_feature_extractor.py:147] EfficientDet BiFPN num filters: 160\n",
      "I0325 14:54:40.462405 4577011200 ssd_efficientnet_bifpn_feature_extractor.py:148] EfficientDet BiFPN num iterations: 6\n",
      "I0325 14:54:40.463902 4577011200 efficientnet_model.py:144] round_filter input=32 output=40\n",
      "I0325 14:54:40.479046 4577011200 efficientnet_model.py:144] round_filter input=32 output=40\n",
      "I0325 14:54:40.479183 4577011200 efficientnet_model.py:144] round_filter input=16 output=24\n",
      "I0325 14:54:40.592688 4577011200 efficientnet_model.py:144] round_filter input=16 output=24\n",
      "I0325 14:54:40.592815 4577011200 efficientnet_model.py:144] round_filter input=24 output=32\n",
      "I0325 14:54:40.785490 4577011200 efficientnet_model.py:144] round_filter input=24 output=32\n",
      "I0325 14:54:40.785638 4577011200 efficientnet_model.py:144] round_filter input=40 output=48\n",
      "I0325 14:54:41.002382 4577011200 efficientnet_model.py:144] round_filter input=40 output=48\n",
      "I0325 14:54:41.002514 4577011200 efficientnet_model.py:144] round_filter input=80 output=96\n",
      "I0325 14:54:41.367269 4577011200 efficientnet_model.py:144] round_filter input=80 output=96\n",
      "I0325 14:54:41.367397 4577011200 efficientnet_model.py:144] round_filter input=112 output=136\n",
      "I0325 14:54:41.740414 4577011200 efficientnet_model.py:144] round_filter input=112 output=136\n",
      "I0325 14:54:41.740538 4577011200 efficientnet_model.py:144] round_filter input=192 output=232\n",
      "I0325 14:54:42.184267 4577011200 efficientnet_model.py:144] round_filter input=192 output=232\n",
      "I0325 14:54:42.184391 4577011200 efficientnet_model.py:144] round_filter input=320 output=384\n",
      "I0325 14:54:42.346817 4577011200 efficientnet_model.py:144] round_filter input=1280 output=1536\n",
      "I0325 14:54:42.386821 4577011200 efficientnet_model.py:454] Building model efficientnet with params ModelConfig(width_coefficient=1.2, depth_coefficient=1.4, resolution=300, dropout_rate=0.3, blocks=(BlockConfig(input_filters=32, output_filters=16, kernel_size=3, num_repeat=1, expand_ratio=1, strides=(1, 1), se_ratio=0.25, id_skip=True, fused_conv=False, conv_type='depthwise'), BlockConfig(input_filters=16, output_filters=24, kernel_size=3, num_repeat=2, expand_ratio=6, strides=(2, 2), se_ratio=0.25, id_skip=True, fused_conv=False, conv_type='depthwise'), BlockConfig(input_filters=24, output_filters=40, kernel_size=5, num_repeat=2, expand_ratio=6, strides=(2, 2), se_ratio=0.25, id_skip=True, fused_conv=False, conv_type='depthwise'), BlockConfig(input_filters=40, output_filters=80, kernel_size=3, num_repeat=3, expand_ratio=6, strides=(2, 2), se_ratio=0.25, id_skip=True, fused_conv=False, conv_type='depthwise'), BlockConfig(input_filters=80, output_filters=112, kernel_size=5, num_repeat=3, expand_ratio=6, strides=(1, 1), se_ratio=0.25, id_skip=True, fused_conv=False, conv_type='depthwise'), BlockConfig(input_filters=112, output_filters=192, kernel_size=5, num_repeat=4, expand_ratio=6, strides=(2, 2), se_ratio=0.25, id_skip=True, fused_conv=False, conv_type='depthwise'), BlockConfig(input_filters=192, output_filters=320, kernel_size=3, num_repeat=1, expand_ratio=6, strides=(1, 1), se_ratio=0.25, id_skip=True, fused_conv=False, conv_type='depthwise')), stem_base_filters=32, top_base_filters=1280, activation='simple_swish', batch_norm='default', bn_momentum=0.99, bn_epsilon=0.001, weight_decay=5e-06, drop_connect_rate=0.2, depth_divisor=8, min_depth=None, use_se=True, input_channels=3, num_classes=1000, model_name='efficientnet', rescale_input=False, data_format='channels_last', dtype='float32')\n",
      "I0325 14:54:42.454419 4577011200 ssd_efficientnet_bifpn_feature_extractor.py:145] EfficientDet EfficientNet backbone version: efficientnet-b4\n",
      "I0325 14:54:42.454577 4577011200 ssd_efficientnet_bifpn_feature_extractor.py:147] EfficientDet BiFPN num filters: 224\n",
      "I0325 14:54:42.454667 4577011200 ssd_efficientnet_bifpn_feature_extractor.py:148] EfficientDet BiFPN num iterations: 7\n",
      "I0325 14:54:42.456580 4577011200 efficientnet_model.py:144] round_filter input=32 output=48\n",
      "I0325 14:54:42.471027 4577011200 efficientnet_model.py:144] round_filter input=32 output=48\n",
      "I0325 14:54:42.471147 4577011200 efficientnet_model.py:144] round_filter input=16 output=24\n",
      "I0325 14:54:42.577925 4577011200 efficientnet_model.py:144] round_filter input=16 output=24\n",
      "I0325 14:54:42.578047 4577011200 efficientnet_model.py:144] round_filter input=24 output=32\n",
      "I0325 14:54:42.847472 4577011200 efficientnet_model.py:144] round_filter input=24 output=32\n",
      "I0325 14:54:42.847640 4577011200 efficientnet_model.py:144] round_filter input=40 output=56\n",
      "I0325 14:54:43.124614 4577011200 efficientnet_model.py:144] round_filter input=40 output=56\n",
      "I0325 14:54:43.124742 4577011200 efficientnet_model.py:144] round_filter input=80 output=112\n",
      "I0325 14:54:43.528102 4577011200 efficientnet_model.py:144] round_filter input=80 output=112\n",
      "I0325 14:54:43.528221 4577011200 efficientnet_model.py:144] round_filter input=112 output=160\n",
      "I0325 14:54:44.111462 4577011200 efficientnet_model.py:144] round_filter input=112 output=160\n",
      "I0325 14:54:44.111582 4577011200 efficientnet_model.py:144] round_filter input=192 output=272\n",
      "I0325 14:54:44.681947 4577011200 efficientnet_model.py:144] round_filter input=192 output=272\n",
      "I0325 14:54:44.682072 4577011200 efficientnet_model.py:144] round_filter input=320 output=448\n",
      "I0325 14:54:44.850561 4577011200 efficientnet_model.py:144] round_filter input=1280 output=1792\n",
      "I0325 14:54:44.894106 4577011200 efficientnet_model.py:454] Building model efficientnet with params ModelConfig(width_coefficient=1.4, depth_coefficient=1.8, resolution=380, dropout_rate=0.4, blocks=(BlockConfig(input_filters=32, output_filters=16, kernel_size=3, num_repeat=1, expand_ratio=1, strides=(1, 1), se_ratio=0.25, id_skip=True, fused_conv=False, conv_type='depthwise'), BlockConfig(input_filters=16, output_filters=24, kernel_size=3, num_repeat=2, expand_ratio=6, strides=(2, 2), se_ratio=0.25, id_skip=True, fused_conv=False, conv_type='depthwise'), BlockConfig(input_filters=24, output_filters=40, kernel_size=5, num_repeat=2, expand_ratio=6, strides=(2, 2), se_ratio=0.25, id_skip=True, fused_conv=False, conv_type='depthwise'), BlockConfig(input_filters=40, output_filters=80, kernel_size=3, num_repeat=3, expand_ratio=6, strides=(2, 2), se_ratio=0.25, id_skip=True, fused_conv=False, conv_type='depthwise'), BlockConfig(input_filters=80, output_filters=112, kernel_size=5, num_repeat=3, expand_ratio=6, strides=(1, 1), se_ratio=0.25, id_skip=True, fused_conv=False, conv_type='depthwise'), BlockConfig(input_filters=112, output_filters=192, kernel_size=5, num_repeat=4, expand_ratio=6, strides=(2, 2), se_ratio=0.25, id_skip=True, fused_conv=False, conv_type='depthwise'), BlockConfig(input_filters=192, output_filters=320, kernel_size=3, num_repeat=1, expand_ratio=6, strides=(1, 1), se_ratio=0.25, id_skip=True, fused_conv=False, conv_type='depthwise')), stem_base_filters=32, top_base_filters=1280, activation='simple_swish', batch_norm='default', bn_momentum=0.99, bn_epsilon=0.001, weight_decay=5e-06, drop_connect_rate=0.2, depth_divisor=8, min_depth=None, use_se=True, input_channels=3, num_classes=1000, model_name='efficientnet', rescale_input=False, data_format='channels_last', dtype='float32')\n",
      "I0325 14:54:44.972140 4577011200 ssd_efficientnet_bifpn_feature_extractor.py:145] EfficientDet EfficientNet backbone version: efficientnet-b5\n",
      "I0325 14:54:44.972302 4577011200 ssd_efficientnet_bifpn_feature_extractor.py:147] EfficientDet BiFPN num filters: 288\n",
      "I0325 14:54:44.972453 4577011200 ssd_efficientnet_bifpn_feature_extractor.py:148] EfficientDet BiFPN num iterations: 7\n",
      "I0325 14:54:44.974370 4577011200 efficientnet_model.py:144] round_filter input=32 output=48\n",
      "I0325 14:54:44.986533 4577011200 efficientnet_model.py:144] round_filter input=32 output=48\n",
      "I0325 14:54:44.986637 4577011200 efficientnet_model.py:144] round_filter input=16 output=24\n",
      "I0325 14:54:45.140037 4577011200 efficientnet_model.py:144] round_filter input=16 output=24\n",
      "I0325 14:54:45.140155 4577011200 efficientnet_model.py:144] round_filter input=24 output=40\n"
     ]
    },
    {
     "name": "stdout",
     "output_type": "stream",
     "text": [
      "I0325 14:54:45.472205 4577011200 efficientnet_model.py:144] round_filter input=24 output=40\n",
      "I0325 14:54:45.472328 4577011200 efficientnet_model.py:144] round_filter input=40 output=64\n",
      "I0325 14:54:45.810496 4577011200 efficientnet_model.py:144] round_filter input=40 output=64\n",
      "I0325 14:54:45.810619 4577011200 efficientnet_model.py:144] round_filter input=80 output=128\n",
      "I0325 14:54:46.281533 4577011200 efficientnet_model.py:144] round_filter input=80 output=128\n",
      "I0325 14:54:46.281651 4577011200 efficientnet_model.py:144] round_filter input=112 output=176\n",
      "I0325 14:54:46.765459 4577011200 efficientnet_model.py:144] round_filter input=112 output=176\n",
      "I0325 14:54:46.765583 4577011200 efficientnet_model.py:144] round_filter input=192 output=304\n",
      "I0325 14:54:47.470437 4577011200 efficientnet_model.py:144] round_filter input=192 output=304\n",
      "I0325 14:54:47.470563 4577011200 efficientnet_model.py:144] round_filter input=320 output=512\n",
      "I0325 14:54:47.749025 4577011200 efficientnet_model.py:144] round_filter input=1280 output=2048\n",
      "I0325 14:54:47.810830 4577011200 efficientnet_model.py:454] Building model efficientnet with params ModelConfig(width_coefficient=1.6, depth_coefficient=2.2, resolution=456, dropout_rate=0.4, blocks=(BlockConfig(input_filters=32, output_filters=16, kernel_size=3, num_repeat=1, expand_ratio=1, strides=(1, 1), se_ratio=0.25, id_skip=True, fused_conv=False, conv_type='depthwise'), BlockConfig(input_filters=16, output_filters=24, kernel_size=3, num_repeat=2, expand_ratio=6, strides=(2, 2), se_ratio=0.25, id_skip=True, fused_conv=False, conv_type='depthwise'), BlockConfig(input_filters=24, output_filters=40, kernel_size=5, num_repeat=2, expand_ratio=6, strides=(2, 2), se_ratio=0.25, id_skip=True, fused_conv=False, conv_type='depthwise'), BlockConfig(input_filters=40, output_filters=80, kernel_size=3, num_repeat=3, expand_ratio=6, strides=(2, 2), se_ratio=0.25, id_skip=True, fused_conv=False, conv_type='depthwise'), BlockConfig(input_filters=80, output_filters=112, kernel_size=5, num_repeat=3, expand_ratio=6, strides=(1, 1), se_ratio=0.25, id_skip=True, fused_conv=False, conv_type='depthwise'), BlockConfig(input_filters=112, output_filters=192, kernel_size=5, num_repeat=4, expand_ratio=6, strides=(2, 2), se_ratio=0.25, id_skip=True, fused_conv=False, conv_type='depthwise'), BlockConfig(input_filters=192, output_filters=320, kernel_size=3, num_repeat=1, expand_ratio=6, strides=(1, 1), se_ratio=0.25, id_skip=True, fused_conv=False, conv_type='depthwise')), stem_base_filters=32, top_base_filters=1280, activation='simple_swish', batch_norm='default', bn_momentum=0.99, bn_epsilon=0.001, weight_decay=5e-06, drop_connect_rate=0.2, depth_divisor=8, min_depth=None, use_se=True, input_channels=3, num_classes=1000, model_name='efficientnet', rescale_input=False, data_format='channels_last', dtype='float32')\n",
      "I0325 14:54:47.911494 4577011200 ssd_efficientnet_bifpn_feature_extractor.py:145] EfficientDet EfficientNet backbone version: efficientnet-b6\n",
      "I0325 14:54:47.911633 4577011200 ssd_efficientnet_bifpn_feature_extractor.py:147] EfficientDet BiFPN num filters: 384\n",
      "I0325 14:54:47.911696 4577011200 ssd_efficientnet_bifpn_feature_extractor.py:148] EfficientDet BiFPN num iterations: 8\n",
      "I0325 14:54:47.914384 4577011200 efficientnet_model.py:144] round_filter input=32 output=56\n",
      "I0325 14:54:47.927989 4577011200 efficientnet_model.py:144] round_filter input=32 output=56\n",
      "I0325 14:54:47.928120 4577011200 efficientnet_model.py:144] round_filter input=16 output=32\n",
      "I0325 14:54:48.360314 4577011200 efficientnet_model.py:144] round_filter input=16 output=32\n",
      "I0325 14:54:48.360450 4577011200 efficientnet_model.py:144] round_filter input=24 output=40\n",
      "I0325 14:54:48.760537 4577011200 efficientnet_model.py:144] round_filter input=24 output=40\n",
      "I0325 14:54:48.760653 4577011200 efficientnet_model.py:144] round_filter input=40 output=72\n",
      "I0325 14:54:49.166131 4577011200 efficientnet_model.py:144] round_filter input=40 output=72\n",
      "I0325 14:54:49.166260 4577011200 efficientnet_model.py:144] round_filter input=80 output=144\n",
      "I0325 14:54:49.701508 4577011200 efficientnet_model.py:144] round_filter input=80 output=144\n",
      "I0325 14:54:49.701626 4577011200 efficientnet_model.py:144] round_filter input=112 output=200\n",
      "I0325 14:54:50.313329 4577011200 efficientnet_model.py:144] round_filter input=112 output=200\n",
      "I0325 14:54:50.313459 4577011200 efficientnet_model.py:144] round_filter input=192 output=344\n",
      "I0325 14:54:51.203759 4577011200 efficientnet_model.py:144] round_filter input=192 output=344\n",
      "I0325 14:54:51.203885 4577011200 efficientnet_model.py:144] round_filter input=320 output=576\n",
      "I0325 14:54:51.542586 4577011200 efficientnet_model.py:144] round_filter input=1280 output=2304\n",
      "I0325 14:54:51.608184 4577011200 efficientnet_model.py:454] Building model efficientnet with params ModelConfig(width_coefficient=1.8, depth_coefficient=2.6, resolution=528, dropout_rate=0.5, blocks=(BlockConfig(input_filters=32, output_filters=16, kernel_size=3, num_repeat=1, expand_ratio=1, strides=(1, 1), se_ratio=0.25, id_skip=True, fused_conv=False, conv_type='depthwise'), BlockConfig(input_filters=16, output_filters=24, kernel_size=3, num_repeat=2, expand_ratio=6, strides=(2, 2), se_ratio=0.25, id_skip=True, fused_conv=False, conv_type='depthwise'), BlockConfig(input_filters=24, output_filters=40, kernel_size=5, num_repeat=2, expand_ratio=6, strides=(2, 2), se_ratio=0.25, id_skip=True, fused_conv=False, conv_type='depthwise'), BlockConfig(input_filters=40, output_filters=80, kernel_size=3, num_repeat=3, expand_ratio=6, strides=(2, 2), se_ratio=0.25, id_skip=True, fused_conv=False, conv_type='depthwise'), BlockConfig(input_filters=80, output_filters=112, kernel_size=5, num_repeat=3, expand_ratio=6, strides=(1, 1), se_ratio=0.25, id_skip=True, fused_conv=False, conv_type='depthwise'), BlockConfig(input_filters=112, output_filters=192, kernel_size=5, num_repeat=4, expand_ratio=6, strides=(2, 2), se_ratio=0.25, id_skip=True, fused_conv=False, conv_type='depthwise'), BlockConfig(input_filters=192, output_filters=320, kernel_size=3, num_repeat=1, expand_ratio=6, strides=(1, 1), se_ratio=0.25, id_skip=True, fused_conv=False, conv_type='depthwise')), stem_base_filters=32, top_base_filters=1280, activation='simple_swish', batch_norm='default', bn_momentum=0.99, bn_epsilon=0.001, weight_decay=5e-06, drop_connect_rate=0.2, depth_divisor=8, min_depth=None, use_se=True, input_channels=3, num_classes=1000, model_name='efficientnet', rescale_input=False, data_format='channels_last', dtype='float32')\n",
      "I0325 14:54:51.711575 4577011200 ssd_efficientnet_bifpn_feature_extractor.py:145] EfficientDet EfficientNet backbone version: efficientnet-b7\n",
      "I0325 14:54:51.711699 4577011200 ssd_efficientnet_bifpn_feature_extractor.py:147] EfficientDet BiFPN num filters: 384\n",
      "I0325 14:54:51.711749 4577011200 ssd_efficientnet_bifpn_feature_extractor.py:148] EfficientDet BiFPN num iterations: 8\n",
      "I0325 14:54:51.713117 4577011200 efficientnet_model.py:144] round_filter input=32 output=64\n",
      "I0325 14:54:51.725861 4577011200 efficientnet_model.py:144] round_filter input=32 output=64\n",
      "I0325 14:54:51.725967 4577011200 efficientnet_model.py:144] round_filter input=16 output=32\n",
      "I0325 14:54:51.942653 4577011200 efficientnet_model.py:144] round_filter input=16 output=32\n",
      "I0325 14:54:51.942819 4577011200 efficientnet_model.py:144] round_filter input=24 output=48\n",
      "I0325 14:54:52.387961 4577011200 efficientnet_model.py:144] round_filter input=24 output=48\n",
      "I0325 14:54:52.388090 4577011200 efficientnet_model.py:144] round_filter input=40 output=80\n",
      "I0325 14:54:53.133718 4577011200 efficientnet_model.py:144] round_filter input=40 output=80\n",
      "I0325 14:54:53.133870 4577011200 efficientnet_model.py:144] round_filter input=80 output=160\n",
      "I0325 14:54:53.818142 4577011200 efficientnet_model.py:144] round_filter input=80 output=160\n",
      "I0325 14:54:53.818266 4577011200 efficientnet_model.py:144] round_filter input=112 output=224\n",
      "I0325 14:54:54.542461 4577011200 efficientnet_model.py:144] round_filter input=112 output=224\n",
      "I0325 14:54:54.542614 4577011200 efficientnet_model.py:144] round_filter input=192 output=384\n",
      "I0325 14:54:55.589917 4577011200 efficientnet_model.py:144] round_filter input=192 output=384\n",
      "I0325 14:54:55.590042 4577011200 efficientnet_model.py:144] round_filter input=320 output=640\n"
     ]
    },
    {
     "name": "stdout",
     "output_type": "stream",
     "text": [
      "I0325 14:54:56.003732 4577011200 efficientnet_model.py:144] round_filter input=1280 output=2560\n",
      "I0325 14:54:56.067071 4577011200 efficientnet_model.py:454] Building model efficientnet with params ModelConfig(width_coefficient=2.0, depth_coefficient=3.1, resolution=600, dropout_rate=0.5, blocks=(BlockConfig(input_filters=32, output_filters=16, kernel_size=3, num_repeat=1, expand_ratio=1, strides=(1, 1), se_ratio=0.25, id_skip=True, fused_conv=False, conv_type='depthwise'), BlockConfig(input_filters=16, output_filters=24, kernel_size=3, num_repeat=2, expand_ratio=6, strides=(2, 2), se_ratio=0.25, id_skip=True, fused_conv=False, conv_type='depthwise'), BlockConfig(input_filters=24, output_filters=40, kernel_size=5, num_repeat=2, expand_ratio=6, strides=(2, 2), se_ratio=0.25, id_skip=True, fused_conv=False, conv_type='depthwise'), BlockConfig(input_filters=40, output_filters=80, kernel_size=3, num_repeat=3, expand_ratio=6, strides=(2, 2), se_ratio=0.25, id_skip=True, fused_conv=False, conv_type='depthwise'), BlockConfig(input_filters=80, output_filters=112, kernel_size=5, num_repeat=3, expand_ratio=6, strides=(1, 1), se_ratio=0.25, id_skip=True, fused_conv=False, conv_type='depthwise'), BlockConfig(input_filters=112, output_filters=192, kernel_size=5, num_repeat=4, expand_ratio=6, strides=(2, 2), se_ratio=0.25, id_skip=True, fused_conv=False, conv_type='depthwise'), BlockConfig(input_filters=192, output_filters=320, kernel_size=3, num_repeat=1, expand_ratio=6, strides=(1, 1), se_ratio=0.25, id_skip=True, fused_conv=False, conv_type='depthwise')), stem_base_filters=32, top_base_filters=1280, activation='simple_swish', batch_norm='default', bn_momentum=0.99, bn_epsilon=0.001, weight_decay=5e-06, drop_connect_rate=0.2, depth_divisor=8, min_depth=None, use_se=True, input_channels=3, num_classes=1000, model_name='efficientnet', rescale_input=False, data_format='channels_last', dtype='float32')\n",
      "INFO:tensorflow:time(__main__.ModelBuilderTF2Test.test_create_ssd_models_from_config): 21.3s\n",
      "I0325 14:54:56.186040 4577011200 test_util.py:2373] time(__main__.ModelBuilderTF2Test.test_create_ssd_models_from_config): 21.3s\n",
      "[       OK ] ModelBuilderTF2Test.test_create_ssd_models_from_config\n",
      "[ RUN      ] ModelBuilderTF2Test.test_invalid_faster_rcnn_batchnorm_update\n",
      "INFO:tensorflow:time(__main__.ModelBuilderTF2Test.test_invalid_faster_rcnn_batchnorm_update): 0.0s\n",
      "I0325 14:54:56.192633 4577011200 test_util.py:2373] time(__main__.ModelBuilderTF2Test.test_invalid_faster_rcnn_batchnorm_update): 0.0s\n",
      "[       OK ] ModelBuilderTF2Test.test_invalid_faster_rcnn_batchnorm_update\n",
      "[ RUN      ] ModelBuilderTF2Test.test_invalid_first_stage_nms_iou_threshold\n",
      "INFO:tensorflow:time(__main__.ModelBuilderTF2Test.test_invalid_first_stage_nms_iou_threshold): 0.0s\n",
      "I0325 14:54:56.194133 4577011200 test_util.py:2373] time(__main__.ModelBuilderTF2Test.test_invalid_first_stage_nms_iou_threshold): 0.0s\n",
      "[       OK ] ModelBuilderTF2Test.test_invalid_first_stage_nms_iou_threshold\n",
      "[ RUN      ] ModelBuilderTF2Test.test_invalid_model_config_proto\n",
      "INFO:tensorflow:time(__main__.ModelBuilderTF2Test.test_invalid_model_config_proto): 0.0s\n",
      "I0325 14:54:56.194492 4577011200 test_util.py:2373] time(__main__.ModelBuilderTF2Test.test_invalid_model_config_proto): 0.0s\n",
      "[       OK ] ModelBuilderTF2Test.test_invalid_model_config_proto\n",
      "[ RUN      ] ModelBuilderTF2Test.test_invalid_second_stage_batch_size\n",
      "INFO:tensorflow:time(__main__.ModelBuilderTF2Test.test_invalid_second_stage_batch_size): 0.0s\n",
      "I0325 14:54:56.195785 4577011200 test_util.py:2373] time(__main__.ModelBuilderTF2Test.test_invalid_second_stage_batch_size): 0.0s\n",
      "[       OK ] ModelBuilderTF2Test.test_invalid_second_stage_batch_size\n",
      "[ RUN      ] ModelBuilderTF2Test.test_session\n",
      "[  SKIPPED ] ModelBuilderTF2Test.test_session\n",
      "[ RUN      ] ModelBuilderTF2Test.test_unknown_faster_rcnn_feature_extractor\n",
      "INFO:tensorflow:time(__main__.ModelBuilderTF2Test.test_unknown_faster_rcnn_feature_extractor): 0.0s\n",
      "I0325 14:54:56.196924 4577011200 test_util.py:2373] time(__main__.ModelBuilderTF2Test.test_unknown_faster_rcnn_feature_extractor): 0.0s\n",
      "[       OK ] ModelBuilderTF2Test.test_unknown_faster_rcnn_feature_extractor\n",
      "[ RUN      ] ModelBuilderTF2Test.test_unknown_meta_architecture\n",
      "INFO:tensorflow:time(__main__.ModelBuilderTF2Test.test_unknown_meta_architecture): 0.0s\n",
      "I0325 14:54:56.197232 4577011200 test_util.py:2373] time(__main__.ModelBuilderTF2Test.test_unknown_meta_architecture): 0.0s\n",
      "[       OK ] ModelBuilderTF2Test.test_unknown_meta_architecture\n",
      "[ RUN      ] ModelBuilderTF2Test.test_unknown_ssd_feature_extractor\n",
      "INFO:tensorflow:time(__main__.ModelBuilderTF2Test.test_unknown_ssd_feature_extractor): 0.0s\n",
      "I0325 14:54:56.198063 4577011200 test_util.py:2373] time(__main__.ModelBuilderTF2Test.test_unknown_ssd_feature_extractor): 0.0s\n",
      "[       OK ] ModelBuilderTF2Test.test_unknown_ssd_feature_extractor\n",
      "----------------------------------------------------------------------\n",
      "Ran 24 tests in 25.306s\n",
      "\n",
      "OK (skipped=1)\n"
     ]
    }
   ],
   "source": [
    "VERIFICATION_SCRIPT = os.path.join(paths['APIMODEL_PATH'], 'research', 'object_detection', 'builders', 'model_builder_tf2_test.py')\n",
    "# Verify Installation\n",
    "!python {VERIFICATION_SCRIPT}"
   ]
  },
  {
   "cell_type": "code",
   "execution_count": 10,
   "metadata": {},
   "outputs": [
    {
     "name": "stdout",
     "output_type": "stream",
     "text": [
      "Requirement already satisfied: tensorflow in ./venv/lib/python3.9/site-packages (2.8.0)\n",
      "Requirement already satisfied: keras-preprocessing>=1.1.1 in ./venv/lib/python3.9/site-packages (from tensorflow) (1.1.2)\n",
      "Requirement already satisfied: keras<2.9,>=2.8.0rc0 in ./venv/lib/python3.9/site-packages (from tensorflow) (2.8.0)\n",
      "Requirement already satisfied: tensorboard<2.9,>=2.8 in ./venv/lib/python3.9/site-packages (from tensorflow) (2.8.0)\n",
      "Requirement already satisfied: grpcio<2.0,>=1.24.3 in ./venv/lib/python3.9/site-packages (from tensorflow) (1.44.0)\n",
      "Requirement already satisfied: flatbuffers>=1.12 in ./venv/lib/python3.9/site-packages (from tensorflow) (2.0)\n",
      "Requirement already satisfied: google-pasta>=0.1.1 in ./venv/lib/python3.9/site-packages (from tensorflow) (0.2.0)\n",
      "Requirement already satisfied: h5py>=2.9.0 in ./venv/lib/python3.9/site-packages (from tensorflow) (3.6.0)\n",
      "Requirement already satisfied: tensorflow-io-gcs-filesystem>=0.23.1 in ./venv/lib/python3.9/site-packages (from tensorflow) (0.24.0)\n",
      "Requirement already satisfied: setuptools in ./venv/lib/python3.9/site-packages (from tensorflow) (57.0.0)\n",
      "Requirement already satisfied: astunparse>=1.6.0 in ./venv/lib/python3.9/site-packages (from tensorflow) (1.6.3)\n",
      "Requirement already satisfied: absl-py>=0.4.0 in ./venv/lib/python3.9/site-packages (from tensorflow) (1.0.0)\n",
      "Requirement already satisfied: opt-einsum>=2.3.2 in ./venv/lib/python3.9/site-packages (from tensorflow) (3.3.0)\n",
      "Requirement already satisfied: typing-extensions>=3.6.6 in ./venv/lib/python3.9/site-packages (from tensorflow) (4.1.1)\n",
      "Requirement already satisfied: wrapt>=1.11.0 in ./venv/lib/python3.9/site-packages (from tensorflow) (1.14.0)\n",
      "Requirement already satisfied: libclang>=9.0.1 in ./venv/lib/python3.9/site-packages (from tensorflow) (13.0.0)\n",
      "Requirement already satisfied: tf-estimator-nightly==2.8.0.dev2021122109 in ./venv/lib/python3.9/site-packages (from tensorflow) (2.8.0.dev2021122109)\n",
      "Requirement already satisfied: gast>=0.2.1 in ./venv/lib/python3.9/site-packages (from tensorflow) (0.5.3)\n",
      "Requirement already satisfied: termcolor>=1.1.0 in ./venv/lib/python3.9/site-packages (from tensorflow) (1.1.0)\n",
      "Requirement already satisfied: protobuf>=3.9.2 in ./venv/lib/python3.9/site-packages (from tensorflow) (3.19.4)\n",
      "Requirement already satisfied: six>=1.12.0 in ./venv/lib/python3.9/site-packages (from tensorflow) (1.16.0)\n",
      "Requirement already satisfied: numpy>=1.20 in ./venv/lib/python3.9/site-packages (from tensorflow) (1.21.5)\n",
      "Requirement already satisfied: wheel<1.0,>=0.23.0 in ./venv/lib/python3.9/site-packages (from astunparse>=1.6.0->tensorflow) (0.36.2)\n",
      "Requirement already satisfied: tensorboard-plugin-wit>=1.6.0 in ./venv/lib/python3.9/site-packages (from tensorboard<2.9,>=2.8->tensorflow) (1.8.1)\n",
      "Requirement already satisfied: google-auth-oauthlib<0.5,>=0.4.1 in ./venv/lib/python3.9/site-packages (from tensorboard<2.9,>=2.8->tensorflow) (0.4.6)\n",
      "Requirement already satisfied: werkzeug>=0.11.15 in ./venv/lib/python3.9/site-packages (from tensorboard<2.9,>=2.8->tensorflow) (2.0.3)\n",
      "Requirement already satisfied: requests<3,>=2.21.0 in ./venv/lib/python3.9/site-packages (from tensorboard<2.9,>=2.8->tensorflow) (2.27.1)\n",
      "Requirement already satisfied: markdown>=2.6.8 in ./venv/lib/python3.9/site-packages (from tensorboard<2.9,>=2.8->tensorflow) (3.3.6)\n",
      "Requirement already satisfied: tensorboard-data-server<0.7.0,>=0.6.0 in ./venv/lib/python3.9/site-packages (from tensorboard<2.9,>=2.8->tensorflow) (0.6.1)\n",
      "Requirement already satisfied: google-auth<3,>=1.6.3 in ./venv/lib/python3.9/site-packages (from tensorboard<2.9,>=2.8->tensorflow) (2.6.2)\n",
      "Requirement already satisfied: rsa<5,>=3.1.4 in ./venv/lib/python3.9/site-packages (from google-auth<3,>=1.6.3->tensorboard<2.9,>=2.8->tensorflow) (4.8)\n",
      "Requirement already satisfied: pyasn1-modules>=0.2.1 in ./venv/lib/python3.9/site-packages (from google-auth<3,>=1.6.3->tensorboard<2.9,>=2.8->tensorflow) (0.2.8)\n",
      "Requirement already satisfied: cachetools<6.0,>=2.0.0 in ./venv/lib/python3.9/site-packages (from google-auth<3,>=1.6.3->tensorboard<2.9,>=2.8->tensorflow) (5.0.0)\n",
      "Requirement already satisfied: requests-oauthlib>=0.7.0 in ./venv/lib/python3.9/site-packages (from google-auth-oauthlib<0.5,>=0.4.1->tensorboard<2.9,>=2.8->tensorflow) (1.3.1)\n",
      "Requirement already satisfied: importlib-metadata>=4.4 in ./venv/lib/python3.9/site-packages (from markdown>=2.6.8->tensorboard<2.9,>=2.8->tensorflow) (4.11.3)\n",
      "Requirement already satisfied: zipp>=0.5 in ./venv/lib/python3.9/site-packages (from importlib-metadata>=4.4->markdown>=2.6.8->tensorboard<2.9,>=2.8->tensorflow) (3.7.0)\n",
      "Requirement already satisfied: pyasn1<0.5.0,>=0.4.6 in ./venv/lib/python3.9/site-packages (from pyasn1-modules>=0.2.1->google-auth<3,>=1.6.3->tensorboard<2.9,>=2.8->tensorflow) (0.4.8)\n",
      "Requirement already satisfied: certifi>=2017.4.17 in ./venv/lib/python3.9/site-packages (from requests<3,>=2.21.0->tensorboard<2.9,>=2.8->tensorflow) (2021.10.8)\n",
      "Requirement already satisfied: urllib3<1.27,>=1.21.1 in ./venv/lib/python3.9/site-packages (from requests<3,>=2.21.0->tensorboard<2.9,>=2.8->tensorflow) (1.26.9)\n",
      "Requirement already satisfied: idna<4,>=2.5 in ./venv/lib/python3.9/site-packages (from requests<3,>=2.21.0->tensorboard<2.9,>=2.8->tensorflow) (3.3)\n",
      "Requirement already satisfied: charset-normalizer~=2.0.0 in ./venv/lib/python3.9/site-packages (from requests<3,>=2.21.0->tensorboard<2.9,>=2.8->tensorflow) (2.0.12)\n",
      "Requirement already satisfied: oauthlib>=3.0.0 in ./venv/lib/python3.9/site-packages (from requests-oauthlib>=0.7.0->google-auth-oauthlib<0.5,>=0.4.1->tensorboard<2.9,>=2.8->tensorflow) (3.2.0)\n",
      "\u001b[33mWARNING: You are using pip version 21.1.2; however, version 22.0.4 is available.\n",
      "You should consider upgrading via the '/Users/sebastien/PycharmProjects/IAProjetM1v6/venv/bin/python -m pip install --upgrade pip' command.\u001b[0m\n"
     ]
    }
   ],
   "source": [
    "!pip install tensorflow --upgrade"
   ]
  },
  {
   "cell_type": "code",
   "execution_count": 11,
   "metadata": {},
   "outputs": [
    {
     "name": "stdout",
     "output_type": "stream",
     "text": [
      "Found existing installation: protobuf 3.19.4\n",
      "Uninstalling protobuf-3.19.4:\n",
      "  Successfully uninstalled protobuf-3.19.4\n",
      "Found existing installation: matplotlib 3.5.1\n",
      "Uninstalling matplotlib-3.5.1:\n",
      "  Successfully uninstalled matplotlib-3.5.1\n",
      "Collecting protobuf\n",
      "  Using cached protobuf-3.19.4-cp39-cp39-macosx_10_9_x86_64.whl (961 kB)\n",
      "Collecting matplotlib==3.2\n",
      "  Using cached matplotlib-3.2.0-cp39-cp39-macosx_12_0_x86_64.whl\n",
      "Requirement already satisfied: pyparsing!=2.0.4,!=2.1.2,!=2.1.6,>=2.0.1 in ./venv/lib/python3.9/site-packages (from matplotlib==3.2) (2.4.7)\n",
      "Requirement already satisfied: cycler>=0.10 in ./venv/lib/python3.9/site-packages (from matplotlib==3.2) (0.11.0)\n",
      "Requirement already satisfied: kiwisolver>=1.0.1 in ./venv/lib/python3.9/site-packages (from matplotlib==3.2) (1.4.0)\n",
      "Requirement already satisfied: python-dateutil>=2.1 in ./venv/lib/python3.9/site-packages (from matplotlib==3.2) (2.8.2)\n",
      "Requirement already satisfied: numpy>=1.11 in ./venv/lib/python3.9/site-packages (from matplotlib==3.2) (1.21.5)\n",
      "Requirement already satisfied: six>=1.5 in ./venv/lib/python3.9/site-packages (from python-dateutil>=2.1->matplotlib==3.2) (1.16.0)\n",
      "Installing collected packages: protobuf, matplotlib\n",
      "Successfully installed matplotlib-3.2.0 protobuf-3.19.4\n",
      "\u001b[33mWARNING: You are using pip version 21.1.2; however, version 22.0.4 is available.\n",
      "You should consider upgrading via the '/Users/sebastien/PycharmProjects/IAProjetM1v6/venv/bin/python -m pip install --upgrade pip' command.\u001b[0m\n"
     ]
    }
   ],
   "source": [
    "!pip uninstall protobuf matplotlib -y\n",
    "!pip install protobuf matplotlib==3.2"
   ]
  },
  {
   "cell_type": "code",
   "execution_count": 5,
   "metadata": {},
   "outputs": [],
   "source": [
    "import object_detection"
   ]
  },
  {
   "cell_type": "code",
   "execution_count": 13,
   "metadata": {
    "scrolled": true
   },
   "outputs": [
    {
     "name": "stdout",
     "output_type": "stream",
     "text": [
      "Package                       Version\r\n",
      "----------------------------- -------------------\r\n",
      "absl-py                       1.0.0\r\n",
      "apache-beam                   2.37.0\r\n",
      "appnope                       0.1.2\r\n",
      "argon2-cffi                   21.3.0\r\n",
      "argon2-cffi-bindings          21.2.0\r\n",
      "asttokens                     2.0.5\r\n",
      "astunparse                    1.6.3\r\n",
      "attrs                         21.4.0\r\n",
      "avro-python3                  1.10.2\r\n",
      "backcall                      0.2.0\r\n",
      "beautifulsoup4                4.10.0\r\n",
      "bleach                        4.1.0\r\n",
      "cachetools                    5.0.0\r\n",
      "certifi                       2021.10.8\r\n",
      "cffi                          1.15.0\r\n",
      "charset-normalizer            2.0.12\r\n",
      "cloudpickle                   2.0.0\r\n",
      "colorama                      0.4.4\r\n",
      "contextlib2                   21.6.0\r\n",
      "crcmod                        1.7\r\n",
      "cycler                        0.11.0\r\n",
      "Cython                        0.29.28\r\n",
      "debugpy                       1.6.0\r\n",
      "decorator                     5.1.1\r\n",
      "defusedxml                    0.7.1\r\n",
      "dill                          0.3.1.1\r\n",
      "dm-tree                       0.1.6\r\n",
      "docopt                        0.6.2\r\n",
      "entrypoints                   0.4\r\n",
      "executing                     0.8.3\r\n",
      "fastavro                      1.4.10\r\n",
      "flatbuffers                   2.0\r\n",
      "fonttools                     4.31.2\r\n",
      "gast                          0.5.3\r\n",
      "gin-config                    0.5.0\r\n",
      "google-api-core               2.7.1\r\n",
      "google-api-python-client      2.42.0\r\n",
      "google-auth                   2.6.2\r\n",
      "google-auth-httplib2          0.1.0\r\n",
      "google-auth-oauthlib          0.4.6\r\n",
      "google-pasta                  0.2.0\r\n",
      "googleapis-common-protos      1.56.0\r\n",
      "grpcio                        1.44.0\r\n",
      "h5py                          3.6.0\r\n",
      "hdfs                          2.6.0\r\n",
      "html5lib                      1.1\r\n",
      "httplib2                      0.19.1\r\n",
      "idna                          3.3\r\n",
      "importlib-metadata            4.11.3\r\n",
      "ipykernel                     6.9.2\r\n",
      "ipython                       8.1.1\r\n",
      "ipython-genutils              0.2.0\r\n",
      "ipywidgets                    7.7.0\r\n",
      "jedi                          0.18.1\r\n",
      "Jinja2                        3.1.0\r\n",
      "joblib                        1.1.0\r\n",
      "jsonschema                    4.4.0\r\n",
      "jupyter                       1.0.0\r\n",
      "jupyter-client                7.1.2\r\n",
      "jupyter-console               6.4.3\r\n",
      "jupyter-core                  4.9.2\r\n",
      "jupyterlab-pygments           0.1.2\r\n",
      "jupyterlab-widgets            1.1.0\r\n",
      "kaggle                        1.5.12\r\n",
      "keras                         2.8.0\r\n",
      "Keras-Preprocessing           1.1.2\r\n",
      "kiwisolver                    1.4.0\r\n",
      "libclang                      13.0.0\r\n",
      "lvis                          0.5.3\r\n",
      "lxml                          4.8.0\r\n",
      "Markdown                      3.3.6\r\n",
      "MarkupSafe                    2.1.1\r\n",
      "matplotlib                    3.2.0\r\n",
      "matplotlib-inline             0.1.3\r\n",
      "mistune                       0.8.4\r\n",
      "nbclient                      0.5.13\r\n",
      "nbconvert                     6.4.4\r\n",
      "nbformat                      5.2.0\r\n",
      "nest-asyncio                  1.5.4\r\n",
      "notebook                      6.4.10\r\n",
      "numpy                         1.21.5\r\n",
      "oauth2client                  4.1.3\r\n",
      "oauthlib                      3.2.0\r\n",
      "object-detection              0.1\r\n",
      "opencv-python                 4.5.5.64\r\n",
      "opencv-python-headless        4.5.5.64\r\n",
      "opt-einsum                    3.3.0\r\n",
      "orjson                        3.6.7\r\n",
      "packaging                     21.3\r\n",
      "pandas                        1.4.1\r\n",
      "pandocfilters                 1.5.0\r\n",
      "parso                         0.8.3\r\n",
      "pexpect                       4.8.0\r\n",
      "pickleshare                   0.7.5\r\n",
      "Pillow                        9.0.1\r\n",
      "pip                           21.1.2\r\n",
      "portalocker                   2.4.0\r\n",
      "prometheus-client             0.13.1\r\n",
      "promise                       2.3\r\n",
      "prompt-toolkit                3.0.28\r\n",
      "proto-plus                    1.20.3\r\n",
      "protobuf                      3.19.4\r\n",
      "psutil                        5.9.0\r\n",
      "ptyprocess                    0.7.0\r\n",
      "pure-eval                     0.2.2\r\n",
      "py-cpuinfo                    8.0.0\r\n",
      "pyarrow                       6.0.1\r\n",
      "pyasn1                        0.4.8\r\n",
      "pyasn1-modules                0.2.8\r\n",
      "pycocotools                   2.0.4\r\n",
      "pycparser                     2.21\r\n",
      "pydot                         1.4.2\r\n",
      "Pygments                      2.11.2\r\n",
      "pymongo                       3.12.3\r\n",
      "pyparsing                     2.4.7\r\n",
      "pyrsistent                    0.18.1\r\n",
      "python-dateutil               2.8.2\r\n",
      "python-slugify                6.1.1\r\n",
      "pytz                          2022.1\r\n",
      "PyYAML                        5.4.1\r\n",
      "pyzmq                         22.3.0\r\n",
      "qtconsole                     5.2.2\r\n",
      "QtPy                          2.0.1\r\n",
      "regex                         2022.3.15\r\n",
      "requests                      2.27.1\r\n",
      "requests-oauthlib             1.3.1\r\n",
      "rsa                           4.8\r\n",
      "sacrebleu                     2.0.0\r\n",
      "scikit-learn                  1.0.2\r\n",
      "scipy                         1.8.0\r\n",
      "Send2Trash                    1.8.0\r\n",
      "sentencepiece                 0.1.96\r\n",
      "seqeval                       1.2.2\r\n",
      "setuptools                    57.0.0\r\n",
      "six                           1.16.0\r\n",
      "soupsieve                     2.3.1\r\n",
      "stack-data                    0.2.0\r\n",
      "tabulate                      0.8.9\r\n",
      "tensorboard                   2.8.0\r\n",
      "tensorboard-data-server       0.6.1\r\n",
      "tensorboard-plugin-wit        1.8.1\r\n",
      "tensorflow                    2.8.0\r\n",
      "tensorflow-addons             0.16.1\r\n",
      "tensorflow-datasets           4.5.2\r\n",
      "tensorflow-hub                0.12.0\r\n",
      "tensorflow-io                 0.24.0\r\n",
      "tensorflow-io-gcs-filesystem  0.24.0\r\n",
      "tensorflow-metadata           1.7.0\r\n",
      "tensorflow-model-optimization 0.7.2\r\n",
      "tensorflow-text               2.8.1\r\n",
      "termcolor                     1.1.0\r\n",
      "terminado                     0.13.3\r\n",
      "testpath                      0.6.0\r\n",
      "text-unidecode                1.3\r\n",
      "tf-estimator-nightly          2.8.0.dev2021122109\r\n",
      "tf-models-official            2.8.0\r\n",
      "tf-slim                       1.1.0\r\n",
      "threadpoolctl                 3.1.0\r\n",
      "tornado                       6.1\r\n",
      "tqdm                          4.63.1\r\n",
      "traitlets                     5.1.1\r\n",
      "typeguard                     2.13.3\r\n",
      "typing-extensions             4.1.1\r\n",
      "uritemplate                   4.1.1\r\n",
      "urllib3                       1.26.9\r\n",
      "wcwidth                       0.2.5\r\n",
      "webencodings                  0.5.1\r\n",
      "Werkzeug                      2.0.3\r\n",
      "wheel                         0.36.2\r\n",
      "widgetsnbextension            3.6.0\r\n",
      "wrapt                         1.14.0\r\n",
      "zipp                          3.7.0\r\n",
      "\u001b[33mWARNING: You are using pip version 21.1.2; however, version 22.0.4 is available.\r\n",
      "You should consider upgrading via the '/Users/sebastien/PycharmProjects/IAProjetM1v6/venv/bin/python -m pip install --upgrade pip' command.\u001b[0m\r\n"
     ]
    }
   ],
   "source": [
    "!pip list"
   ]
  },
  {
   "cell_type": "code",
   "execution_count": null,
   "metadata": {
    "colab": {
     "base_uri": "https://localhost:8080/"
    },
    "id": "csofht2npfDE",
    "outputId": "ff5471b2-bed2-43f2-959c-327a706527b6"
   },
   "outputs": [],
   "source": [
    "if os.name =='posix':\n",
    "    !wget {PRETRAINED_MODEL_URL}\n",
    "    !mv {PRETRAINED_MODEL_NAME+'.tar.gz'} {paths['PRETRAINED_MODEL_PATH']}\n",
    "    !cd {paths['PRETRAINED_MODEL_PATH']} && tar -zxvf {PRETRAINED_MODEL_NAME+'.tar.gz'}\n",
    "if os.name == 'nt':\n",
    "    wget.download(PRETRAINED_MODEL_URL)\n",
    "    !move {PRETRAINED_MODEL_NAME+'.tar.gz'} {paths['PRETRAINED_MODEL_PATH']}\n",
    "    !cd {paths['PRETRAINED_MODEL_PATH']} && tar -zxvf {PRETRAINED_MODEL_NAME+'.tar.gz'}"
   ]
  },
  {
   "cell_type": "markdown",
   "metadata": {
    "id": "M5KJTnkfpfDC"
   },
   "source": [
    "# 2. Create Label Map"
   ]
  },
  {
   "cell_type": "code",
   "execution_count": null,
   "metadata": {
    "id": "p1BVDWo7pfDC"
   },
   "outputs": [],
   "source": [
    "labels = [{'name':'Circle sign', 'id':1}, {'name':'Octagone sign', 'id':2}]\n",
    "\n",
    "with open(files['LABELMAP'], 'w') as f:\n",
    "    for label in labels:\n",
    "        f.write('item { \\n')\n",
    "        f.write('\\tname:\\'{}\\'\\n'.format(label['name']))\n",
    "        f.write('\\tid:{}\\n'.format(label['id']))\n",
    "        f.write('}\\n')"
   ]
  },
  {
   "cell_type": "markdown",
   "metadata": {
    "id": "C88zyVELpfDC"
   },
   "source": [
    "# 3. Create TF records"
   ]
  },
  {
   "cell_type": "code",
   "execution_count": 14,
   "metadata": {
    "colab": {
     "base_uri": "https://localhost:8080/"
    },
    "id": "kvf5WccwrFGq",
    "outputId": "49902aeb-0bd7-4298-e1a0-5b4a64eb2064"
   },
   "outputs": [],
   "source": [
    "# OPTIONAL IF RUNNING ON COLAB\n",
    "ARCHIVE_FILES = os.path.join(paths['IMAGE_PATH'], 'archive.tar.gz')\n",
    "if os.path.exists(ARCHIVE_FILES):\n",
    "  !tar -zxvf {ARCHIVE_FILES}"
   ]
  },
  {
   "cell_type": "code",
   "execution_count": 15,
   "metadata": {
    "colab": {
     "base_uri": "https://localhost:8080/"
    },
    "id": "KWpb_BVUpfDD",
    "outputId": "56ce2a3f-3933-4ee6-8a9d-d5ec65f7d73c"
   },
   "outputs": [],
   "source": [
    "if not os.path.exists(files['TF_RECORD_SCRIPT']):\n",
    "    !git clone https://github.com/nicknochnack/GenerateTFRecord {paths['SCRIPTS_PATH']}"
   ]
  },
  {
   "cell_type": "code",
   "execution_count": 16,
   "metadata": {
    "colab": {
     "base_uri": "https://localhost:8080/"
    },
    "id": "UPFToGZqpfDD",
    "outputId": "0ebb456f-aadc-4a1f-96e6-fbfec1923e1c"
   },
   "outputs": [
    {
     "name": "stdout",
     "output_type": "stream",
     "text": [
      "Successfully created the TFRecord file: Tensorflow/workspace/annotations/train.record\n",
      "Successfully created the TFRecord file: Tensorflow/workspace/annotations/test.record\n"
     ]
    }
   ],
   "source": [
    "!python {files['TF_RECORD_SCRIPT']} -x {os.path.join(paths['IMAGE_PATH'], 'train')} -l {files['LABELMAP']} -o {os.path.join(paths['ANNOTATION_PATH'], 'train.record')} \n",
    "!python {files['TF_RECORD_SCRIPT']} -x {os.path.join(paths['IMAGE_PATH'], 'test')} -l {files['LABELMAP']} -o {os.path.join(paths['ANNOTATION_PATH'], 'test.record')} "
   ]
  },
  {
   "cell_type": "markdown",
   "metadata": {
    "id": "qT4QU7pLpfDE"
   },
   "source": [
    "# 4. Copy Model Config to Training Folder"
   ]
  },
  {
   "cell_type": "code",
   "execution_count": 17,
   "metadata": {
    "id": "cOjuTFbwpfDF"
   },
   "outputs": [],
   "source": [
    "if os.name =='posix':\n",
    "    !cp {os.path.join(paths['PRETRAINED_MODEL_PATH'], PRETRAINED_MODEL_NAME, 'pipeline.config')} {os.path.join(paths['CHECKPOINT_PATH'])}\n",
    "if os.name == 'nt':\n",
    "    !copy {os.path.join(paths['PRETRAINED_MODEL_PATH'], PRETRAINED_MODEL_NAME, 'pipeline.config')} {os.path.join(paths['CHECKPOINT_PATH'])}"
   ]
  },
  {
   "cell_type": "markdown",
   "metadata": {
    "id": "Ga8gpNslpfDF"
   },
   "source": [
    "# 5. Update Config For Transfer Learning"
   ]
  },
  {
   "cell_type": "code",
   "execution_count": 6,
   "metadata": {
    "id": "Z9hRrO_ppfDF"
   },
   "outputs": [],
   "source": [
    "import tensorflow as tf\n",
    "from object_detection.utils import config_util\n",
    "from object_detection.protos import pipeline_pb2\n",
    "from google.protobuf import text_format"
   ]
  },
  {
   "cell_type": "code",
   "execution_count": 7,
   "metadata": {
    "id": "c2A0mn4ipfDF"
   },
   "outputs": [],
   "source": [
    "config = config_util.get_configs_from_pipeline_file(files['PIPELINE_CONFIG'])"
   ]
  },
  {
   "cell_type": "code",
   "execution_count": 8,
   "metadata": {
    "colab": {
     "base_uri": "https://localhost:8080/"
    },
    "id": "uQA13-afpfDF",
    "outputId": "907496a4-a39d-4b13-8c2c-e5978ecb1f10"
   },
   "outputs": [
    {
     "data": {
      "text/plain": [
       "{'model': ssd {\n",
       "   num_classes: 7\n",
       "   image_resizer {\n",
       "     fixed_shape_resizer {\n",
       "       height: 320\n",
       "       width: 320\n",
       "     }\n",
       "   }\n",
       "   feature_extractor {\n",
       "     type: \"ssd_mobilenet_v2_fpn_keras\"\n",
       "     depth_multiplier: 1.0\n",
       "     min_depth: 16\n",
       "     conv_hyperparams {\n",
       "       regularizer {\n",
       "         l2_regularizer {\n",
       "           weight: 3.9999998989515007e-05\n",
       "         }\n",
       "       }\n",
       "       initializer {\n",
       "         random_normal_initializer {\n",
       "           mean: 0.0\n",
       "           stddev: 0.009999999776482582\n",
       "         }\n",
       "       }\n",
       "       activation: RELU_6\n",
       "       batch_norm {\n",
       "         decay: 0.996999979019165\n",
       "         scale: true\n",
       "         epsilon: 0.0010000000474974513\n",
       "       }\n",
       "     }\n",
       "     use_depthwise: true\n",
       "     override_base_feature_extractor_hyperparams: true\n",
       "     fpn {\n",
       "       min_level: 3\n",
       "       max_level: 7\n",
       "       additional_layer_depth: 128\n",
       "     }\n",
       "   }\n",
       "   box_coder {\n",
       "     faster_rcnn_box_coder {\n",
       "       y_scale: 10.0\n",
       "       x_scale: 10.0\n",
       "       height_scale: 5.0\n",
       "       width_scale: 5.0\n",
       "     }\n",
       "   }\n",
       "   matcher {\n",
       "     argmax_matcher {\n",
       "       matched_threshold: 0.5\n",
       "       unmatched_threshold: 0.5\n",
       "       ignore_thresholds: false\n",
       "       negatives_lower_than_unmatched: true\n",
       "       force_match_for_each_row: true\n",
       "       use_matmul_gather: true\n",
       "     }\n",
       "   }\n",
       "   similarity_calculator {\n",
       "     iou_similarity {\n",
       "     }\n",
       "   }\n",
       "   box_predictor {\n",
       "     weight_shared_convolutional_box_predictor {\n",
       "       conv_hyperparams {\n",
       "         regularizer {\n",
       "           l2_regularizer {\n",
       "             weight: 3.9999998989515007e-05\n",
       "           }\n",
       "         }\n",
       "         initializer {\n",
       "           random_normal_initializer {\n",
       "             mean: 0.0\n",
       "             stddev: 0.009999999776482582\n",
       "           }\n",
       "         }\n",
       "         activation: RELU_6\n",
       "         batch_norm {\n",
       "           decay: 0.996999979019165\n",
       "           scale: true\n",
       "           epsilon: 0.0010000000474974513\n",
       "         }\n",
       "       }\n",
       "       depth: 128\n",
       "       num_layers_before_predictor: 4\n",
       "       kernel_size: 3\n",
       "       class_prediction_bias_init: -4.599999904632568\n",
       "       share_prediction_tower: true\n",
       "       use_depthwise: true\n",
       "     }\n",
       "   }\n",
       "   anchor_generator {\n",
       "     multiscale_anchor_generator {\n",
       "       min_level: 3\n",
       "       max_level: 7\n",
       "       anchor_scale: 4.0\n",
       "       aspect_ratios: 1.0\n",
       "       aspect_ratios: 2.0\n",
       "       aspect_ratios: 0.5\n",
       "       scales_per_octave: 2\n",
       "     }\n",
       "   }\n",
       "   post_processing {\n",
       "     batch_non_max_suppression {\n",
       "       score_threshold: 9.99999993922529e-09\n",
       "       iou_threshold: 0.6000000238418579\n",
       "       max_detections_per_class: 100\n",
       "       max_total_detections: 100\n",
       "       use_static_shapes: false\n",
       "     }\n",
       "     score_converter: SIGMOID\n",
       "   }\n",
       "   normalize_loss_by_num_matches: true\n",
       "   loss {\n",
       "     localization_loss {\n",
       "       weighted_smooth_l1 {\n",
       "       }\n",
       "     }\n",
       "     classification_loss {\n",
       "       weighted_sigmoid_focal {\n",
       "         gamma: 2.0\n",
       "         alpha: 0.25\n",
       "       }\n",
       "     }\n",
       "     classification_weight: 1.0\n",
       "     localization_weight: 1.0\n",
       "   }\n",
       "   encode_background_as_zeros: true\n",
       "   normalize_loc_loss_by_codesize: true\n",
       "   inplace_batchnorm_update: true\n",
       "   freeze_batchnorm: false\n",
       " },\n",
       " 'train_config': batch_size: 4\n",
       " data_augmentation_options {\n",
       "   random_horizontal_flip {\n",
       "   }\n",
       " }\n",
       " data_augmentation_options {\n",
       "   random_crop_image {\n",
       "     min_object_covered: 0.0\n",
       "     min_aspect_ratio: 0.75\n",
       "     max_aspect_ratio: 3.0\n",
       "     min_area: 0.75\n",
       "     max_area: 1.0\n",
       "     overlap_thresh: 0.0\n",
       "   }\n",
       " }\n",
       " sync_replicas: true\n",
       " optimizer {\n",
       "   momentum_optimizer {\n",
       "     learning_rate {\n",
       "       cosine_decay_learning_rate {\n",
       "         learning_rate_base: 0.07999999821186066\n",
       "         total_steps: 50000\n",
       "         warmup_learning_rate: 0.026666000485420227\n",
       "         warmup_steps: 1000\n",
       "       }\n",
       "     }\n",
       "     momentum_optimizer_value: 0.8999999761581421\n",
       "   }\n",
       "   use_moving_average: false\n",
       " }\n",
       " fine_tune_checkpoint: \"Tensorflow/workspace/pre-trained-models/ssd_mobilenet_v2_fpnlite_320x320_coco17_tpu-8/checkpoint/ckpt-0\"\n",
       " num_steps: 50000\n",
       " startup_delay_steps: 0.0\n",
       " replicas_to_aggregate: 8\n",
       " max_number_of_boxes: 100\n",
       " unpad_groundtruth_tensors: false\n",
       " fine_tune_checkpoint_type: \"detection\"\n",
       " fine_tune_checkpoint_version: V2,\n",
       " 'train_input_config': label_map_path: \"Tensorflow/workspace/annotations/label_map.pbtxt\"\n",
       " tf_record_input_reader {\n",
       "   input_path: \"Tensorflow/workspace/annotations/train.record\"\n",
       " },\n",
       " 'eval_config': metrics_set: \"coco_detection_metrics\"\n",
       " use_moving_averages: false,\n",
       " 'eval_input_configs': [label_map_path: \"Tensorflow/workspace/annotations/label_map.pbtxt\"\n",
       " shuffle: false\n",
       " num_epochs: 1\n",
       " tf_record_input_reader {\n",
       "   input_path: \"Tensorflow/workspace/annotations/test.record\"\n",
       " }\n",
       " ],\n",
       " 'eval_input_config': label_map_path: \"Tensorflow/workspace/annotations/label_map.pbtxt\"\n",
       " shuffle: false\n",
       " num_epochs: 1\n",
       " tf_record_input_reader {\n",
       "   input_path: \"Tensorflow/workspace/annotations/test.record\"\n",
       " }}"
      ]
     },
     "execution_count": 8,
     "metadata": {},
     "output_type": "execute_result"
    }
   ],
   "source": [
    "config"
   ]
  },
  {
   "cell_type": "code",
   "execution_count": 9,
   "metadata": {
    "id": "9vK5lotDpfDF"
   },
   "outputs": [],
   "source": [
    "pipeline_config = pipeline_pb2.TrainEvalPipelineConfig()\n",
    "with tf.io.gfile.GFile(files['PIPELINE_CONFIG'], \"r\") as f:                                                                                                                                                                                                                     \n",
    "    proto_str = f.read()                                                                                                                                                                                                                                          \n",
    "    text_format.Merge(proto_str, pipeline_config)  "
   ]
  },
  {
   "cell_type": "code",
   "execution_count": 10,
   "metadata": {
    "id": "rP43Ph0JpfDG"
   },
   "outputs": [],
   "source": [
    "pipeline_config.model.ssd.num_classes = 7\n",
    "pipeline_config.train_config.batch_size = 8\n",
    "pipeline_config.train_config.fine_tune_checkpoint = os.path.join(paths['PRETRAINED_MODEL_PATH'], PRETRAINED_MODEL_NAME, 'checkpoint', 'ckpt-0')\n",
    "pipeline_config.train_config.fine_tune_checkpoint_type = \"detection\"\n",
    "pipeline_config.train_input_reader.label_map_path= files['LABELMAP']\n",
    "pipeline_config.train_input_reader.tf_record_input_reader.input_path[:] = [os.path.join(paths['ANNOTATION_PATH'], 'train.record')]\n",
    "pipeline_config.eval_input_reader[0].label_map_path = files['LABELMAP']\n",
    "pipeline_config.eval_input_reader[0].tf_record_input_reader.input_path[:] = [os.path.join(paths['ANNOTATION_PATH'], 'test.record')]"
   ]
  },
  {
   "cell_type": "code",
   "execution_count": 11,
   "metadata": {
    "id": "oJvfgwWqpfDG"
   },
   "outputs": [],
   "source": [
    "config_text = text_format.MessageToString(pipeline_config)                                                                                                                                                                                                        \n",
    "with tf.io.gfile.GFile(files['PIPELINE_CONFIG'], \"wb\") as f:                                                                                                                                                                                                                     \n",
    "    f.write(config_text)   "
   ]
  },
  {
   "cell_type": "markdown",
   "metadata": {
    "id": "Zr3ON7xMpfDG"
   },
   "source": [
    "# 6. Train the model"
   ]
  },
  {
   "cell_type": "code",
   "execution_count": 12,
   "metadata": {
    "id": "B-Y2UQmQpfDG"
   },
   "outputs": [],
   "source": [
    "TRAINING_SCRIPT = os.path.join(paths['APIMODEL_PATH'], 'research', 'object_detection', 'model_main_tf2.py')"
   ]
  },
  {
   "cell_type": "code",
   "execution_count": 13,
   "metadata": {
    "id": "jMP2XDfQpfDH"
   },
   "outputs": [],
   "source": [
    "command = \"python {} --model_dir={} --pipeline_config_path={} --num_train_steps=2000\".format(TRAINING_SCRIPT, paths['CHECKPOINT_PATH'],files['PIPELINE_CONFIG'])"
   ]
  },
  {
   "cell_type": "code",
   "execution_count": 14,
   "metadata": {
    "colab": {
     "base_uri": "https://localhost:8080/"
    },
    "id": "A4OXXi-ApfDH",
    "outputId": "117a0e83-012b-466e-b7a6-ccaa349ac5ab"
   },
   "outputs": [
    {
     "name": "stdout",
     "output_type": "stream",
     "text": [
      "python Tensorflow/models/research/object_detection/model_main_tf2.py --model_dir=Tensorflow/workspace/models/my_ssd_mobnet --pipeline_config_path=Tensorflow/workspace/models/my_ssd_mobnet/pipeline.config --num_train_steps=2000\n"
     ]
    }
   ],
   "source": [
    "print(command)"
   ]
  },
  {
   "cell_type": "code",
   "execution_count": null,
   "metadata": {
    "colab": {
     "base_uri": "https://localhost:8080/"
    },
    "id": "i3ZsJR-qpfDH",
    "outputId": "cabec5e1-45e6-4f2f-d9cf-297d9c1d0225"
   },
   "outputs": [],
   "source": [
    "!{command}"
   ]
  },
  {
   "cell_type": "markdown",
   "metadata": {
    "id": "4_YRZu7npfDH"
   },
   "source": [
    "# 7. Evaluate the Model"
   ]
  },
  {
   "cell_type": "code",
   "execution_count": null,
   "metadata": {
    "id": "80L7-fdPpfDH"
   },
   "outputs": [],
   "source": [
    "command = \"python {} --model_dir={} --pipeline_config_path={} --checkpoint_dir={}\".format(TRAINING_SCRIPT, paths['CHECKPOINT_PATH'],files['PIPELINE_CONFIG'], paths['CHECKPOINT_PATH'])"
   ]
  },
  {
   "cell_type": "code",
   "execution_count": null,
   "metadata": {
    "colab": {
     "base_uri": "https://localhost:8080/"
    },
    "id": "lYsgEPx9pfDH",
    "outputId": "8632d48b-91d2-45d9-bcb8-c1b172bf6eed"
   },
   "outputs": [],
   "source": [
    "print(command)"
   ]
  },
  {
   "cell_type": "code",
   "execution_count": null,
   "metadata": {
    "id": "lqTV2jGBpfDH"
   },
   "outputs": [],
   "source": [
    "!{command}"
   ]
  },
  {
   "cell_type": "markdown",
   "metadata": {
    "id": "orvRk02UpfDI"
   },
   "source": [
    "# 8. Load Train Model From Checkpoint"
   ]
  },
  {
   "cell_type": "code",
   "execution_count": 8,
   "metadata": {
    "id": "8TYk4_oIpfDI"
   },
   "outputs": [],
   "source": [
    "import os\n",
    "import tensorflow as tf\n",
    "from object_detection.utils import label_map_util\n",
    "from object_detection.utils import visualization_utils as viz_utils\n",
    "from object_detection.builders import model_builder\n",
    "from object_detection.utils import config_util"
   ]
  },
  {
   "cell_type": "code",
   "execution_count": 9,
   "metadata": {
    "id": "tDnQg-cYpfDI"
   },
   "outputs": [
    {
     "name": "stderr",
     "output_type": "stream",
     "text": [
      "2022-03-14 20:24:25.911108: I tensorflow/core/platform/cpu_feature_guard.cc:151] This TensorFlow binary is optimized with oneAPI Deep Neural Network Library (oneDNN) to use the following CPU instructions in performance-critical operations:  AVX2 FMA\n",
      "To enable them in other operations, rebuild TensorFlow with the appropriate compiler flags.\n"
     ]
    }
   ],
   "source": [
    "# Load pipeline config and build a detection model\n",
    "configs = config_util.get_configs_from_pipeline_file(files['PIPELINE_CONFIG'])\n",
    "detection_model = model_builder.build(model_config=configs['model'], is_training=False)\n",
    "\n",
    "# Restore checkpoint\n",
    "ckpt = tf.compat.v2.train.Checkpoint(model=detection_model)\n",
    "ckpt.restore(os.path.join(paths['CHECKPOINT_PATH'], 'ckpt-3')).expect_partial()\n",
    "\n",
    "@tf.function\n",
    "def detect_fn(image):\n",
    "    image, shapes = detection_model.preprocess(image)\n",
    "    prediction_dict = detection_model.predict(image, shapes)\n",
    "    detections = detection_model.postprocess(prediction_dict, shapes)\n",
    "    return detections"
   ]
  },
  {
   "cell_type": "markdown",
   "metadata": {
    "id": "0EmsmbBZpfDI"
   },
   "source": [
    "# 9. Detect from an Image"
   ]
  },
  {
   "cell_type": "code",
   "execution_count": 10,
   "metadata": {
    "id": "Y_MKiuZ4pfDI"
   },
   "outputs": [],
   "source": [
    "import cv2 \n",
    "import numpy as np\n",
    "from matplotlib import pyplot as plt\n",
    "%matplotlib inline"
   ]
  },
  {
   "cell_type": "code",
   "execution_count": 11,
   "metadata": {
    "id": "cBDbIhNapfDI"
   },
   "outputs": [],
   "source": [
    "category_index = label_map_util.create_category_index_from_labelmap(files['LABELMAP'])"
   ]
  },
  {
   "cell_type": "code",
   "execution_count": null,
   "metadata": {
    "id": "Lx3crOhOzITB"
   },
   "outputs": [],
   "source": [
    "IMAGE_PATH = \"/Users/sebastien/Desktop/stop.jpeg\""
   ]
  },
  {
   "cell_type": "code",
   "execution_count": null,
   "metadata": {},
   "outputs": [],
   "source": [
    "IMAGE_PATH"
   ]
  },
  {
   "cell_type": "code",
   "execution_count": 12,
   "metadata": {},
   "outputs": [],
   "source": [
    "from tensorflow import keras\n",
    "\n",
    "model = keras.models.load_model(\"Tensorflow/model_IA_recognize/model_IA_v3\")"
   ]
  },
  {
   "cell_type": "code",
   "execution_count": 13,
   "metadata": {},
   "outputs": [],
   "source": [
    "def class_Names(classNum):\n",
    "    if classNum[0] == 0:\n",
    "        return 'No Sign'\n",
    "    elif classNum[0] == 1:\n",
    "        return 'Forbidden Sign'\n",
    "    elif classNum[0] == 2:\n",
    "        return 'Stop Sign'\n",
    "    elif classNum[0] == 3:\n",
    "        return 'Turn Left Sign'\n",
    "    elif classNum[0] == 4:\n",
    "        return 'Turn Right Sign'\n",
    "    elif classNum[0] == 5:\n",
    "        return '30km/h Sign'\n",
    "    elif classNum[0] == 6:\n",
    "        return '50km/h Sign'\n",
    "    elif classNum[0] == 7:\n",
    "        return '80km/h Sign'\n",
    "    \n",
    "def prepare(img):\n",
    "    IMG_SIZE = 227\n",
    "    new_array = cv2.resize(img, (IMG_SIZE, IMG_SIZE))\n",
    "    #cv2.imshow(\"Processed Image\", new_array)\n",
    "    return new_array.reshape(-1, IMG_SIZE, IMG_SIZE, 3)"
   ]
  },
  {
   "cell_type": "code",
   "execution_count": null,
   "metadata": {},
   "outputs": [],
   "source": [
    "\n",
    "img = cv2.imread(IMAGE_PATH)\n",
    "height = img.shape[0]\n",
    "width = img.shape[1]\n",
    "image_np = np.array(img)\n",
    "\n",
    "input_tensor = tf.convert_to_tensor(np.expand_dims(image_np, 0), dtype=tf.float32)\n",
    "detections = detect_fn(input_tensor)\n",
    "\n",
    "num_detections = int(detections.pop('num_detections'))\n",
    "detections = {key: value[0, :num_detections].numpy()\n",
    "              for key, value in detections.items()}\n",
    "detections['num_detections'] = num_detections\n",
    "\n",
    "# detection_classes should be ints.\n",
    "detections['detection_classes'] = detections['detection_classes'].astype(np.int64)\n",
    "label_id_offset = 1\n",
    "image_np_with_detections = image_np.copy()\n",
    "\n",
    "viz_utils.visualize_boxes_and_labels_on_image_array(\n",
    "            image_np_with_detections,\n",
    "            detections['detection_boxes'],\n",
    "            detections['detection_classes']+label_id_offset,\n",
    "            detections['detection_scores'],\n",
    "            category_index,\n",
    "            use_normalized_coordinates=True,\n",
    "            max_boxes_to_draw=1,\n",
    "            min_score_thresh=.8,\n",
    "            agnostic_mode=False)\n",
    "\n",
    "ymin = int((detections['detection_boxes'][0][0]*height))\n",
    "xmin = int((detections['detection_boxes'][0][1]*width))\n",
    "ymax = int((detections['detection_boxes'][0][2]*height))\n",
    "xmax = int((detections['detection_boxes'][0][3]*width))\n",
    "\n",
    "ymin2 = int((detections['detection_boxes'][1][0]*height))\n",
    "xmin2 = int((detections['detection_boxes'][1][1]*width))\n",
    "ymax2 = int((detections['detection_boxes'][1][2]*height))\n",
    "xmax2 = int((detections['detection_boxes'][1][3]*width))\n",
    "\n",
    "print('ymin : ' + str(ymin))\n",
    "print('xmin : ' + str(xmin))\n",
    "print('ymax : ' + str(ymax))\n",
    "print('xmax : ' + str(xmax))\n",
    "\n",
    "#if(((xmax - xmin) > 30) and ((ymax - ymin)> 30)):\n",
    "\n",
    "cropped = image_np_with_detections[ymin:ymax,xmin:xmax]\n",
    "\n",
    "img_result = prepare(cropped)\n",
    "prediction = model.predict(img_result)\n",
    "classIndex = [np.argmax(element) for element in prediction]\n",
    "sign_detect = class_Names(classIndex)\n",
    "\n",
    "plt.imshow(cv2.cvtColor(cropped, cv2.COLOR_BGR2RGB))\n",
    "plt.show()\n",
    "\n",
    "print(sign_detect)\n",
    "if ((ymin2 - ymin) > 15) and ((xmin2 - xmin) > 15) and ((ymax2 - ymax) > 15) and ((xmax2 - xmax) > 15):\n",
    "    \n",
    "    print('ymin2 : ' + str(ymin2))\n",
    "    print('xmin2 : ' + str(xmin2))\n",
    "    print('ymax2 : ' + str(ymax2))\n",
    "    print('xmax2 : ' + str(xmax2))\n",
    "    \n",
    "    cropped2 = image_np_with_detections[ymin2:ymax2,xmin2:xmax2]\n",
    "    img_result2 = prepare(cropped2)\n",
    "    prediction2 = model.predict(img_result2)\n",
    "    classIndex2 = [np.argmax(element) for element in prediction2]\n",
    "    sign_detect2 = class_Names(classIndex2)\n",
    "\n",
    "    plt.imshow(cv2.cvtColor(cropped2, cv2.COLOR_BGR2RGB))\n",
    "    plt.show()\n",
    "    print(sign_detect2)\n",
    "#else:\n",
    "#sign_detect = 'No sign here'\n",
    "\n",
    "\n",
    "plt.imshow(cv2.cvtColor(image_np_with_detections, cv2.COLOR_BGR2RGB))\n",
    "plt.show()"
   ]
  },
  {
   "cell_type": "markdown",
   "metadata": {
    "id": "IsNAaYAo0WVL"
   },
   "source": [
    "# 10. Real Time Detections from your Webcam"
   ]
  },
  {
   "cell_type": "code",
   "execution_count": null,
   "metadata": {},
   "outputs": [],
   "source": [
    "!pip uninstall opencv-python-headless -y"
   ]
  },
  {
   "cell_type": "code",
   "execution_count": null,
   "metadata": {},
   "outputs": [],
   "source": [
    "!pip install opencv-python"
   ]
  },
  {
   "cell_type": "code",
   "execution_count": 14,
   "metadata": {
    "id": "o_grs6OGpfDJ"
   },
   "outputs": [
    {
     "name": "stdout",
     "output_type": "stream",
     "text": [
      "1: 80km/h Sign\n",
      "1: Stop Sign\n",
      "1: Stop Sign\n",
      "1: Stop Sign\n",
      "1: Stop Sign\n",
      "1: Stop Sign\n",
      "1: Stop Sign\n",
      "1: Stop Sign\n",
      "1: Stop Sign\n",
      "1: Stop Sign\n",
      "1: Stop Sign\n",
      "1: Stop Sign\n",
      "1: Stop Sign\n",
      "1: Stop Sign\n",
      "1: Stop Sign\n",
      "1: Stop Sign\n",
      "1: Stop Sign\n",
      "1: 30km/h Sign\n",
      "1: Stop Sign\n",
      "1: Stop Sign\n",
      "1: Stop Sign\n",
      "1: Stop Sign\n",
      "1: Stop Sign\n",
      "1: Stop Sign\n",
      "1: Stop Sign\n",
      "1: Stop Sign\n",
      "1: Stop Sign\n",
      "1: Stop Sign\n",
      "1: Stop Sign\n",
      "1: Forbidden Sign\n",
      "1: Forbidden Sign\n",
      "1: Forbidden Sign\n",
      "1: Forbidden Sign\n",
      "1: Forbidden Sign\n",
      "1: Forbidden Sign\n",
      "1: Forbidden Sign\n",
      "1: Forbidden Sign\n",
      "1: Forbidden Sign\n",
      "1: Forbidden Sign\n",
      "1: Forbidden Sign\n",
      "2: Stop Sign\n",
      "1: Forbidden Sign\n",
      "1: Forbidden Sign\n",
      "1: Forbidden Sign\n",
      "1: Forbidden Sign\n",
      "1: Forbidden Sign\n",
      "1: Forbidden Sign\n",
      "1: Forbidden Sign\n",
      "1: Forbidden Sign\n",
      "1: Forbidden Sign\n",
      "1: Forbidden Sign\n",
      "1: Forbidden Sign\n",
      "1: Forbidden Sign\n",
      "1: Forbidden Sign\n",
      "1: Forbidden Sign\n",
      "1: Forbidden Sign\n",
      "1: Forbidden Sign\n",
      "1: Forbidden Sign\n",
      "1: Forbidden Sign\n",
      "1: Forbidden Sign\n",
      "1: Forbidden Sign\n",
      "1: Forbidden Sign\n",
      "1: Forbidden Sign\n",
      "1: Forbidden Sign\n",
      "1: Forbidden Sign\n",
      "1: Forbidden Sign\n",
      "1: Forbidden Sign\n",
      "1: Forbidden Sign\n",
      "1: Forbidden Sign\n",
      "1: Forbidden Sign\n",
      "1: Forbidden Sign\n",
      "1: Forbidden Sign\n",
      "1: Forbidden Sign\n",
      "1: Forbidden Sign\n",
      "1: Forbidden Sign\n",
      "1: Forbidden Sign\n",
      "1: Forbidden Sign\n",
      "1: Forbidden Sign\n",
      "1: Forbidden Sign\n",
      "1: Forbidden Sign\n",
      "1: Forbidden Sign\n",
      "1: Forbidden Sign\n",
      "1: Forbidden Sign\n",
      "1: Forbidden Sign\n",
      "1: Forbidden Sign\n",
      "1: Forbidden Sign\n",
      "1: Forbidden Sign\n",
      "1: Forbidden Sign\n",
      "1: Forbidden Sign\n",
      "1: Forbidden Sign\n",
      "1: Forbidden Sign\n",
      "1: Forbidden Sign\n",
      "1: Forbidden Sign\n",
      "1: Forbidden Sign\n",
      "1: Forbidden Sign\n",
      "1: Forbidden Sign\n",
      "1: Forbidden Sign\n",
      "1: Forbidden Sign\n",
      "1: Forbidden Sign\n",
      "1: Forbidden Sign\n",
      "1: Forbidden Sign\n",
      "1: Forbidden Sign\n",
      "1: Forbidden Sign\n",
      "1: Forbidden Sign\n",
      "1: Forbidden Sign\n",
      "1: Stop Sign\n",
      "1: Stop Sign\n",
      "1: Forbidden Sign\n",
      "1: Forbidden Sign\n",
      "1: Forbidden Sign\n",
      "1: Forbidden Sign\n",
      "1: Forbidden Sign\n",
      "1: Forbidden Sign\n",
      "1: Forbidden Sign\n",
      "1: Forbidden Sign\n",
      "1: Forbidden Sign\n",
      "1: Forbidden Sign\n",
      "1: Forbidden Sign\n",
      "1: Forbidden Sign\n",
      "1: Forbidden Sign\n",
      "1: Forbidden Sign\n",
      "1: Forbidden Sign\n",
      "1: Forbidden Sign\n",
      "1: Forbidden Sign\n",
      "1: Forbidden Sign\n",
      "1: Forbidden Sign\n",
      "1: Forbidden Sign\n",
      "1: Forbidden Sign\n",
      "1: Forbidden Sign\n",
      "1: Forbidden Sign\n",
      "1: Forbidden Sign\n",
      "1: Forbidden Sign\n",
      "1: Forbidden Sign\n",
      "1: 30km/h Sign\n",
      "1: Forbidden Sign\n",
      "1: Forbidden Sign\n",
      "1: Forbidden Sign\n",
      "1: Forbidden Sign\n",
      "1: Forbidden Sign\n",
      "1: Stop Sign\n",
      "1: Stop Sign\n",
      "1: Stop Sign\n",
      "1: Stop Sign\n",
      "1: Forbidden Sign\n",
      "1: Forbidden Sign\n",
      "1: Forbidden Sign\n",
      "1: Stop Sign\n",
      "1: Stop Sign\n",
      "1: Stop Sign\n",
      "1: Forbidden Sign\n",
      "1: Forbidden Sign\n",
      "1: Stop Sign\n",
      "1: Stop Sign\n",
      "1: Stop Sign\n",
      "1: Stop Sign\n",
      "1: Stop Sign\n",
      "1: Forbidden Sign\n",
      "1: Stop Sign\n",
      "1: Forbidden Sign\n",
      "1: Stop Sign\n",
      "1: Stop Sign\n",
      "1: Stop Sign\n",
      "1: Stop Sign\n",
      "1: Stop Sign\n",
      "1: Stop Sign\n",
      "1: Stop Sign\n",
      "1: Stop Sign\n",
      "1: Stop Sign\n",
      "1: Stop Sign\n",
      "1: Stop Sign\n",
      "1: 30km/h Sign\n",
      "1: 30km/h Sign\n",
      "1: Stop Sign\n",
      "1: Forbidden Sign\n",
      "1: Stop Sign\n",
      "1: Forbidden Sign\n",
      "1: Forbidden Sign\n",
      "1: Forbidden Sign\n",
      "1: Forbidden Sign\n",
      "1: Forbidden Sign\n",
      "1: Forbidden Sign\n",
      "1: Forbidden Sign\n",
      "1: Forbidden Sign\n",
      "1: Forbidden Sign\n",
      "1: Forbidden Sign\n",
      "1: Forbidden Sign\n",
      "1: Forbidden Sign\n",
      "1: Forbidden Sign\n"
     ]
    }
   ],
   "source": [
    "cap = cv2.VideoCapture(0)\n",
    "width = int(cap.get(cv2.CAP_PROP_FRAME_WIDTH))\n",
    "height = int(cap.get(cv2.CAP_PROP_FRAME_HEIGHT))\n",
    "\n",
    "while cap.isOpened(): \n",
    "    ret, frame = cap.read()\n",
    "    image_np = np.array(frame)\n",
    "    \n",
    "    input_tensor = tf.convert_to_tensor(np.expand_dims(image_np, 0), dtype=tf.float32)\n",
    "    detections = detect_fn(input_tensor)\n",
    "    \n",
    "    num_detections = int(detections.pop('num_detections'))\n",
    "    detections = {key: value[0, :num_detections].numpy()\n",
    "                  for key, value in detections.items()}\n",
    "    detections['num_detections'] = num_detections\n",
    "\n",
    "    # detection_classes should be ints.\n",
    "    detections['detection_classes'] = detections['detection_classes'].astype(np.int64)\n",
    "\n",
    "\n",
    "    label_id_offset = 1\n",
    "    image_np_with_detections = image_np.copy()\n",
    "\n",
    "    viz_utils.visualize_boxes_and_labels_on_image_array(\n",
    "                image_np_with_detections,\n",
    "                detections['detection_boxes'],\n",
    "                detections['detection_classes']+label_id_offset,\n",
    "                detections['detection_scores'],\n",
    "                category_index,\n",
    "                use_normalized_coordinates=True,\n",
    "                max_boxes_to_draw=5,\n",
    "                min_score_thresh=.8,\n",
    "                agnostic_mode=False)\n",
    "    \n",
    "    ymin = int((detections['detection_boxes'][0][0]*height))\n",
    "    xmin = int((detections['detection_boxes'][0][1]*width))\n",
    "    ymax = int((detections['detection_boxes'][0][2]*height))\n",
    "    xmax = int((detections['detection_boxes'][0][3]*width))\n",
    "    \n",
    "    ymin2 = int((detections['detection_boxes'][1][0]*height))\n",
    "    xmin2 = int((detections['detection_boxes'][1][1]*width))\n",
    "    ymax2 = int((detections['detection_boxes'][1][2]*height))\n",
    "    xmax2 = int((detections['detection_boxes'][1][3]*width))\n",
    "    \n",
    "    #print('ymin : ' + str(ymin))\n",
    "    #print('xmin : ' + str(xmin))\n",
    "    #print('ymax : ' + str(ymax))\n",
    "    #print('xmax : ' + str(xmax))\n",
    "    if detections['detection_scores'][0] > 0.95:\n",
    "        cropped = image_np_with_detections[ymin:ymax ,xmin:xmax]\n",
    "\n",
    "        img_result = prepare(cropped)\n",
    "        prediction = model.predict(img_result)\n",
    "        classIndex = [np.argmax(element) for element in prediction]\n",
    "        sign_detect = class_Names(classIndex)\n",
    "        print(\"1: \"+sign_detect)\n",
    "        #print(detections['detection_scores'][0])\n",
    "        \n",
    "        if ((ymin2 - ymin) > 15) and ((xmin2 - xmin) > 15) and ((ymax2 - ymax) > 15) and ((xmax2 - xmax) > 15):\n",
    "            if detections['detection_scores'][1] > 0.93:\n",
    "                cropped2 = image_np_with_detections[ymin2:ymax2,xmin2:xmax2]\n",
    "                img_result2 = prepare(cropped2)\n",
    "                prediction2 = model.predict(img_result2)\n",
    "                classIndex2 = [np.argmax(element) for element in prediction2]\n",
    "                sign_detect2 = class_Names(classIndex2)\n",
    "                print(\"2: \"+sign_detect2)\n",
    "                #print(detections['detection_scores'][1])\n",
    "            \n",
    "        \n",
    "    cv2.imshow('object detection',  cv2.resize(image_np_with_detections, (800, 600)))\n",
    "    \n",
    "    if cv2.waitKey(1) & 0xFF == ord('q'):\n",
    "        cap.release()\n",
    "        cv2.destroyAllWindows()\n",
    "        break"
   ]
  },
  {
   "cell_type": "code",
   "execution_count": null,
   "metadata": {},
   "outputs": [],
   "source": [
    "cap.release()\n",
    "cv2.destroyAllWindows()"
   ]
  },
  {
   "cell_type": "markdown",
   "metadata": {
    "id": "rzlM4jt0pfDJ"
   },
   "source": [
    "# 10. Freezing the Graph"
   ]
  },
  {
   "cell_type": "code",
   "execution_count": 11,
   "metadata": {
    "id": "n4olHB2npfDJ"
   },
   "outputs": [],
   "source": [
    "FREEZE_SCRIPT = os.path.join(paths['APIMODEL_PATH'], 'research', 'object_detection', 'exporter_main_v2.py ')"
   ]
  },
  {
   "cell_type": "code",
   "execution_count": 12,
   "metadata": {
    "id": "0AjO93QDpfDJ"
   },
   "outputs": [],
   "source": [
    "command = \"python {} --input_type=image_tensor --pipeline_config_path={} --trained_checkpoint_dir={} --output_directory={}\".format(FREEZE_SCRIPT ,files['PIPELINE_CONFIG'], paths['CHECKPOINT_PATH'], paths['OUTPUT_PATH'])"
   ]
  },
  {
   "cell_type": "code",
   "execution_count": 13,
   "metadata": {
    "colab": {
     "base_uri": "https://localhost:8080/"
    },
    "id": "F6Lsp3tCpfDJ",
    "outputId": "c3828529-bf06-4df5-d7f3-145890ec3edd"
   },
   "outputs": [
    {
     "name": "stdout",
     "output_type": "stream",
     "text": [
      "python Tensorflow/models/research/object_detection/exporter_main_v2.py  --input_type=image_tensor --pipeline_config_path=Tensorflow/workspace/models/my_ssd_mobnet/pipeline.config --trained_checkpoint_dir=Tensorflow/workspace/models/my_ssd_mobnet --output_directory=Tensorflow/workspace/models/my_ssd_mobnet/export\n"
     ]
    }
   ],
   "source": [
    "print(command)"
   ]
  },
  {
   "cell_type": "code",
   "execution_count": null,
   "metadata": {
    "colab": {
     "base_uri": "https://localhost:8080/"
    },
    "id": "1Sw1ULgHpfDJ",
    "outputId": "6fd441e1-9fc9-4889-d072-3395c21e40b6"
   },
   "outputs": [],
   "source": [
    "!{command}"
   ]
  },
  {
   "cell_type": "markdown",
   "metadata": {
    "id": "wTPmdqaXpfDK"
   },
   "source": [
    "# 11. Conversion to TFJS"
   ]
  },
  {
   "cell_type": "code",
   "execution_count": 14,
   "metadata": {
    "colab": {
     "base_uri": "https://localhost:8080/"
    },
    "id": "gZ6UzY_fpfDK",
    "outputId": "0c84722e-1c2b-4002-d857-80827ade828a",
    "scrolled": true
   },
   "outputs": [
    {
     "name": "stdout",
     "output_type": "stream",
     "text": [
      "Collecting tensorflowjs\n",
      "  Downloading tensorflowjs-3.14.0-py3-none-any.whl (77 kB)\n",
      "\u001b[K     |████████████████████████████████| 77 kB 1.3 MB/s eta 0:00:01\n",
      "\u001b[?25hRequirement already satisfied: tensorflow-hub<0.13,>=0.7.0 in ./venv/lib/python3.9/site-packages (from tensorflowjs) (0.12.0)\n",
      "Requirement already satisfied: six<2,>=1.12.0 in ./venv/lib/python3.9/site-packages (from tensorflowjs) (1.16.0)\n",
      "Requirement already satisfied: tensorflow<3,>=2.1.0 in ./venv/lib/python3.9/site-packages (from tensorflowjs) (2.8.0)\n",
      "Requirement already satisfied: tensorboard<2.9,>=2.8 in ./venv/lib/python3.9/site-packages (from tensorflow<3,>=2.1.0->tensorflowjs) (2.8.0)\n",
      "Requirement already satisfied: grpcio<2.0,>=1.24.3 in ./venv/lib/python3.9/site-packages (from tensorflow<3,>=2.1.0->tensorflowjs) (1.44.0)\n",
      "Requirement already satisfied: tf-estimator-nightly==2.8.0.dev2021122109 in ./venv/lib/python3.9/site-packages (from tensorflow<3,>=2.1.0->tensorflowjs) (2.8.0.dev2021122109)\n",
      "Requirement already satisfied: protobuf>=3.9.2 in ./venv/lib/python3.9/site-packages (from tensorflow<3,>=2.1.0->tensorflowjs) (3.19.4)\n",
      "Requirement already satisfied: numpy>=1.20 in ./venv/lib/python3.9/site-packages (from tensorflow<3,>=2.1.0->tensorflowjs) (1.21.5)\n",
      "Requirement already satisfied: typing-extensions>=3.6.6 in ./venv/lib/python3.9/site-packages (from tensorflow<3,>=2.1.0->tensorflowjs) (4.1.1)\n",
      "Requirement already satisfied: keras-preprocessing>=1.1.1 in ./venv/lib/python3.9/site-packages (from tensorflow<3,>=2.1.0->tensorflowjs) (1.1.2)\n",
      "Requirement already satisfied: astunparse>=1.6.0 in ./venv/lib/python3.9/site-packages (from tensorflow<3,>=2.1.0->tensorflowjs) (1.6.3)\n",
      "Requirement already satisfied: h5py>=2.9.0 in ./venv/lib/python3.9/site-packages (from tensorflow<3,>=2.1.0->tensorflowjs) (3.6.0)\n",
      "Requirement already satisfied: termcolor>=1.1.0 in ./venv/lib/python3.9/site-packages (from tensorflow<3,>=2.1.0->tensorflowjs) (1.1.0)\n",
      "Requirement already satisfied: gast>=0.2.1 in ./venv/lib/python3.9/site-packages (from tensorflow<3,>=2.1.0->tensorflowjs) (0.5.3)\n",
      "Requirement already satisfied: google-pasta>=0.1.1 in ./venv/lib/python3.9/site-packages (from tensorflow<3,>=2.1.0->tensorflowjs) (0.2.0)\n",
      "Requirement already satisfied: libclang>=9.0.1 in ./venv/lib/python3.9/site-packages (from tensorflow<3,>=2.1.0->tensorflowjs) (13.0.0)\n",
      "Requirement already satisfied: opt-einsum>=2.3.2 in ./venv/lib/python3.9/site-packages (from tensorflow<3,>=2.1.0->tensorflowjs) (3.3.0)\n",
      "Requirement already satisfied: tensorflow-io-gcs-filesystem>=0.23.1 in ./venv/lib/python3.9/site-packages (from tensorflow<3,>=2.1.0->tensorflowjs) (0.24.0)\n",
      "Requirement already satisfied: setuptools in ./venv/lib/python3.9/site-packages (from tensorflow<3,>=2.1.0->tensorflowjs) (57.0.0)\n",
      "Requirement already satisfied: absl-py>=0.4.0 in ./venv/lib/python3.9/site-packages (from tensorflow<3,>=2.1.0->tensorflowjs) (1.0.0)\n",
      "Requirement already satisfied: keras<2.9,>=2.8.0rc0 in ./venv/lib/python3.9/site-packages (from tensorflow<3,>=2.1.0->tensorflowjs) (2.8.0)\n",
      "Requirement already satisfied: flatbuffers>=1.12 in ./venv/lib/python3.9/site-packages (from tensorflow<3,>=2.1.0->tensorflowjs) (2.0)\n",
      "Requirement already satisfied: wrapt>=1.11.0 in ./venv/lib/python3.9/site-packages (from tensorflow<3,>=2.1.0->tensorflowjs) (1.13.3)\n",
      "Requirement already satisfied: wheel<1.0,>=0.23.0 in ./venv/lib/python3.9/site-packages (from astunparse>=1.6.0->tensorflow<3,>=2.1.0->tensorflowjs) (0.36.2)\n",
      "Requirement already satisfied: werkzeug>=0.11.15 in ./venv/lib/python3.9/site-packages (from tensorboard<2.9,>=2.8->tensorflow<3,>=2.1.0->tensorflowjs) (2.0.3)\n",
      "Requirement already satisfied: google-auth-oauthlib<0.5,>=0.4.1 in ./venv/lib/python3.9/site-packages (from tensorboard<2.9,>=2.8->tensorflow<3,>=2.1.0->tensorflowjs) (0.4.6)\n",
      "Requirement already satisfied: google-auth<3,>=1.6.3 in ./venv/lib/python3.9/site-packages (from tensorboard<2.9,>=2.8->tensorflow<3,>=2.1.0->tensorflowjs) (2.6.0)\n",
      "Requirement already satisfied: tensorboard-plugin-wit>=1.6.0 in ./venv/lib/python3.9/site-packages (from tensorboard<2.9,>=2.8->tensorflow<3,>=2.1.0->tensorflowjs) (1.8.1)\n",
      "Requirement already satisfied: markdown>=2.6.8 in ./venv/lib/python3.9/site-packages (from tensorboard<2.9,>=2.8->tensorflow<3,>=2.1.0->tensorflowjs) (3.3.6)\n",
      "Requirement already satisfied: tensorboard-data-server<0.7.0,>=0.6.0 in ./venv/lib/python3.9/site-packages (from tensorboard<2.9,>=2.8->tensorflow<3,>=2.1.0->tensorflowjs) (0.6.1)\n",
      "Requirement already satisfied: requests<3,>=2.21.0 in ./venv/lib/python3.9/site-packages (from tensorboard<2.9,>=2.8->tensorflow<3,>=2.1.0->tensorflowjs) (2.27.1)\n",
      "Requirement already satisfied: cachetools<6.0,>=2.0.0 in ./venv/lib/python3.9/site-packages (from google-auth<3,>=1.6.3->tensorboard<2.9,>=2.8->tensorflow<3,>=2.1.0->tensorflowjs) (5.0.0)\n",
      "Requirement already satisfied: pyasn1-modules>=0.2.1 in ./venv/lib/python3.9/site-packages (from google-auth<3,>=1.6.3->tensorboard<2.9,>=2.8->tensorflow<3,>=2.1.0->tensorflowjs) (0.2.8)\n",
      "Requirement already satisfied: rsa<5,>=3.1.4 in ./venv/lib/python3.9/site-packages (from google-auth<3,>=1.6.3->tensorboard<2.9,>=2.8->tensorflow<3,>=2.1.0->tensorflowjs) (4.8)\n",
      "Requirement already satisfied: requests-oauthlib>=0.7.0 in ./venv/lib/python3.9/site-packages (from google-auth-oauthlib<0.5,>=0.4.1->tensorboard<2.9,>=2.8->tensorflow<3,>=2.1.0->tensorflowjs) (1.3.1)\n",
      "Requirement already satisfied: importlib-metadata>=4.4 in ./venv/lib/python3.9/site-packages (from markdown>=2.6.8->tensorboard<2.9,>=2.8->tensorflow<3,>=2.1.0->tensorflowjs) (4.11.2)\n",
      "Requirement already satisfied: zipp>=0.5 in ./venv/lib/python3.9/site-packages (from importlib-metadata>=4.4->markdown>=2.6.8->tensorboard<2.9,>=2.8->tensorflow<3,>=2.1.0->tensorflowjs) (3.7.0)\n",
      "Requirement already satisfied: pyasn1<0.5.0,>=0.4.6 in ./venv/lib/python3.9/site-packages (from pyasn1-modules>=0.2.1->google-auth<3,>=1.6.3->tensorboard<2.9,>=2.8->tensorflow<3,>=2.1.0->tensorflowjs) (0.4.8)\n",
      "Requirement already satisfied: charset-normalizer~=2.0.0 in ./venv/lib/python3.9/site-packages (from requests<3,>=2.21.0->tensorboard<2.9,>=2.8->tensorflow<3,>=2.1.0->tensorflowjs) (2.0.12)\n",
      "Requirement already satisfied: certifi>=2017.4.17 in ./venv/lib/python3.9/site-packages (from requests<3,>=2.21.0->tensorboard<2.9,>=2.8->tensorflow<3,>=2.1.0->tensorflowjs) (2021.10.8)\n",
      "Requirement already satisfied: idna<4,>=2.5 in ./venv/lib/python3.9/site-packages (from requests<3,>=2.21.0->tensorboard<2.9,>=2.8->tensorflow<3,>=2.1.0->tensorflowjs) (3.3)\n",
      "Requirement already satisfied: urllib3<1.27,>=1.21.1 in ./venv/lib/python3.9/site-packages (from requests<3,>=2.21.0->tensorboard<2.9,>=2.8->tensorflow<3,>=2.1.0->tensorflowjs) (1.26.8)\n",
      "Requirement already satisfied: oauthlib>=3.0.0 in ./venv/lib/python3.9/site-packages (from requests-oauthlib>=0.7.0->google-auth-oauthlib<0.5,>=0.4.1->tensorboard<2.9,>=2.8->tensorflow<3,>=2.1.0->tensorflowjs) (3.2.0)\n",
      "Installing collected packages: tensorflowjs\n",
      "Successfully installed tensorflowjs-3.14.0\n",
      "\u001b[33mWARNING: You are using pip version 21.1.2; however, version 22.0.4 is available.\n",
      "You should consider upgrading via the '/Users/sebastien/PycharmProjects/IAProjetM1v5/venv/bin/python -m pip install --upgrade pip' command.\u001b[0m\n"
     ]
    }
   ],
   "source": [
    "!pip install tensorflowjs"
   ]
  },
  {
   "cell_type": "code",
   "execution_count": null,
   "metadata": {
    "id": "0oxbVynHpfDK"
   },
   "outputs": [],
   "source": [
    "command = \"tensorflowjs_converter --input_format=tf_saved_model --output_node_names='detection_boxes,detection_classes,detection_features,detection_multiclass_scores,detection_scores,num_detections,raw_detection_boxes,raw_detection_scores' --output_format=tfjs_graph_model --signature_name=serving_default {} {}\".format(os.path.join(paths['OUTPUT_PATH'], 'saved_model'), paths['TFJS_PATH'])"
   ]
  },
  {
   "cell_type": "code",
   "execution_count": null,
   "metadata": {
    "colab": {
     "base_uri": "https://localhost:8080/"
    },
    "id": "DB2AGNmJpfDK",
    "outputId": "fbc9f747-f511-47e8-df8f-5ea65cef0374"
   },
   "outputs": [],
   "source": [
    "print(command)"
   ]
  },
  {
   "cell_type": "code",
   "execution_count": null,
   "metadata": {
    "colab": {
     "base_uri": "https://localhost:8080/"
    },
    "id": "K7rfT4-hpfDK",
    "outputId": "532707fd-6feb-4bc6-84a3-325b5d16303c"
   },
   "outputs": [],
   "source": [
    "!{command}"
   ]
  },
  {
   "cell_type": "code",
   "execution_count": null,
   "metadata": {
    "id": "o8_hm-itpfDK"
   },
   "outputs": [],
   "source": [
    "# Test Code: https://github.com/nicknochnack/RealTimeSignLanguageDetectionwithTFJS"
   ]
  },
  {
   "cell_type": "markdown",
   "metadata": {
    "id": "VtUw73FHpfDK"
   },
   "source": [
    "# 12. Conversion to TFLite"
   ]
  },
  {
   "cell_type": "code",
   "execution_count": 15,
   "metadata": {
    "id": "XviMtewLpfDK"
   },
   "outputs": [],
   "source": [
    "TFLITE_SCRIPT = os.path.join(paths['APIMODEL_PATH'], 'research', 'object_detection', 'export_tflite_graph_tf2.py ')"
   ]
  },
  {
   "cell_type": "code",
   "execution_count": 16,
   "metadata": {
    "id": "us86cjC4pfDL"
   },
   "outputs": [],
   "source": [
    "command = \"python {} --pipeline_config_path={} --trained_checkpoint_dir={} --output_directory={}\".format(TFLITE_SCRIPT ,files['PIPELINE_CONFIG'], paths['CHECKPOINT_PATH'], paths['TFLITE_PATH'])"
   ]
  },
  {
   "cell_type": "code",
   "execution_count": 17,
   "metadata": {
    "colab": {
     "base_uri": "https://localhost:8080/"
    },
    "id": "n1r5YO3rpfDL",
    "outputId": "5fcdf7a4-eee2-4365-f1ca-1751968379ea"
   },
   "outputs": [
    {
     "name": "stdout",
     "output_type": "stream",
     "text": [
      "python Tensorflow/models/research/object_detection/export_tflite_graph_tf2.py  --pipeline_config_path=Tensorflow/workspace/models/my_ssd_mobnet/pipeline.config --trained_checkpoint_dir=Tensorflow/workspace/models/my_ssd_mobnet --output_directory=Tensorflow/workspace/models/my_ssd_mobnet/tfliteexport\n"
     ]
    }
   ],
   "source": [
    "print(command)"
   ]
  },
  {
   "cell_type": "code",
   "execution_count": null,
   "metadata": {
    "colab": {
     "base_uri": "https://localhost:8080/"
    },
    "id": "I-xWpHN8pfDL",
    "outputId": "7f6bacd8-d077-43b5-c131-5b081fba24a4"
   },
   "outputs": [],
   "source": [
    "!{command}"
   ]
  },
  {
   "cell_type": "code",
   "execution_count": null,
   "metadata": {
    "id": "iJfYMbN6pfDL"
   },
   "outputs": [],
   "source": [
    "FROZEN_TFLITE_PATH = os.path.join(paths['TFLITE_PATH'], 'saved_model')\n",
    "TFLITE_MODEL = os.path.join(paths['TFLITE_PATH'], 'saved_model', 'detect.tflite')"
   ]
  },
  {
   "cell_type": "code",
   "execution_count": null,
   "metadata": {},
   "outputs": [],
   "source": [
    "command = \"tflite_convert \\\n",
    "--saved_model_dir={} \\\n",
    "--output_file={} \\\n",
    "--input_shapes=1,300,300,3 \\\n",
    "--input_arrays=normalized_input_image_tensor \\\n",
    "--output_arrays='TFLite_Detection_PostProcess','TFLite_Detection_PostProcess:1','TFLite_Detection_PostProcess:2','TFLite_Detection_PostProcess:3' \\\n",
    "--inference_type=FLOAT \\\n",
    "--allow_custom_ops\".format(FROZEN_TFLITE_PATH, TFLITE_MODEL, )"
   ]
  },
  {
   "cell_type": "code",
   "execution_count": null,
   "metadata": {
    "colab": {
     "base_uri": "https://localhost:8080/"
    },
    "id": "E8GwUeoFpfDL",
    "outputId": "fac43ea4-cc85-471b-a362-e994b06fd583"
   },
   "outputs": [],
   "source": [
    "print(command)"
   ]
  },
  {
   "cell_type": "code",
   "execution_count": null,
   "metadata": {
    "colab": {
     "base_uri": "https://localhost:8080/"
    },
    "id": "Nbd7gqHMpfDL",
    "outputId": "7c8fe6d5-2415-4641-8548-39d425c202f7"
   },
   "outputs": [],
   "source": [
    "!{command}"
   ]
  },
  {
   "cell_type": "markdown",
   "metadata": {
    "id": "5NQqZRdA21Uc"
   },
   "source": [
    "# 13. Zip and Export Models "
   ]
  },
  {
   "cell_type": "code",
   "execution_count": null,
   "metadata": {
    "id": "tTVTGCQp2ZJJ"
   },
   "outputs": [],
   "source": [
    "!tar -czf models.tar.gz {paths['CHECKPOINT_PATH']}"
   ]
  },
  {
   "cell_type": "code",
   "execution_count": null,
   "metadata": {
    "colab": {
     "base_uri": "https://localhost:8080/"
    },
    "id": "whShhB0x3PYJ",
    "outputId": "b773201d-35c9-46a8-b893-4a76bd4d5d97"
   },
   "outputs": [],
   "source": [
    "from google.colab import drive\n",
    "drive.mount('/content/drive')"
   ]
  }
 ],
 "metadata": {
  "accelerator": "GPU",
  "colab": {
   "name": "3. Training and Detection.ipynb",
   "provenance": []
  },
  "kernelspec": {
   "display_name": "Python 3 (ipykernel)",
   "language": "python",
   "name": "python3"
  },
  "language_info": {
   "codemirror_mode": {
    "name": "ipython",
    "version": 3
   },
   "file_extension": ".py",
   "mimetype": "text/x-python",
   "name": "python",
   "nbconvert_exporter": "python",
   "pygments_lexer": "ipython3",
   "version": "3.9.10"
  }
 },
 "nbformat": 4,
 "nbformat_minor": 1
}
